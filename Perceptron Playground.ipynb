{
 "cells": [
  {
   "cell_type": "code",
   "execution_count": 1,
   "metadata": {},
   "outputs": [
    {
     "data": {
      "application/vnd.jupyter.widget-view+json": {
       "model_id": "035b2beb706f48c0ba36c7d410c944d6",
       "version_major": 2,
       "version_minor": 0
      },
      "text/plain": [
       "interactive(children=(FloatSlider(value=0.5, description='w1', max=1.0, min=-1.0), FloatSlider(value=0.5, desc…"
      ]
     },
     "metadata": {},
     "output_type": "display_data"
    }
   ],
   "source": [
    "from perceptron import play\n",
    "play()"
   ]
  }
 ],
 "metadata": {
  "kernelspec": {
   "display_name": "Python [conda env:pytorch]",
   "language": "python",
   "name": "conda-env-pytorch-py"
  },
  "language_info": {
   "codemirror_mode": {
    "name": "ipython",
    "version": 3
   },
   "file_extension": ".py",
   "mimetype": "text/x-python",
   "name": "python",
   "nbconvert_exporter": "python",
   "pygments_lexer": "ipython3",
   "version": "3.6.6"
  },
  "widgets": {
   "application/vnd.jupyter.widget-state+json": {
    "state": {
     "00933dce194c4c67adc37b5fa0194ff9": {
      "model_module": "@jupyter-widgets/controls",
      "model_module_version": "1.4.0",
      "model_name": "DropdownModel",
      "state": {
       "_model_module_version": "1.4.0",
       "_options_labels": [
        "and",
        "or",
        "not"
       ],
       "_view_module_version": "1.4.0",
       "description": "logic",
       "description_tooltip": null,
       "index": 1,
       "layout": "IPY_MODEL_df96fcaf60384eafa6fd4887b8e77d9f",
       "style": "IPY_MODEL_4665458b455b47288ff1a6dc6953713f"
      }
     },
     "009f83869e06411aaade353c57642ca3": {
      "model_module": "@jupyter-widgets/base",
      "model_module_version": "1.1.0",
      "model_name": "LayoutModel",
      "state": {
       "_model_module_version": "1.1.0",
       "_view_module_version": "1.1.0",
       "grid_area": null,
       "grid_auto_columns": null,
       "grid_auto_flow": null,
       "grid_auto_rows": null,
       "grid_column": null,
       "grid_gap": null,
       "grid_row": null,
       "grid_template_areas": null,
       "grid_template_columns": null,
       "grid_template_rows": null
      }
     },
     "035b2beb706f48c0ba36c7d410c944d6": {
      "model_module": "@jupyter-widgets/controls",
      "model_module_version": "1.4.0",
      "model_name": "VBoxModel",
      "state": {
       "_dom_classes": [
        "widget-interact"
       ],
       "_model_module_version": "1.4.0",
       "_view_module_version": "1.4.0",
       "children": [
        "IPY_MODEL_7346fe17fe3f4d82be92ffe4ea27ed27",
        "IPY_MODEL_471f2bdd787e449cb5d5ea989258f359",
        "IPY_MODEL_4c96276efe794ec1b22ad292ab309bfc",
        "IPY_MODEL_4b1d8f421b8845eaa17ce3176f3d6832",
        "IPY_MODEL_342f935be03248159ceb00a5483e2af4"
       ],
       "layout": "IPY_MODEL_e36db95ee2944dbdb78da7f35c0ba469"
      }
     },
     "03f660e671944f4cb90bf68b7f56e038": {
      "model_module": "@jupyter-widgets/controls",
      "model_module_version": "1.4.0",
      "model_name": "SliderStyleModel",
      "state": {
       "_model_module_version": "1.4.0",
       "_view_module_version": "1.1.0",
       "description_width": ""
      }
     },
     "05a6881611ba40b0856fc873e678dbbb": {
      "model_module": "@jupyter-widgets/base",
      "model_module_version": "1.1.0",
      "model_name": "LayoutModel",
      "state": {
       "_model_module_version": "1.1.0",
       "_view_module_version": "1.1.0",
       "grid_area": null,
       "grid_auto_columns": null,
       "grid_auto_flow": null,
       "grid_auto_rows": null,
       "grid_column": null,
       "grid_gap": null,
       "grid_row": null,
       "grid_template_areas": null,
       "grid_template_columns": null,
       "grid_template_rows": null
      }
     },
     "05f465020de4435bb8bcac854babc3d5": {
      "model_module": "@jupyter-widgets/base",
      "model_module_version": "1.1.0",
      "model_name": "LayoutModel",
      "state": {
       "_model_module_version": "1.1.0",
       "_view_module_version": "1.1.0",
       "grid_area": null,
       "grid_auto_columns": null,
       "grid_auto_flow": null,
       "grid_auto_rows": null,
       "grid_column": null,
       "grid_gap": null,
       "grid_row": null,
       "grid_template_areas": null,
       "grid_template_columns": null,
       "grid_template_rows": null
      }
     },
     "082e68d5a30a4bac931ac06b3a4ac457": {
      "model_module": "@jupyter-widgets/controls",
      "model_module_version": "1.4.0",
      "model_name": "VBoxModel",
      "state": {
       "_dom_classes": [
        "widget-interact"
       ],
       "_model_module_version": "1.4.0",
       "_view_module_version": "1.4.0",
       "children": [
        "IPY_MODEL_23e6a75424ac4ea4b99f2e5a897f5735",
        "IPY_MODEL_c771e84559854a769ea1bcf361815438",
        "IPY_MODEL_dc09df5b40f146c5ac516a8e1ff443a8",
        "IPY_MODEL_8bc2b61959d74074943c8516998cad16",
        "IPY_MODEL_0b11e8c387aa44739bbfe483c0e2b802"
       ],
       "layout": "IPY_MODEL_5ff5ec9751eb4cc7a19a64cf91aa226a"
      }
     },
     "08405f573654460782197d45029e74da": {
      "model_module": "@jupyter-widgets/base",
      "model_module_version": "1.1.0",
      "model_name": "LayoutModel",
      "state": {
       "_model_module_version": "1.1.0",
       "_view_module_version": "1.1.0",
       "grid_area": null,
       "grid_auto_columns": null,
       "grid_auto_flow": null,
       "grid_auto_rows": null,
       "grid_column": null,
       "grid_gap": null,
       "grid_row": null,
       "grid_template_areas": null,
       "grid_template_columns": null,
       "grid_template_rows": null
      }
     },
     "0939ec61afc746eab3d9c2a897ed0831": {
      "model_module": "@jupyter-widgets/controls",
      "model_module_version": "1.4.0",
      "model_name": "VBoxModel",
      "state": {
       "_dom_classes": [
        "widget-interact"
       ],
       "_model_module_version": "1.4.0",
       "_view_module_version": "1.4.0",
       "children": [
        "IPY_MODEL_305e350ea00b49d8ad2057177339d969",
        "IPY_MODEL_ff0a412a799e4f688356404b2a624f82",
        "IPY_MODEL_9f3826ac1d304e1b917bf3818409a5dc",
        "IPY_MODEL_3e08253e77454444b35cec6440f25af9",
        "IPY_MODEL_ff2b1f28d35541f0b9177fbfcece76a3"
       ],
       "layout": "IPY_MODEL_05f465020de4435bb8bcac854babc3d5"
      }
     },
     "0a1c1dce06e24e12b7790deb5ac06487": {
      "model_module": "@jupyter-widgets/base",
      "model_module_version": "1.1.0",
      "model_name": "LayoutModel",
      "state": {
       "_model_module_version": "1.1.0",
       "_view_module_version": "1.1.0",
       "grid_area": null,
       "grid_auto_columns": null,
       "grid_auto_flow": null,
       "grid_auto_rows": null,
       "grid_column": null,
       "grid_gap": null,
       "grid_row": null,
       "grid_template_areas": null,
       "grid_template_columns": null,
       "grid_template_rows": null
      }
     },
     "0a8e4c62ca6b4cb2999b6b826edadfb5": {
      "model_module": "@jupyter-widgets/controls",
      "model_module_version": "1.4.0",
      "model_name": "FloatSliderModel",
      "state": {
       "_model_module_version": "1.4.0",
       "_view_module_version": "1.4.0",
       "description": "w2",
       "description_tooltip": null,
       "layout": "IPY_MODEL_4a886583cbeb4fa29f7abbaf2e180e41",
       "max": 1,
       "min": -1,
       "step": 0.1,
       "style": "IPY_MODEL_f52eb11e06e94e2d9e1e8cd2ca4a3fbc",
       "value": 0.5
      }
     },
     "0b11e8c387aa44739bbfe483c0e2b802": {
      "model_module": "@jupyter-widgets/output",
      "model_module_version": "1.0.0",
      "model_name": "OutputModel",
      "state": {
       "layout": "IPY_MODEL_cf85c18f5dde472896f580ad3b035b80",
       "outputs": [
        {
         "data": {
          "application/javascript": "/* Put everything inside the global mpl namespace */\nwindow.mpl = {};\n\n\nmpl.get_websocket_type = function() {\n    if (typeof(WebSocket) !== 'undefined') {\n        return WebSocket;\n    } else if (typeof(MozWebSocket) !== 'undefined') {\n        return MozWebSocket;\n    } else {\n        alert('Your browser does not have WebSocket support.' +\n              'Please try Chrome, Safari or Firefox ≥ 6. ' +\n              'Firefox 4 and 5 are also supported but you ' +\n              'have to enable WebSockets in about:config.');\n    };\n}\n\nmpl.figure = function(figure_id, websocket, ondownload, parent_element) {\n    this.id = figure_id;\n\n    this.ws = websocket;\n\n    this.supports_binary = (this.ws.binaryType != undefined);\n\n    if (!this.supports_binary) {\n        var warnings = document.getElementById(\"mpl-warnings\");\n        if (warnings) {\n            warnings.style.display = 'block';\n            warnings.textContent = (\n                \"This browser does not support binary websocket messages. \" +\n                    \"Performance may be slow.\");\n        }\n    }\n\n    this.imageObj = new Image();\n\n    this.context = undefined;\n    this.message = undefined;\n    this.canvas = undefined;\n    this.rubberband_canvas = undefined;\n    this.rubberband_context = undefined;\n    this.format_dropdown = undefined;\n\n    this.image_mode = 'full';\n\n    this.root = $('<div/>');\n    this._root_extra_style(this.root)\n    this.root.attr('style', 'display: inline-block');\n\n    $(parent_element).append(this.root);\n\n    this._init_header(this);\n    this._init_canvas(this);\n    this._init_toolbar(this);\n\n    var fig = this;\n\n    this.waiting = false;\n\n    this.ws.onopen =  function () {\n            fig.send_message(\"supports_binary\", {value: fig.supports_binary});\n            fig.send_message(\"send_image_mode\", {});\n            if (mpl.ratio != 1) {\n                fig.send_message(\"set_dpi_ratio\", {'dpi_ratio': mpl.ratio});\n            }\n            fig.send_message(\"refresh\", {});\n        }\n\n    this.imageObj.onload = function() {\n            if (fig.image_mode == 'full') {\n                // Full images could contain transparency (where diff images\n                // almost always do), so we need to clear the canvas so that\n                // there is no ghosting.\n                fig.context.clearRect(0, 0, fig.canvas.width, fig.canvas.height);\n            }\n            fig.context.drawImage(fig.imageObj, 0, 0);\n        };\n\n    this.imageObj.onunload = function() {\n        fig.ws.close();\n    }\n\n    this.ws.onmessage = this._make_on_message_function(this);\n\n    this.ondownload = ondownload;\n}\n\nmpl.figure.prototype._init_header = function() {\n    var titlebar = $(\n        '<div class=\"ui-dialog-titlebar ui-widget-header ui-corner-all ' +\n        'ui-helper-clearfix\"/>');\n    var titletext = $(\n        '<div class=\"ui-dialog-title\" style=\"width: 100%; ' +\n        'text-align: center; padding: 3px;\"/>');\n    titlebar.append(titletext)\n    this.root.append(titlebar);\n    this.header = titletext[0];\n}\n\n\n\nmpl.figure.prototype._canvas_extra_style = function(canvas_div) {\n\n}\n\n\nmpl.figure.prototype._root_extra_style = function(canvas_div) {\n\n}\n\nmpl.figure.prototype._init_canvas = function() {\n    var fig = this;\n\n    var canvas_div = $('<div/>');\n\n    canvas_div.attr('style', 'position: relative; clear: both; outline: 0');\n\n    function canvas_keyboard_event(event) {\n        return fig.key_event(event, event['data']);\n    }\n\n    canvas_div.keydown('key_press', canvas_keyboard_event);\n    canvas_div.keyup('key_release', canvas_keyboard_event);\n    this.canvas_div = canvas_div\n    this._canvas_extra_style(canvas_div)\n    this.root.append(canvas_div);\n\n    var canvas = $('<canvas/>');\n    canvas.addClass('mpl-canvas');\n    canvas.attr('style', \"left: 0; top: 0; z-index: 0; outline: 0\")\n\n    this.canvas = canvas[0];\n    this.context = canvas[0].getContext(\"2d\");\n\n    var backingStore = this.context.backingStorePixelRatio ||\n\tthis.context.webkitBackingStorePixelRatio ||\n\tthis.context.mozBackingStorePixelRatio ||\n\tthis.context.msBackingStorePixelRatio ||\n\tthis.context.oBackingStorePixelRatio ||\n\tthis.context.backingStorePixelRatio || 1;\n\n    mpl.ratio = (window.devicePixelRatio || 1) / backingStore;\n\n    var rubberband = $('<canvas/>');\n    rubberband.attr('style', \"position: absolute; left: 0; top: 0; z-index: 1;\")\n\n    var pass_mouse_events = true;\n\n    canvas_div.resizable({\n        start: function(event, ui) {\n            pass_mouse_events = false;\n        },\n        resize: function(event, ui) {\n            fig.request_resize(ui.size.width, ui.size.height);\n        },\n        stop: function(event, ui) {\n            pass_mouse_events = true;\n            fig.request_resize(ui.size.width, ui.size.height);\n        },\n    });\n\n    function mouse_event_fn(event) {\n        if (pass_mouse_events)\n            return fig.mouse_event(event, event['data']);\n    }\n\n    rubberband.mousedown('button_press', mouse_event_fn);\n    rubberband.mouseup('button_release', mouse_event_fn);\n    // Throttle sequential mouse events to 1 every 20ms.\n    rubberband.mousemove('motion_notify', mouse_event_fn);\n\n    rubberband.mouseenter('figure_enter', mouse_event_fn);\n    rubberband.mouseleave('figure_leave', mouse_event_fn);\n\n    canvas_div.on(\"wheel\", function (event) {\n        event = event.originalEvent;\n        event['data'] = 'scroll'\n        if (event.deltaY < 0) {\n            event.step = 1;\n        } else {\n            event.step = -1;\n        }\n        mouse_event_fn(event);\n    });\n\n    canvas_div.append(canvas);\n    canvas_div.append(rubberband);\n\n    this.rubberband = rubberband;\n    this.rubberband_canvas = rubberband[0];\n    this.rubberband_context = rubberband[0].getContext(\"2d\");\n    this.rubberband_context.strokeStyle = \"#000000\";\n\n    this._resize_canvas = function(width, height) {\n        // Keep the size of the canvas, canvas container, and rubber band\n        // canvas in synch.\n        canvas_div.css('width', width)\n        canvas_div.css('height', height)\n\n        canvas.attr('width', width * mpl.ratio);\n        canvas.attr('height', height * mpl.ratio);\n        canvas.attr('style', 'width: ' + width + 'px; height: ' + height + 'px;');\n\n        rubberband.attr('width', width);\n        rubberband.attr('height', height);\n    }\n\n    // Set the figure to an initial 600x600px, this will subsequently be updated\n    // upon first draw.\n    this._resize_canvas(600, 600);\n\n    // Disable right mouse context menu.\n    $(this.rubberband_canvas).bind(\"contextmenu\",function(e){\n        return false;\n    });\n\n    function set_focus () {\n        canvas.focus();\n        canvas_div.focus();\n    }\n\n    window.setTimeout(set_focus, 100);\n}\n\nmpl.figure.prototype._init_toolbar = function() {\n    var fig = this;\n\n    var nav_element = $('<div/>')\n    nav_element.attr('style', 'width: 100%');\n    this.root.append(nav_element);\n\n    // Define a callback function for later on.\n    function toolbar_event(event) {\n        return fig.toolbar_button_onclick(event['data']);\n    }\n    function toolbar_mouse_event(event) {\n        return fig.toolbar_button_onmouseover(event['data']);\n    }\n\n    for(var toolbar_ind in mpl.toolbar_items) {\n        var name = mpl.toolbar_items[toolbar_ind][0];\n        var tooltip = mpl.toolbar_items[toolbar_ind][1];\n        var image = mpl.toolbar_items[toolbar_ind][2];\n        var method_name = mpl.toolbar_items[toolbar_ind][3];\n\n        if (!name) {\n            // put a spacer in here.\n            continue;\n        }\n        var button = $('<button/>');\n        button.addClass('ui-button ui-widget ui-state-default ui-corner-all ' +\n                        'ui-button-icon-only');\n        button.attr('role', 'button');\n        button.attr('aria-disabled', 'false');\n        button.click(method_name, toolbar_event);\n        button.mouseover(tooltip, toolbar_mouse_event);\n\n        var icon_img = $('<span/>');\n        icon_img.addClass('ui-button-icon-primary ui-icon');\n        icon_img.addClass(image);\n        icon_img.addClass('ui-corner-all');\n\n        var tooltip_span = $('<span/>');\n        tooltip_span.addClass('ui-button-text');\n        tooltip_span.html(tooltip);\n\n        button.append(icon_img);\n        button.append(tooltip_span);\n\n        nav_element.append(button);\n    }\n\n    var fmt_picker_span = $('<span/>');\n\n    var fmt_picker = $('<select/>');\n    fmt_picker.addClass('mpl-toolbar-option ui-widget ui-widget-content');\n    fmt_picker_span.append(fmt_picker);\n    nav_element.append(fmt_picker_span);\n    this.format_dropdown = fmt_picker[0];\n\n    for (var ind in mpl.extensions) {\n        var fmt = mpl.extensions[ind];\n        var option = $(\n            '<option/>', {selected: fmt === mpl.default_extension}).html(fmt);\n        fmt_picker.append(option)\n    }\n\n    // Add hover states to the ui-buttons\n    $( \".ui-button\" ).hover(\n        function() { $(this).addClass(\"ui-state-hover\");},\n        function() { $(this).removeClass(\"ui-state-hover\");}\n    );\n\n    var status_bar = $('<span class=\"mpl-message\"/>');\n    nav_element.append(status_bar);\n    this.message = status_bar[0];\n}\n\nmpl.figure.prototype.request_resize = function(x_pixels, y_pixels) {\n    // Request matplotlib to resize the figure. Matplotlib will then trigger a resize in the client,\n    // which will in turn request a refresh of the image.\n    this.send_message('resize', {'width': x_pixels, 'height': y_pixels});\n}\n\nmpl.figure.prototype.send_message = function(type, properties) {\n    properties['type'] = type;\n    properties['figure_id'] = this.id;\n    this.ws.send(JSON.stringify(properties));\n}\n\nmpl.figure.prototype.send_draw_message = function() {\n    if (!this.waiting) {\n        this.waiting = true;\n        this.ws.send(JSON.stringify({type: \"draw\", figure_id: this.id}));\n    }\n}\n\n\nmpl.figure.prototype.handle_save = function(fig, msg) {\n    var format_dropdown = fig.format_dropdown;\n    var format = format_dropdown.options[format_dropdown.selectedIndex].value;\n    fig.ondownload(fig, format);\n}\n\n\nmpl.figure.prototype.handle_resize = function(fig, msg) {\n    var size = msg['size'];\n    if (size[0] != fig.canvas.width || size[1] != fig.canvas.height) {\n        fig._resize_canvas(size[0], size[1]);\n        fig.send_message(\"refresh\", {});\n    };\n}\n\nmpl.figure.prototype.handle_rubberband = function(fig, msg) {\n    var x0 = msg['x0'] / mpl.ratio;\n    var y0 = (fig.canvas.height - msg['y0']) / mpl.ratio;\n    var x1 = msg['x1'] / mpl.ratio;\n    var y1 = (fig.canvas.height - msg['y1']) / mpl.ratio;\n    x0 = Math.floor(x0) + 0.5;\n    y0 = Math.floor(y0) + 0.5;\n    x1 = Math.floor(x1) + 0.5;\n    y1 = Math.floor(y1) + 0.5;\n    var min_x = Math.min(x0, x1);\n    var min_y = Math.min(y0, y1);\n    var width = Math.abs(x1 - x0);\n    var height = Math.abs(y1 - y0);\n\n    fig.rubberband_context.clearRect(\n        0, 0, fig.canvas.width, fig.canvas.height);\n\n    fig.rubberband_context.strokeRect(min_x, min_y, width, height);\n}\n\nmpl.figure.prototype.handle_figure_label = function(fig, msg) {\n    // Updates the figure title.\n    fig.header.textContent = msg['label'];\n}\n\nmpl.figure.prototype.handle_cursor = function(fig, msg) {\n    var cursor = msg['cursor'];\n    switch(cursor)\n    {\n    case 0:\n        cursor = 'pointer';\n        break;\n    case 1:\n        cursor = 'default';\n        break;\n    case 2:\n        cursor = 'crosshair';\n        break;\n    case 3:\n        cursor = 'move';\n        break;\n    }\n    fig.rubberband_canvas.style.cursor = cursor;\n}\n\nmpl.figure.prototype.handle_message = function(fig, msg) {\n    fig.message.textContent = msg['message'];\n}\n\nmpl.figure.prototype.handle_draw = function(fig, msg) {\n    // Request the server to send over a new figure.\n    fig.send_draw_message();\n}\n\nmpl.figure.prototype.handle_image_mode = function(fig, msg) {\n    fig.image_mode = msg['mode'];\n}\n\nmpl.figure.prototype.updated_canvas_event = function() {\n    // Called whenever the canvas gets updated.\n    this.send_message(\"ack\", {});\n}\n\n// A function to construct a web socket function for onmessage handling.\n// Called in the figure constructor.\nmpl.figure.prototype._make_on_message_function = function(fig) {\n    return function socket_on_message(evt) {\n        if (evt.data instanceof Blob) {\n            /* FIXME: We get \"Resource interpreted as Image but\n             * transferred with MIME type text/plain:\" errors on\n             * Chrome.  But how to set the MIME type?  It doesn't seem\n             * to be part of the websocket stream */\n            evt.data.type = \"image/png\";\n\n            /* Free the memory for the previous frames */\n            if (fig.imageObj.src) {\n                (window.URL || window.webkitURL).revokeObjectURL(\n                    fig.imageObj.src);\n            }\n\n            fig.imageObj.src = (window.URL || window.webkitURL).createObjectURL(\n                evt.data);\n            fig.updated_canvas_event();\n            fig.waiting = false;\n            return;\n        }\n        else if (typeof evt.data === 'string' && evt.data.slice(0, 21) == \"data:image/png;base64\") {\n            fig.imageObj.src = evt.data;\n            fig.updated_canvas_event();\n            fig.waiting = false;\n            return;\n        }\n\n        var msg = JSON.parse(evt.data);\n        var msg_type = msg['type'];\n\n        // Call the  \"handle_{type}\" callback, which takes\n        // the figure and JSON message as its only arguments.\n        try {\n            var callback = fig[\"handle_\" + msg_type];\n        } catch (e) {\n            console.log(\"No handler for the '\" + msg_type + \"' message type: \", msg);\n            return;\n        }\n\n        if (callback) {\n            try {\n                // console.log(\"Handling '\" + msg_type + \"' message: \", msg);\n                callback(fig, msg);\n            } catch (e) {\n                console.log(\"Exception inside the 'handler_\" + msg_type + \"' callback:\", e, e.stack, msg);\n            }\n        }\n    };\n}\n\n// from http://stackoverflow.com/questions/1114465/getting-mouse-location-in-canvas\nmpl.findpos = function(e) {\n    //this section is from http://www.quirksmode.org/js/events_properties.html\n    var targ;\n    if (!e)\n        e = window.event;\n    if (e.target)\n        targ = e.target;\n    else if (e.srcElement)\n        targ = e.srcElement;\n    if (targ.nodeType == 3) // defeat Safari bug\n        targ = targ.parentNode;\n\n    // jQuery normalizes the pageX and pageY\n    // pageX,Y are the mouse positions relative to the document\n    // offset() returns the position of the element relative to the document\n    var x = e.pageX - $(targ).offset().left;\n    var y = e.pageY - $(targ).offset().top;\n\n    return {\"x\": x, \"y\": y};\n};\n\n/*\n * return a copy of an object with only non-object keys\n * we need this to avoid circular references\n * http://stackoverflow.com/a/24161582/3208463\n */\nfunction simpleKeys (original) {\n  return Object.keys(original).reduce(function (obj, key) {\n    if (typeof original[key] !== 'object')\n        obj[key] = original[key]\n    return obj;\n  }, {});\n}\n\nmpl.figure.prototype.mouse_event = function(event, name) {\n    var canvas_pos = mpl.findpos(event)\n\n    if (name === 'button_press')\n    {\n        this.canvas.focus();\n        this.canvas_div.focus();\n    }\n\n    var x = canvas_pos.x * mpl.ratio;\n    var y = canvas_pos.y * mpl.ratio;\n\n    this.send_message(name, {x: x, y: y, button: event.button,\n                             step: event.step,\n                             guiEvent: simpleKeys(event)});\n\n    /* This prevents the web browser from automatically changing to\n     * the text insertion cursor when the button is pressed.  We want\n     * to control all of the cursor setting manually through the\n     * 'cursor' event from matplotlib */\n    event.preventDefault();\n    return false;\n}\n\nmpl.figure.prototype._key_event_extra = function(event, name) {\n    // Handle any extra behaviour associated with a key event\n}\n\nmpl.figure.prototype.key_event = function(event, name) {\n\n    // Prevent repeat events\n    if (name == 'key_press')\n    {\n        if (event.which === this._key)\n            return;\n        else\n            this._key = event.which;\n    }\n    if (name == 'key_release')\n        this._key = null;\n\n    var value = '';\n    if (event.ctrlKey && event.which != 17)\n        value += \"ctrl+\";\n    if (event.altKey && event.which != 18)\n        value += \"alt+\";\n    if (event.shiftKey && event.which != 16)\n        value += \"shift+\";\n\n    value += 'k';\n    value += event.which.toString();\n\n    this._key_event_extra(event, name);\n\n    this.send_message(name, {key: value,\n                             guiEvent: simpleKeys(event)});\n    return false;\n}\n\nmpl.figure.prototype.toolbar_button_onclick = function(name) {\n    if (name == 'download') {\n        this.handle_save(this, null);\n    } else {\n        this.send_message(\"toolbar_button\", {name: name});\n    }\n};\n\nmpl.figure.prototype.toolbar_button_onmouseover = function(tooltip) {\n    this.message.textContent = tooltip;\n};\nmpl.toolbar_items = [[\"Home\", \"Reset original view\", \"fa fa-home icon-home\", \"home\"], [\"Back\", \"Back to  previous view\", \"fa fa-arrow-left icon-arrow-left\", \"back\"], [\"Forward\", \"Forward to next view\", \"fa fa-arrow-right icon-arrow-right\", \"forward\"], [\"\", \"\", \"\", \"\"], [\"Pan\", \"Pan axes with left mouse, zoom with right\", \"fa fa-arrows icon-move\", \"pan\"], [\"Zoom\", \"Zoom to rectangle\", \"fa fa-square-o icon-check-empty\", \"zoom\"], [\"\", \"\", \"\", \"\"], [\"Download\", \"Download plot\", \"fa fa-floppy-o icon-save\", \"download\"]];\n\nmpl.extensions = [\"eps\", \"jpeg\", \"pdf\", \"png\", \"ps\", \"raw\", \"svg\", \"tif\"];\n\nmpl.default_extension = \"png\";var comm_websocket_adapter = function(comm) {\n    // Create a \"websocket\"-like object which calls the given IPython comm\n    // object with the appropriate methods. Currently this is a non binary\n    // socket, so there is still some room for performance tuning.\n    var ws = {};\n\n    ws.close = function() {\n        comm.close()\n    };\n    ws.send = function(m) {\n        //console.log('sending', m);\n        comm.send(m);\n    };\n    // Register the callback with on_msg.\n    comm.on_msg(function(msg) {\n        //console.log('receiving', msg['content']['data'], msg);\n        // Pass the mpl event to the overridden (by mpl) onmessage function.\n        ws.onmessage(msg['content']['data'])\n    });\n    return ws;\n}\n\nmpl.mpl_figure_comm = function(comm, msg) {\n    // This is the function which gets called when the mpl process\n    // starts-up an IPython Comm through the \"matplotlib\" channel.\n\n    var id = msg.content.data.id;\n    // Get hold of the div created by the display call when the Comm\n    // socket was opened in Python.\n    var element = $(\"#\" + id);\n    var ws_proxy = comm_websocket_adapter(comm)\n\n    function ondownload(figure, format) {\n        window.open(figure.imageObj.src);\n    }\n\n    var fig = new mpl.figure(id, ws_proxy,\n                           ondownload,\n                           element.get(0));\n\n    // Call onopen now - mpl needs it, as it is assuming we've passed it a real\n    // web socket which is closed, not our websocket->open comm proxy.\n    ws_proxy.onopen();\n\n    fig.parent_element = element.get(0);\n    fig.cell_info = mpl.find_output_cell(\"<div id='\" + id + \"'></div>\");\n    if (!fig.cell_info) {\n        console.error(\"Failed to find cell for figure\", id, fig);\n        return;\n    }\n\n    var output_index = fig.cell_info[2]\n    var cell = fig.cell_info[0];\n\n};\n\nmpl.figure.prototype.handle_close = function(fig, msg) {\n    var width = fig.canvas.width/mpl.ratio\n    fig.root.unbind('remove')\n\n    // Update the output cell to use the data from the current canvas.\n    fig.push_to_output();\n    var dataURL = fig.canvas.toDataURL();\n    // Re-enable the keyboard manager in IPython - without this line, in FF,\n    // the notebook keyboard shortcuts fail.\n    IPython.keyboard_manager.enable()\n    $(fig.parent_element).html('<img src=\"' + dataURL + '\" width=\"' + width + '\">');\n    fig.close_ws(fig, msg);\n}\n\nmpl.figure.prototype.close_ws = function(fig, msg){\n    fig.send_message('closing', msg);\n    // fig.ws.close()\n}\n\nmpl.figure.prototype.push_to_output = function(remove_interactive) {\n    // Turn the data on the canvas into data in the output cell.\n    var width = this.canvas.width/mpl.ratio\n    var dataURL = this.canvas.toDataURL();\n    this.cell_info[1]['text/html'] = '<img src=\"' + dataURL + '\" width=\"' + width + '\">';\n}\n\nmpl.figure.prototype.updated_canvas_event = function() {\n    // Tell IPython that the notebook contents must change.\n    IPython.notebook.set_dirty(true);\n    this.send_message(\"ack\", {});\n    var fig = this;\n    // Wait a second, then push the new image to the DOM so\n    // that it is saved nicely (might be nice to debounce this).\n    setTimeout(function () { fig.push_to_output() }, 1000);\n}\n\nmpl.figure.prototype._init_toolbar = function() {\n    var fig = this;\n\n    var nav_element = $('<div/>')\n    nav_element.attr('style', 'width: 100%');\n    this.root.append(nav_element);\n\n    // Define a callback function for later on.\n    function toolbar_event(event) {\n        return fig.toolbar_button_onclick(event['data']);\n    }\n    function toolbar_mouse_event(event) {\n        return fig.toolbar_button_onmouseover(event['data']);\n    }\n\n    for(var toolbar_ind in mpl.toolbar_items){\n        var name = mpl.toolbar_items[toolbar_ind][0];\n        var tooltip = mpl.toolbar_items[toolbar_ind][1];\n        var image = mpl.toolbar_items[toolbar_ind][2];\n        var method_name = mpl.toolbar_items[toolbar_ind][3];\n\n        if (!name) { continue; };\n\n        var button = $('<button class=\"btn btn-default\" href=\"#\" title=\"' + name + '\"><i class=\"fa ' + image + ' fa-lg\"></i></button>');\n        button.click(method_name, toolbar_event);\n        button.mouseover(tooltip, toolbar_mouse_event);\n        nav_element.append(button);\n    }\n\n    // Add the status bar.\n    var status_bar = $('<span class=\"mpl-message\" style=\"text-align:right; float: right;\"/>');\n    nav_element.append(status_bar);\n    this.message = status_bar[0];\n\n    // Add the close button to the window.\n    var buttongrp = $('<div class=\"btn-group inline pull-right\"></div>');\n    var button = $('<button class=\"btn btn-mini btn-primary\" href=\"#\" title=\"Stop Interaction\"><i class=\"fa fa-power-off icon-remove icon-large\"></i></button>');\n    button.click(function (evt) { fig.handle_close(fig, {}); } );\n    button.mouseover('Stop Interaction', toolbar_mouse_event);\n    buttongrp.append(button);\n    var titlebar = this.root.find($('.ui-dialog-titlebar'));\n    titlebar.prepend(buttongrp);\n}\n\nmpl.figure.prototype._root_extra_style = function(el){\n    var fig = this\n    el.on(\"remove\", function(){\n\tfig.close_ws(fig, {});\n    });\n}\n\nmpl.figure.prototype._canvas_extra_style = function(el){\n    // this is important to make the div 'focusable\n    el.attr('tabindex', 0)\n    // reach out to IPython and tell the keyboard manager to turn it's self\n    // off when our div gets focus\n\n    // location in version 3\n    if (IPython.notebook.keyboard_manager) {\n        IPython.notebook.keyboard_manager.register_events(el);\n    }\n    else {\n        // location in version 2\n        IPython.keyboard_manager.register_events(el);\n    }\n\n}\n\nmpl.figure.prototype._key_event_extra = function(event, name) {\n    var manager = IPython.notebook.keyboard_manager;\n    if (!manager)\n        manager = IPython.keyboard_manager;\n\n    // Check for shift+enter\n    if (event.shiftKey && event.which == 13) {\n        this.canvas_div.blur();\n        event.shiftKey = false;\n        // Send a \"J\" for go to next cell\n        event.which = 74;\n        event.keyCode = 74;\n        manager.command_mode();\n        manager.handle_keydown(event);\n    }\n}\n\nmpl.figure.prototype.handle_save = function(fig, msg) {\n    fig.ondownload(fig, null);\n}\n\n\nmpl.find_output_cell = function(html_output) {\n    // Return the cell and output element which can be found *uniquely* in the notebook.\n    // Note - this is a bit hacky, but it is done because the \"notebook_saving.Notebook\"\n    // IPython event is triggered only after the cells have been serialised, which for\n    // our purposes (turning an active figure into a static one), is too late.\n    var cells = IPython.notebook.get_cells();\n    var ncells = cells.length;\n    for (var i=0; i<ncells; i++) {\n        var cell = cells[i];\n        if (cell.cell_type === 'code'){\n            for (var j=0; j<cell.output_area.outputs.length; j++) {\n                var data = cell.output_area.outputs[j];\n                if (data.data) {\n                    // IPython >= 3 moved mimebundle to data attribute of output\n                    data = data.data;\n                }\n                if (data['text/html'] == html_output) {\n                    return [cell, data, j];\n                }\n            }\n        }\n    }\n}\n\n// Register the function which deals with the matplotlib target/channel.\n// The kernel may be null if the page has been refreshed.\nif (IPython.notebook.kernel != null) {\n    IPython.notebook.kernel.comm_manager.register_target('matplotlib', mpl.mpl_figure_comm);\n}\n",
          "text/plain": "<IPython.core.display.Javascript object>"
         },
         "metadata": {},
         "output_type": "display_data"
        },
        {
         "data": {
          "text/html": "<div id='a3d4c915-9f18-45f7-969b-204448ca8771'></div>",
          "text/plain": "<IPython.core.display.HTML object>"
         },
         "metadata": {},
         "output_type": "display_data"
        }
       ]
      }
     },
     "0b1aff74a6e9493b97af7ba8c0abe56e": {
      "model_module": "@jupyter-widgets/controls",
      "model_module_version": "1.4.0",
      "model_name": "SliderStyleModel",
      "state": {
       "_model_module_version": "1.4.0",
       "_view_module_version": "1.1.0",
       "description_width": ""
      }
     },
     "0b2b548181764b2aa3f2e2218a026d39": {
      "model_module": "@jupyter-widgets/controls",
      "model_module_version": "1.4.0",
      "model_name": "SliderStyleModel",
      "state": {
       "_model_module_version": "1.4.0",
       "_view_module_version": "1.1.0",
       "description_width": ""
      }
     },
     "0c0bd17e61de4e00ac7da15ee20df65d": {
      "model_module": "@jupyter-widgets/base",
      "model_module_version": "1.1.0",
      "model_name": "LayoutModel",
      "state": {
       "_model_module_version": "1.1.0",
       "_view_module_version": "1.1.0",
       "grid_area": null,
       "grid_auto_columns": null,
       "grid_auto_flow": null,
       "grid_auto_rows": null,
       "grid_column": null,
       "grid_gap": null,
       "grid_row": null,
       "grid_template_areas": null,
       "grid_template_columns": null,
       "grid_template_rows": null
      }
     },
     "0dfe9b870420443199ac0e1e7973be7f": {
      "model_module": "@jupyter-widgets/controls",
      "model_module_version": "1.4.0",
      "model_name": "SliderStyleModel",
      "state": {
       "_model_module_version": "1.4.0",
       "_view_module_version": "1.1.0",
       "description_width": ""
      }
     },
     "0f068da17375412089d5c3a7a6e336c6": {
      "model_module": "@jupyter-widgets/controls",
      "model_module_version": "1.4.0",
      "model_name": "DropdownModel",
      "state": {
       "_model_module_version": "1.4.0",
       "_options_labels": [
        "and",
        "or",
        "not"
       ],
       "_view_module_version": "1.4.0",
       "description": "logic",
       "description_tooltip": null,
       "index": 1,
       "layout": "IPY_MODEL_c5e1a1deead04202bae09a28006a9da1",
       "style": "IPY_MODEL_adc6d4b7969a4adc8e50a4e6f8f27ca3"
      }
     },
     "0f0b73990aaf46f4b864f6a6c2c8df57": {
      "model_module": "@jupyter-widgets/controls",
      "model_module_version": "1.4.0",
      "model_name": "VBoxModel",
      "state": {
       "_dom_classes": [
        "widget-interact"
       ],
       "_model_module_version": "1.4.0",
       "_view_module_version": "1.4.0",
       "children": [
        "IPY_MODEL_d9175e8cdae4433a8b2a7412474bf385",
        "IPY_MODEL_615d111a165848259d85b2981f8c3a73",
        "IPY_MODEL_8767034109fa462197866f6b41bcc683",
        "IPY_MODEL_00933dce194c4c67adc37b5fa0194ff9",
        "IPY_MODEL_3f9d385fc45b477a8bcdfc9e283f0a82"
       ],
       "layout": "IPY_MODEL_cfce34df96a04e9bb4d65bc37e63a045"
      }
     },
     "106a0af4cce241fdada2e4a3383f8bfd": {
      "model_module": "@jupyter-widgets/controls",
      "model_module_version": "1.4.0",
      "model_name": "SliderStyleModel",
      "state": {
       "_model_module_version": "1.4.0",
       "_view_module_version": "1.1.0",
       "description_width": ""
      }
     },
     "10bf360d3682403c969e3364c20d6ea0": {
      "model_module": "@jupyter-widgets/output",
      "model_module_version": "1.0.0",
      "model_name": "OutputModel",
      "state": {
       "layout": "IPY_MODEL_7b234639f7654c36869f41f3610e6a43",
       "outputs": [
        {
         "data": {
          "image/png": "iVBORw0KGgoAAAANSUhEUgAAAecAAAHjCAYAAAAZnNdCAAAABHNCSVQICAgIfAhkiAAAAAlwSFlzAAALEgAACxIB0t1+/AAAADl0RVh0U29mdHdhcmUAbWF0cGxvdGxpYiB2ZXJzaW9uIDIuMi4zLCBodHRwOi8vbWF0cGxvdGxpYi5vcmcvIxREBQAAIABJREFUeJzt3XuwXWV98PHvLzciN6kh3kggqKiNV/AMYr2UCnYgatIWL1gdBS+pok5fdbS+aKdKy3TQt1atiEXlxVqraIe35hUrjoLyDgiSFLECRkIECVpuIhUiBpLf+8faISeHc1nnZO29nr329zOz5uy913P2erLmJN+stdfeJzITSZJUjnltT0CSJO3OOEuSVBjjLElSYYyzJEmFMc6SJBXGOEuSVBjjLLUkIs6NiK81/JxHR0RGxIFNPq+kwTLOUrdcBjwGuLPJJ42IxRHxlxFxXUTcFxG/jIivRcSzJ4w7qfefg53LrRHxfyPiKU3OR+o64yx1SGZuy8z/ygY/XSgiFgHfBN4M/A3wJOAY4Dbg/0XESyd8y1aq/yA8FngxsA9wQe95JNVgnKVCRMReEfHR3tHmfRFxeUQ8b8KYF0fExt76SyLixN4R6ore+oec1o6IoyLiooi4NyLu7t1+7Cym9j+A5wEvzcwvZOZNmXlVZr4e+Drw2YjYe9z47P0H4ReZuR74e+AQqqhLqsE4S+X4EPBK4PXA4cB/At+IiMcARMTBwPnABcAzgI/3vmdKEfEM4GJgE/Bc4CjgPGBBb/1J4+M+hVcD38rM/5hk3YeBpcCLptj+AcCf9u7eP91cJe2yoO0JSIKI2Ad4C/DGzLyg99ibgRcCbwXe31u/OTPf2fu2jRHxROD0aZ76PcAPMnPtuMeuG3f7bmAj04fzicB3plh3be/r+KPifSLiHiCAnUfU6zLzx9NsQ9I4HjlLZXg8sBC4dOcDmbkd+B6wsvfQk4ErJ3zfFTM87+HARVOtzMz/k5lPzsxbZj3jqW0Fngk8C/gz4PreV0k1eeQsla/tXx33E3b9B2GilePG7JSZual3+8e90/JfBP6gT/OTOscjZ6kMNwDbqF4XBiAi5gPPYdep4x8DYxO+78gZnvcqqlPje+JfgGMi4ohJ1r0HuIPqau6p/D1wRET8yR7OQxoZxlkqQGbeC5wFnBERqyLid3v3HwV8sjfsU8DjI+J/RcSTerHbebp4qqPrDwOHR8TZEfGM3ve9sXdxGRHxxxHx44g4aJrpfZTq9Pq6iPjTiDgkIp4ZEecAxwNvyMyt0/zZ/hv4DPDBiPDfHKkG/6JI5fgLqiup/zfwA+DpwHGZ+QuAzLwJOAFYDVwNvAP4YO9775vsCTPzB8CxVK9XX071GvWJ7LoA7OFUF3MtnGpSmfnb3nN8GvgrqlPY36H6j8MLMnNdjT/bx3pzOLHGWGnkRYOfVSBpwCLiz4HTgAOa/OARSe3ygjBpiETEW6mu2L6d6j3Lfwmca5ilbjHO0nB5AnAqsATYQvU69GmtzkhS4zytLUlSYbwgTJKkwhhnSZIK09przgdG5Iq2Ni5NsIFntT0FSZ234Y7MXFpnZGtxXgGsb2vj0kNsIFr/lExJ3RY31R3paW2pJ4m2pyBJgHGWdmOgJZXAOEsTGGhJbTPO0iQMtKQ2GWdpCgZaUluMszQNAy2pDcZZmoGBljRoxlmqwUBLGiTjLNVkoCUNinGWZsFASxqEbv4+50c9Co49Fn7nd+Dee+Gyy2DjxrZnpY5Iwo/6lDpg4UL4wz+E5cshE264AS66CHbsaHtmXYvz054Gp55KnnACsXDh7usuugg+9CG48MJ25qZOMdDS8NpvP3j3u+FNb4JHP3r3dTfeCGedBR/9KGzb1sr0AIjMdv6BGYvIRn/xxapV5Fe+Quy9N9u3J9/4RnDTTfCIR8BLX5rss0/vdOR73gMf/nCTW9YIM9DScHnUo6pjtGc8o7r/ox/BpZfCvHnwwhfC4x9fPf7d78JLXgL33NPk1mNDZo7VGpqZrSzPqs4iNLMccUTu2Lo1MzPPPTdz2bLdV++/f+b735+5ffuOzMzM1762uW27jPxSwBRcXFxqLIsWZV55ZZWB667LfP7zd18fkXn88ZlbtlRjLrig6Tmwvm4jZx4A5wC3AT+aYn0AHwc2AT8Ejhh4nL/2tczM/Mxnph/25jdXOzy3bMlcsKD9nxSXziwFTMHFxWWG5TWvqRKweXPm0qVTj3v84zPvuKMae/TRTc6hfpzrXK19LnDcNOuPBw7rLWuBs2odsjfl0EPJ44/nvvuSv/iL6Yd+6lPw4x8DBx0Eq1cPZHoaDV7FLZXvlFOqr6efDrffPvW4G26Af/iH3b9n0GaMc2ZeAvxymiFrgH/qHZNeDhwQEY9paoIzeulLiXnzOP/84M47Zx5+9tm9G3/0R32dlkaPgZbKtXQpPOc51WvIX/zizOM//enq65o1EC381W7ifc4HATePu7+l99hgLFkCwE9+Um/49df3bjziEf2Zj0aagZbK1EsFt9wCW7fOPP7nP69CvmgR7Ltvf+c2mYF+CElErI2I9RGxfpozCrPzm98AsP/+9Ybvt1/vxn33NTUDaTcGWipPLxW7GjCDhQth8eLqdhu5aCLOtwDLx91f1nvsITLz7Mwcy8yxpQ1sGID11RuyXvay6lL4mbziFbt/n9QPBloqy5YtcOut8NjHwnOfO/P4P/kTWLAArr4a7r+///ObqIk4rwNeG5WjgLsz8xcNPG893/42XH89Bx8Mr3zl9EOf/OTqPc+5bRucc85g5qeRZaClcmzfvut15He/e/qx8+fDO95R3T5rsJc471LjrVRfBH4B3E/1evIbgDcDbx73VqozgRuA/wTGBv5Wqt57pH796x15zDGTD3nCE6rL5zMz87Ofbf+afpeRWQqYgouLC9VnYNxzT5WBv/u76n3NE8csXJj5z/9cjbn11sx9921yDvXfStWdTwg75xw4+WQAvvlN+Mxnqo9hW7IEXv1qePnLk732CrjiiupjYOpcESA1xE8Sk8rwkpfA+edXrynfcEN1ZHzZZdUV2cceC2vXVu+2veceeNGL4PLLm9x6/U8I606cI+C008h3vYt42MMesjp37CDOO6/6MNV7721yy1ItBloqwzHHVAdwK1ZMvv6aa+C1r4X/+I+mtzyKcd7pgAPgda+DF79412+luvTS6g3ON93Ujy1KtRloqQzz5sHxx1e5GP9bqT77WfjOd/q11VGOs1Q4Ay2NqvpxHuj7nCXhVdySZmScpRYYaEnTMc5SSwy0pKkYZ6lFBlrSZIyz1DIDLWki4ywVwEBLGs84S4Uw0JJ2Ms5SQQy0JDDOUnEMtCTjLBXIQEujzThLhTLQ0ugyzlLBDLQ0moyzVDgDLY0e4ywNAQMtjRbjLA0JAy2NDuMsDREDLY0G4ywNGQMtdZ9xloaQgZa6zThLQ8pAS91lnKUhZqClbjLO0pAz0FL3GGepAwy01C3GWeoIAy11h3GWOsRAS91gnKWOMdDS8DPOUgcZaGm4GWepowy0NLyMs9RhBloaTsZZ6jgDLQ0f4yyNAAMtDRfjLI0IAy0ND+MsjRADLQ0H4yyNGAMtlc84SyPIQEtlM87SiDLQUrmMszTCDLRUJuMsjTgDLZXHOEsy0FJhjLMkwEBLJTHOkh5koKUyGGdJuzHQUvuMs6SHMNBSu4yzpEkZaKk9xlnSlAy01A7jLGlaBloaPOMsaUYGWhos4yypFgMtDY5xllSbgZYGwzhLmhUDLfWfcZY0awZa6i/jLGlODLTUP8ZZ0pwZaKk/jLOkPWKgpeYZZ0l7zEBLzTLOkhphoKXmGGdJjTHQUjOMs6RGGWhpzxlnSY0z0NKeMc6S+sJAS3NnnCX1jYGW5sY4S+orAy3NnnGW1HcGWpod4yxpIAy0VJ9xljQwBlqqxzhLGigDLc3MOEsaOAMtTc84S2qFgZamVivOEXFcRGyMiE0R8d5J1h8cERdHxFUR8cOIWNX8VCV1jYGWJjdjnCNiPnAmcDywEnhVRKycMOz9wJcz83DgROCTTU9UUjcZaOmh6hw5HwlsyszNmbkN+BKwZsKYBPbv3X448PPmpiip6wy0tLsFNcYcBNw87v4W4NkTxnwA+GZEvB3YBzi2kdlJGhlJEGTb05CK0NQFYa8Czs3MZcAq4PMR8ZDnjoi1EbE+Itbf3tCGJXWHR9BSpU6cbwGWj7u/rPfYeG8AvgyQmd8DFgMHTnyizDw7M8cyc2zp3OYrqeMMtFQvzlcCh0XEoRGxiOqCr3UTxvwMOAYgIn6XKs4eHEuaEwOtUTdjnDPzAeBtwIXAdVRXZV8TEadFxOresHcBb4qIq4EvAidlpi8eSZozA61RFm01dCwi17eyZUnDxIvE1B2xITPH6oz0E8IkFc0jaI0i4yypeAZao8Y4SxoKBlqjxDhLGhoGWqPCOEsaKgZao8A4Sxo6BlpdZ5wlDSUDrS4zzpKGloFWVxlnSUPNQKuLjLOkoWeg1TXGWVInGGh1iXGW1BkGWl1hnCV1ioFWFxhnSZ1joDXsjLOkTjLQGmbGWVJnGWgNK+MsqdMMtIaRcZbUeQZaw8Y4SxoJBlrDxDhLGhkGWsPCOEsaKQZaw8A4Sxo5BlqlM86SRpKBVsmMs6SRZaBVKuMsaaQZaJXIOEsaeQZapTHOkoSBVlmMsyT1GGiVwjhL0jgGWiUwzpI0gYFW24yzJE3CQKtNxlmSpmCg1RbjLEnTMNBqg3GWpBkYaA2acZakGgy0Bsk4S1JNBlqDYpwlaRYMtAbBOEvSLBlo9ZtxlqQ5MNDqJ+MsSXNkoNUvxlmS9oCBVj8YZ0naQwZaTTPOktQAA60mGWdJaoiBVlOMsyQ1yECrCcZZkhpmoLWnjLMk9YGB1p4wzpLUJwZac2WcJamPDLTmwjhLUp8ZaM2WcZakATDQmg3jLEkDYqBVl3GWpAEy0KrDOEvSgBlozcQ4S1ILDLSmY5wlqSUGWlMxzpLUIgOtyRhnSWqZgdZExlmSCmCgNZ5xlqRCGGjtZJwlqSAGWmCcJak4BlrGWZIKZKBHm3GWpEIZ6NFlnCWpYAZ6NBlnSSqcgR49xlmShoCBHi3GWZKGhIEeHcZZkoaIgR4NxlmShoyB7r5acY6I4yJiY0Rsioj3TjHmFRFxbURcExH/0uw0JUnjGehuWzDTgIiYD5wJvAjYAlwZEesy89pxYw4D/ifw3My8KyIe2a8JS5IqSRBk29NQH9Q5cj4S2JSZmzNzG/AlYM2EMW8CzszMuwAy87ZmpylJmoxH0N1UJ84HATePu7+l99h4TwSeGBGXRsTlEXFcUxOUJE3PQHfPjKe1Z/E8hwFHA8uASyLiaZn5q/GDImItsBbg4IY2LEnyFHfX1DlyvgVYPu7+st5j420B1mXm/Zn5U+AnVLHeTWaenZljmTm2dK4zliRNyiPo7qgT5yuBwyLi0IhYBJwIrJsw5t+ojpqJiAOpTnNvbnCekqQaDHQ3zBjnzHwAeBtwIXAd8OXMvCYiTouI1b1hFwJ3RsS1wMXAuzPzzn5NWpI0NQM9/CKzndcoxiJyfStblqTR4GvQpYkNmTlWZ6SfECZJHeUR9PAyzpLUYQZ6OBlnSeo4Az18jLMkjQADPVyMsySNCAM9PIyzJI0QAz0cjLMkjRgDXT7jLEkjyECXzThL0ogy0OUyzpI0wgx0mYyzJI04A10e4yxJMtCFMc6SJMBAl8Q4S5IeZKDLYJwlSbsx0O0zzpKkhzDQ7TLOkqRJGej2GGdJ0pQMdDuMsyRpWgZ68IyzJGlGBnqwjLMkqRYDPTjGWZJUm4EeDOMsSZoVA91/xlmSNGsGur+MsyRpTgx0/xhnSdKcGej+MM6SpD1ioJtnnCVJe8xAN8s4S5IaYaCbY5wlSY0x0M0wzpKkRhnoPWecJUmNM9B7xjhLkvrCQM+dcZYk9Y2BnhvjLEnqKwM9e8ZZktR3Bnp2jLMkaSAMdH3GWZI0MAa6HuMsSRooAz0z4yxJGjgDPT3jLElqhYGemnGWJLXGQE/OOEuSWmWgH8o4S5JaZ6B3Z5wlSUUw0LsYZ0lSMQx0xThLkopioI2zJKlAox5o4yxJKtIoB9o4S5KKNaqBNs6SpKKNYqCNsySpeKMWaOMsSRoKoxRo4yxJGhqjEmjjLEkaKqMQaOMsSRo6XQ+0cZYkDaUuB9o4S5KGVlcDbZwlSUOti4E2zpKkode1QBtnSVIndCnQxlmS1BldCbRxliR1ShcCbZwlSZ0z7IE2zpKkThrmQBtnSVJnDWugjbMkqdOGMdDGWZLUecMWaOMsSRoJwxRo4yxJGhnDEuhacY6I4yJiY0Rsioj3TjPuhIjIiBhrboqSJDVnGAI9Y5wjYj5wJnA8sBJ4VUSsnGTcfsCfA1c0PUlJkppUeqDrHDkfCWzKzM2ZuQ34ErBmknF/DZwB3Nfg/CRJ6ouSA10nzgcBN4+7v6X32IMi4ghgeWZe0ODcJEnqq1IDvWBPnyAi5gEfAU6qMXYtsBbg4D3dsCRJDUiCINuexm7qHDnfAiwfd39Z77Gd9gOeCnwnIm4EjgLWTXZRWGaenZljmTm2dO5zliSpUaUdQdeJ85XAYRFxaEQsAk4E1u1cmZl3Z+aBmbkiM1cAlwOrM3N9X2YsSVIflBToGeOcmQ8AbwMuBK4DvpyZ10TEaRGxut8TlCRpUEoJdGS2c559LMJDa0lSkfrzGnRsyMxanwPiJ4RJkjRB20fQxlmSpEm0GWjjLEnSFNoKtHGWJGkabQTaOEuSNINBB9o4S5JUwyADbZwlSappUIE2zpIkzcIgAm2cJUmapX4H2jhLkjQH/Qy0cZYkaY76FWjjLEnSHuhHoI2zJEl7qOlAG2dJkhrQZKCNsyRJDWkq0MZZkqQGNRFo4yxJUsP2NNDGWZKkPtiTQBtnSZL6ZK6BNs6SJPXRXAJtnCVJ6rPZBto4S5JUGOMsSVJhjLMkSYUxzpIkFcY4S5JUGOMsSVJhjLMkSYUxzpIkFcY4S5JUGOMsSVJhjLMkSYUxzpIkFcY4S5JUGOMsSVJhjLMkSYUxzpIkFcY4S5JUGOMsSVJhjLMkSYUxzpIkFcY4S5JUGOMsSVJhjLMkSYUxzpIkFcY4S5JUGOMsSVJhjLMkSYUxzpIkFcY4S5JUGOMsSVJhjLMkSYUxzpIkFcY4S5JUGOMsSVJhjLMkSYUxzpIkFcY4S5JUGOMsSVJhjLMkSYUxzpIkFcY4S5JUGOMsSVJhjLMkSYUxzpIkFcY4S5JUGOMsSVJhjLMkSYUxzpIkFcY4S5JUmFpxjojjImJjRGyKiPdOsv6dEXFtRPwwIr4dEYc0P1VJkkbDjHGOiPnAmcDxwErgVRGxcsKwq4CxzHw68K/Ah5qeqCRJo6LOkfORwKbM3JyZ24AvAWvGD8jMizNza+/u5cCyZqcpSdLoqBPng4Cbx93f0ntsKm8A/n1PJiVJ0ihb0OSTRcRrgDHg96dYvxZYC3BwkxuWJKlD6hw53wIsH3d/We+x3UTEscD7gNWZ+dvJnigzz87MscwcWzqX2UqSNALqxPlK4LCIODQiFgEnAuvGD4iIw4F/pArzbc1PU5Kk0TFjnDPzAeBtwIXAdcCXM/OaiDgtIlb3hn0Y2Bf4SkT8ICLWTfF0kiRpBpGZrWx4LCLXt7JlSZIGL2BDZo7VGesnhEmSVBjjLElSYYyzJEmFMc6SJBXGOEuSVBjjLElSYYyzJEmFMc6SJBXGOEuSVBjjLElSYYyzJEmFMc6SJBXGOEuSVBjjLElSYYyzJEmFMc6SJBXGOEuSVBjjLElSYYyzJEmFMc6SJBXGOEuSVBjjLElSYYyzJEmFMc6SJBXGOEuSVBjjLElSYYyzJEmFMc6SJBXGOEuSVBjjLElSYYyzJEmFMc6SJBXGOEuSVBjjLElSYYyzJEmFMc6SJBXGOEuSVBjjLElSYYyzJEmFMc6SJBXGOEuSVBjjLElSYYyzJEmFMc6SJBXGOEuSVBjjLElSYYyzJEmFMc6SJBXGOEuSVBjjLElSYYyzJEmFMc6SJBXGOEuSVBjjLElSYYyzJEmFMc6SJBXGOEuSVBjjLElSYYyzJEmFMc6SJBXGOEuSVBjjLElSYYyzJEmFMc6SJBXGOEuSVBjjLElSYbob54ULYckSWLy47ZlIkkoVAQccAPvv3/ZMdtOtOM+fD2vWwDe+AffdB3fcAb/5DWzYAG98I+y9d9szlCSV4ClPgU98grzrLrjrLrj7brjtNjjjDDj00LZnR2RmKxsei8j1TT7hIx8JX/0qHHVUdX/79mpn77svLFpUPbZlC7zkJXD11U1uWZI0LCLgb/4GTj31wYfuvhvmzYP99qvu5/btxDvfCR//eLObhg2ZOVZnbDeOnPffH771rSrMN98M73gHHHhgdVp7v/3g1a+Gq66CZcvgoovgSU9qe8aSpDb87d/CqafywAPJJz8JT33qrrPaz342fP7zEPPnw8c+Bm9/e3vzzMwZF+A4YCOwCXjvJOv3As7rrb8CWDHTcz4LMptaPvKRzMzMa6/NfOQjJx+zaFHmV79ajbvkkua27eLi4uIyHMuRR2Zm5rZtO3LVqqmHnXxylYod99+fecghjW0fWF+nuVl9x4xhng/cADwOWARcDaycMOYU4FO92ycC5w0sznvvnXnXXdWePPzw6cfuu2/mr35VjX3609v/QXFxcXFxGdzyuc9lZuYZZ8w89AtfqFKRp5/e2PZnE+c6p7WPBDZl5ubM3AZ8CVgzYcwa4HO92/8KHBMRMduj+Dn54z+uzklcdll16no699wDn+tN8+ST+z83SVIZ9tmHfMUr2LEjOeusmYd/4hO9G69/fV+nNZU6cT4IuHnc/S29xyYdk5kPAHcDS5qY4Iwe97jq68UX1xu/c9zO75Mkdd9jHkMsXsxPfxrceOPMw7/3vepNPzz60fCwh/V7dg8x0AvCImJtRKyPiPW3N/ek1dcdO+qN3zluQAf2kqQC9P7Nz6z/LQ+ObaEXdeJ8C7B83P1lvccmHRMRC4CHA3dOfKLMPDszxzJzbOnc5vtQN91UfX3+8+uNf97zqq8/+1lTM5Akle6//ou8/35WrEgOmnjudxJHHNE7YL7zTti6te/Tm6hOnK8EDouIQyNiEdUFX+smjFkHvK53+2XARTmoN1Cff371WvLRR8PKldOPXbx41+sH557b75lJkkrx618T55/PggXBn/3ZzMPf+tbejbZaUfOtVKuAn1Bdtf2+3mOnAat7txcDX6F6K9X3gccN9K1UZ55ZXVW3YUPmwx8++Zj583ddfvf977d/1aCLi4uLy2CX5z8/MzN/85sd+YIXTD3shBMyt2/fkTu2b898whMa2z5NvpWqX0ujcV6yJPP666vwbtyYedJJmYsXV+vmzctctSrzu9+t1v/3f2c+85nt/5C4uLi4uAx+OeusBwN9+umZy5fvWvWkJ2V+7GOZDzywo+rF+97X6LZnE+fufHzn8uXw9a9XH/cC1anu226r3mb1iEdUj91xR/XZ25dd1uSWJUnDYv786mM5TzkFgO3bky1bgnnzqow86AMfgA9+sNFNz+bjO7sTZ4C99oITT4S3vKX6HLadNm+Gs86Cc86BX/6y6a1KkobN7/0enHIK+fKXE73fv5D33kt84QvwyU/25XcwjG6cx1uypDpqvvdeuPXW6qSCJEnj7b139YuTduyoWvHb3/ZtU7OJ84K+zaJtd95ZLZIkTWXrVmp9KsmAdeO3UkmS1CHGWZKkwhhnSZIKY5wlSSqMcZYkqTDGWZKkwhhnSZIKY5wlSSqMcZYkqTDGWZKkwhhnSZIK09ovvoiI24GbBrCpA4E7BrCdLnLfzZ37bu7cd3Pnvpu7Qey7QzJzaZ2BrcV5UCJifd3fAqLdue/mzn03d+67uXPfzV1p+87T2pIkFcY4S5JUmFGI89ltT2CIue/mzn03d+67uXPfzV1R+67zrzlLkjRsRuHIWZKkodKJOEfEcRGxMSI2RcR7J1m/V0Sc11t/RUSsGPwsy1Rj370zIq6NiB9GxLcj4pA25lmimfbduHEnRERGRDFXgratzr6LiFf0fvauiYh/GfQcS1bj7+3BEXFxRFzV+7u7qo15liYizomI2yLiR1Osj4j4eG+//jAijhj0HB+UmUO9APOBG4DHAYuAq4GVE8acAnyqd/tE4Ly2513CUnPf/QGwd+/2W9x39fddb9x+wCXA5cBY2/MuYan5c3cYcBXwO737j2x73qUsNfff2cBberdXAje2Pe8SFuAFwBHAj6ZYvwr4dyCAo4Ar2pprF46cjwQ2ZebmzNwGfAlYM2HMGuBzvdv/ChwTETHAOZZqxn2XmRdn5tbe3cuBZQOeY6nq/NwB/DVwBnDfICdXuDr77k3AmZl5F0Bm3jbgOZaszv5LYP/e7YcDPx/g/IqVmZcAv5xmyBrgn7JyOXBARDxmMLPbXRfifBBw87j7W3qPTTomMx8A7gaWDGR2Zauz78Z7A9X/KlVj3/VOiS3PzAsGObEhUOfn7onAEyPi0oi4PCKOG9jsyldn/30AeE1EbAG+Drx9MFMberP9N7FvFrSxUQ2fiHgNMAb8fttzGQYRMQ/4CHBSy1MZVguoTm0fTXW25pKIeFpm/qrVWQ2PVwHnZubfRcRzgM9HxFMzc0fbE1M9XThyvgVYPu7+st5jk46JiAVUp3nuHMjsylZn3xERxwLvA1Zn5m8HNLfSzbTv9gOeCnwnIm6kev1qnReFAfV+7rYA6zLz/sz8KfATqlir3v57A/BlgMz8HrCY6rOjNb1a/yYOQhfifCVwWEQcGhGLqC74WjdhzDrgdb3bLwMuyt6r/yNuxn0XEYcD/0gVZl/322XafZeZd2fmgZm5IjNXUL1evzoz17cz3aLU+Tv7b1RHzUTEgVSnuTcPcpIFq7P/fgYcAxARv0sV59sHOsvhtA54be+q7aOAuzPzF21MZOhPa2fmAxHxNuBCqqsYz8nMayLiNGB9Zq4DPkt1WmcT1cUAJ7Y343LU3HcfBvYFvtK7hu5nmbm6tUkXoua+0yRq7rsLgT+MiGuB7cC7M9OzXdTef+8CPh0R76C6OOwkD0ggIr5I9Z85gdUWAAAAUklEQVS+A3uvx/8VsBAgMz9F9fr8KmATsBU4uZ2Z+glhkiQVpwuntSVJ6hTjLElSYYyzJEmFMc6SJBXGOEuSVBjjLElSYYyzJEmFMc6SJBXm/wNlJObel7y/CwAAAABJRU5ErkJggg==\n",
          "text/plain": "<Figure size 576x576 with 1 Axes>"
         },
         "metadata": {
          "needs_background": "light"
         },
         "output_type": "display_data"
        }
       ]
      }
     },
     "1446fa4f5d21493d830c1d00e3c75e15": {
      "model_module": "@jupyter-widgets/controls",
      "model_module_version": "1.4.0",
      "model_name": "SliderStyleModel",
      "state": {
       "_model_module_version": "1.4.0",
       "_view_module_version": "1.1.0",
       "description_width": ""
      }
     },
     "1f9d165d6caa45ae9421108b2afff60c": {
      "model_module": "@jupyter-widgets/controls",
      "model_module_version": "1.4.0",
      "model_name": "DescriptionStyleModel",
      "state": {
       "_model_module_version": "1.4.0",
       "_view_module_version": "1.1.0",
       "description_width": ""
      }
     },
     "20f6a631bb5f471db731f0026c0a6c40": {
      "model_module": "@jupyter-widgets/controls",
      "model_module_version": "1.4.0",
      "model_name": "FloatSliderModel",
      "state": {
       "_model_module_version": "1.4.0",
       "_view_module_version": "1.4.0",
       "description": "w2",
       "description_tooltip": null,
       "layout": "IPY_MODEL_08405f573654460782197d45029e74da",
       "max": 1,
       "min": -1,
       "step": 0.1,
       "style": "IPY_MODEL_6fe95da3ab374ccaa467451a6c128fe4",
       "value": 0.5
      }
     },
     "2367b03e92d04011bfbc442240a4157e": {
      "model_module": "@jupyter-widgets/output",
      "model_module_version": "1.0.0",
      "model_name": "OutputModel",
      "state": {
       "layout": "IPY_MODEL_7bbbaa0e458e44719a38598b86235cf0",
       "outputs": [
        {
         "data": {
          "image/png": "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\n",
          "text/plain": "<Figure size 576x576 with 1 Axes>"
         },
         "metadata": {
          "needs_background": "light"
         },
         "output_type": "display_data"
        }
       ]
      }
     },
     "23e6a75424ac4ea4b99f2e5a897f5735": {
      "model_module": "@jupyter-widgets/controls",
      "model_module_version": "1.4.0",
      "model_name": "FloatSliderModel",
      "state": {
       "_model_module_version": "1.4.0",
       "_view_module_version": "1.4.0",
       "description": "w1",
       "description_tooltip": null,
       "layout": "IPY_MODEL_30633c7ee64b4965b4b1352a4950e550",
       "max": 1,
       "min": -1,
       "step": 0.1,
       "style": "IPY_MODEL_60bf2d38e38845d0ba7d4d8849e16652",
       "value": 0.5
      }
     },
     "2448f143d2b543b7abca4f7dd5c814ad": {
      "model_module": "@jupyter-widgets/base",
      "model_module_version": "1.1.0",
      "model_name": "LayoutModel",
      "state": {
       "_model_module_version": "1.1.0",
       "_view_module_version": "1.1.0",
       "grid_area": null,
       "grid_auto_columns": null,
       "grid_auto_flow": null,
       "grid_auto_rows": null,
       "grid_column": null,
       "grid_gap": null,
       "grid_row": null,
       "grid_template_areas": null,
       "grid_template_columns": null,
       "grid_template_rows": null
      }
     },
     "24b68260cc4b47a9b93a3c642cbeb17a": {
      "model_module": "@jupyter-widgets/base",
      "model_module_version": "1.1.0",
      "model_name": "LayoutModel",
      "state": {
       "_model_module_version": "1.1.0",
       "_view_module_version": "1.1.0",
       "grid_area": null,
       "grid_auto_columns": null,
       "grid_auto_flow": null,
       "grid_auto_rows": null,
       "grid_column": null,
       "grid_gap": null,
       "grid_row": null,
       "grid_template_areas": null,
       "grid_template_columns": null,
       "grid_template_rows": null
      }
     },
     "29c7a3bfd98f4cc6bc7b9278577a891c": {
      "model_module": "@jupyter-widgets/controls",
      "model_module_version": "1.4.0",
      "model_name": "FloatSliderModel",
      "state": {
       "_model_module_version": "1.4.0",
       "_view_module_version": "1.4.0",
       "description": "w1",
       "description_tooltip": null,
       "layout": "IPY_MODEL_d4ec3b3ff8ab41c2bde747b90b0abd0f",
       "max": 1,
       "min": -1,
       "step": 0.1,
       "style": "IPY_MODEL_0b1aff74a6e9493b97af7ba8c0abe56e",
       "value": 0.5
      }
     },
     "2b8b23aa5fd44ba9b2bef08879092e22": {
      "model_module": "@jupyter-widgets/controls",
      "model_module_version": "1.4.0",
      "model_name": "DescriptionStyleModel",
      "state": {
       "_model_module_version": "1.4.0",
       "_view_module_version": "1.1.0",
       "description_width": ""
      }
     },
     "2bff927ed4784e7c9560bf166bf5707c": {
      "model_module": "@jupyter-widgets/controls",
      "model_module_version": "1.4.0",
      "model_name": "SliderStyleModel",
      "state": {
       "_model_module_version": "1.4.0",
       "_view_module_version": "1.1.0",
       "description_width": ""
      }
     },
     "2d73ba5725084d0b9b4952db9854936a": {
      "model_module": "@jupyter-widgets/controls",
      "model_module_version": "1.4.0",
      "model_name": "DescriptionStyleModel",
      "state": {
       "_model_module_version": "1.4.0",
       "_view_module_version": "1.1.0",
       "description_width": ""
      }
     },
     "305e350ea00b49d8ad2057177339d969": {
      "model_module": "@jupyter-widgets/controls",
      "model_module_version": "1.4.0",
      "model_name": "FloatSliderModel",
      "state": {
       "_model_module_version": "1.4.0",
       "_view_module_version": "1.4.0",
       "description": "w1",
       "description_tooltip": null,
       "layout": "IPY_MODEL_a861108f666749a2a40e21d74be51f4f",
       "max": 1,
       "min": -1,
       "step": 0.1,
       "style": "IPY_MODEL_f17edfc1aafb477c926fde60a254f14b",
       "value": 0.5
      }
     },
     "30633c7ee64b4965b4b1352a4950e550": {
      "model_module": "@jupyter-widgets/base",
      "model_module_version": "1.1.0",
      "model_name": "LayoutModel",
      "state": {
       "_model_module_version": "1.1.0",
       "_view_module_version": "1.1.0",
       "grid_area": null,
       "grid_auto_columns": null,
       "grid_auto_flow": null,
       "grid_auto_rows": null,
       "grid_column": null,
       "grid_gap": null,
       "grid_row": null,
       "grid_template_areas": null,
       "grid_template_columns": null,
       "grid_template_rows": null
      }
     },
     "33b06fca7f804cf0a656f108ff6c15e4": {
      "model_module": "@jupyter-widgets/controls",
      "model_module_version": "1.4.0",
      "model_name": "FloatSliderModel",
      "state": {
       "_model_module_version": "1.4.0",
       "_view_module_version": "1.4.0",
       "description": "b",
       "description_tooltip": null,
       "layout": "IPY_MODEL_8d2a7774b8b943c59b9e1cab53168b73",
       "max": 1,
       "min": -1,
       "step": 0.1,
       "style": "IPY_MODEL_2bff927ed4784e7c9560bf166bf5707c",
       "value": -0.7
      }
     },
     "342f935be03248159ceb00a5483e2af4": {
      "model_module": "@jupyter-widgets/output",
      "model_module_version": "1.0.0",
      "model_name": "OutputModel",
      "state": {
       "layout": "IPY_MODEL_0a1c1dce06e24e12b7790deb5ac06487",
       "outputs": [
        {
         "data": {
          "image/png": "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\n",
          "text/plain": "<Figure size 576x576 with 1 Axes>"
         },
         "metadata": {
          "needs_background": "light"
         },
         "output_type": "display_data"
        }
       ]
      }
     },
     "3753ea3b1c944bad9917e21d9b42c262": {
      "model_module": "@jupyter-widgets/controls",
      "model_module_version": "1.4.0",
      "model_name": "SliderStyleModel",
      "state": {
       "_model_module_version": "1.4.0",
       "_view_module_version": "1.1.0",
       "description_width": ""
      }
     },
     "38dcf43b323748f8979ce470d0fe0955": {
      "model_module": "@jupyter-widgets/output",
      "model_module_version": "1.0.0",
      "model_name": "OutputModel",
      "state": {
       "layout": "IPY_MODEL_86f8b99d12fe4a548359a4d2f0895135",
       "outputs": [
        {
         "data": {
          "application/javascript": "/* Put everything inside the global mpl namespace */\nwindow.mpl = {};\n\n\nmpl.get_websocket_type = function() {\n    if (typeof(WebSocket) !== 'undefined') {\n        return WebSocket;\n    } else if (typeof(MozWebSocket) !== 'undefined') {\n        return MozWebSocket;\n    } else {\n        alert('Your browser does not have WebSocket support.' +\n              'Please try Chrome, Safari or Firefox ≥ 6. ' +\n              'Firefox 4 and 5 are also supported but you ' +\n              'have to enable WebSockets in about:config.');\n    };\n}\n\nmpl.figure = function(figure_id, websocket, ondownload, parent_element) {\n    this.id = figure_id;\n\n    this.ws = websocket;\n\n    this.supports_binary = (this.ws.binaryType != undefined);\n\n    if (!this.supports_binary) {\n        var warnings = document.getElementById(\"mpl-warnings\");\n        if (warnings) {\n            warnings.style.display = 'block';\n            warnings.textContent = (\n                \"This browser does not support binary websocket messages. \" +\n                    \"Performance may be slow.\");\n        }\n    }\n\n    this.imageObj = new Image();\n\n    this.context = undefined;\n    this.message = undefined;\n    this.canvas = undefined;\n    this.rubberband_canvas = undefined;\n    this.rubberband_context = undefined;\n    this.format_dropdown = undefined;\n\n    this.image_mode = 'full';\n\n    this.root = $('<div/>');\n    this._root_extra_style(this.root)\n    this.root.attr('style', 'display: inline-block');\n\n    $(parent_element).append(this.root);\n\n    this._init_header(this);\n    this._init_canvas(this);\n    this._init_toolbar(this);\n\n    var fig = this;\n\n    this.waiting = false;\n\n    this.ws.onopen =  function () {\n            fig.send_message(\"supports_binary\", {value: fig.supports_binary});\n            fig.send_message(\"send_image_mode\", {});\n            if (mpl.ratio != 1) {\n                fig.send_message(\"set_dpi_ratio\", {'dpi_ratio': mpl.ratio});\n            }\n            fig.send_message(\"refresh\", {});\n        }\n\n    this.imageObj.onload = function() {\n            if (fig.image_mode == 'full') {\n                // Full images could contain transparency (where diff images\n                // almost always do), so we need to clear the canvas so that\n                // there is no ghosting.\n                fig.context.clearRect(0, 0, fig.canvas.width, fig.canvas.height);\n            }\n            fig.context.drawImage(fig.imageObj, 0, 0);\n        };\n\n    this.imageObj.onunload = function() {\n        fig.ws.close();\n    }\n\n    this.ws.onmessage = this._make_on_message_function(this);\n\n    this.ondownload = ondownload;\n}\n\nmpl.figure.prototype._init_header = function() {\n    var titlebar = $(\n        '<div class=\"ui-dialog-titlebar ui-widget-header ui-corner-all ' +\n        'ui-helper-clearfix\"/>');\n    var titletext = $(\n        '<div class=\"ui-dialog-title\" style=\"width: 100%; ' +\n        'text-align: center; padding: 3px;\"/>');\n    titlebar.append(titletext)\n    this.root.append(titlebar);\n    this.header = titletext[0];\n}\n\n\n\nmpl.figure.prototype._canvas_extra_style = function(canvas_div) {\n\n}\n\n\nmpl.figure.prototype._root_extra_style = function(canvas_div) {\n\n}\n\nmpl.figure.prototype._init_canvas = function() {\n    var fig = this;\n\n    var canvas_div = $('<div/>');\n\n    canvas_div.attr('style', 'position: relative; clear: both; outline: 0');\n\n    function canvas_keyboard_event(event) {\n        return fig.key_event(event, event['data']);\n    }\n\n    canvas_div.keydown('key_press', canvas_keyboard_event);\n    canvas_div.keyup('key_release', canvas_keyboard_event);\n    this.canvas_div = canvas_div\n    this._canvas_extra_style(canvas_div)\n    this.root.append(canvas_div);\n\n    var canvas = $('<canvas/>');\n    canvas.addClass('mpl-canvas');\n    canvas.attr('style', \"left: 0; top: 0; z-index: 0; outline: 0\")\n\n    this.canvas = canvas[0];\n    this.context = canvas[0].getContext(\"2d\");\n\n    var backingStore = this.context.backingStorePixelRatio ||\n\tthis.context.webkitBackingStorePixelRatio ||\n\tthis.context.mozBackingStorePixelRatio ||\n\tthis.context.msBackingStorePixelRatio ||\n\tthis.context.oBackingStorePixelRatio ||\n\tthis.context.backingStorePixelRatio || 1;\n\n    mpl.ratio = (window.devicePixelRatio || 1) / backingStore;\n\n    var rubberband = $('<canvas/>');\n    rubberband.attr('style', \"position: absolute; left: 0; top: 0; z-index: 1;\")\n\n    var pass_mouse_events = true;\n\n    canvas_div.resizable({\n        start: function(event, ui) {\n            pass_mouse_events = false;\n        },\n        resize: function(event, ui) {\n            fig.request_resize(ui.size.width, ui.size.height);\n        },\n        stop: function(event, ui) {\n            pass_mouse_events = true;\n            fig.request_resize(ui.size.width, ui.size.height);\n        },\n    });\n\n    function mouse_event_fn(event) {\n        if (pass_mouse_events)\n            return fig.mouse_event(event, event['data']);\n    }\n\n    rubberband.mousedown('button_press', mouse_event_fn);\n    rubberband.mouseup('button_release', mouse_event_fn);\n    // Throttle sequential mouse events to 1 every 20ms.\n    rubberband.mousemove('motion_notify', mouse_event_fn);\n\n    rubberband.mouseenter('figure_enter', mouse_event_fn);\n    rubberband.mouseleave('figure_leave', mouse_event_fn);\n\n    canvas_div.on(\"wheel\", function (event) {\n        event = event.originalEvent;\n        event['data'] = 'scroll'\n        if (event.deltaY < 0) {\n            event.step = 1;\n        } else {\n            event.step = -1;\n        }\n        mouse_event_fn(event);\n    });\n\n    canvas_div.append(canvas);\n    canvas_div.append(rubberband);\n\n    this.rubberband = rubberband;\n    this.rubberband_canvas = rubberband[0];\n    this.rubberband_context = rubberband[0].getContext(\"2d\");\n    this.rubberband_context.strokeStyle = \"#000000\";\n\n    this._resize_canvas = function(width, height) {\n        // Keep the size of the canvas, canvas container, and rubber band\n        // canvas in synch.\n        canvas_div.css('width', width)\n        canvas_div.css('height', height)\n\n        canvas.attr('width', width * mpl.ratio);\n        canvas.attr('height', height * mpl.ratio);\n        canvas.attr('style', 'width: ' + width + 'px; height: ' + height + 'px;');\n\n        rubberband.attr('width', width);\n        rubberband.attr('height', height);\n    }\n\n    // Set the figure to an initial 600x600px, this will subsequently be updated\n    // upon first draw.\n    this._resize_canvas(600, 600);\n\n    // Disable right mouse context menu.\n    $(this.rubberband_canvas).bind(\"contextmenu\",function(e){\n        return false;\n    });\n\n    function set_focus () {\n        canvas.focus();\n        canvas_div.focus();\n    }\n\n    window.setTimeout(set_focus, 100);\n}\n\nmpl.figure.prototype._init_toolbar = function() {\n    var fig = this;\n\n    var nav_element = $('<div/>')\n    nav_element.attr('style', 'width: 100%');\n    this.root.append(nav_element);\n\n    // Define a callback function for later on.\n    function toolbar_event(event) {\n        return fig.toolbar_button_onclick(event['data']);\n    }\n    function toolbar_mouse_event(event) {\n        return fig.toolbar_button_onmouseover(event['data']);\n    }\n\n    for(var toolbar_ind in mpl.toolbar_items) {\n        var name = mpl.toolbar_items[toolbar_ind][0];\n        var tooltip = mpl.toolbar_items[toolbar_ind][1];\n        var image = mpl.toolbar_items[toolbar_ind][2];\n        var method_name = mpl.toolbar_items[toolbar_ind][3];\n\n        if (!name) {\n            // put a spacer in here.\n            continue;\n        }\n        var button = $('<button/>');\n        button.addClass('ui-button ui-widget ui-state-default ui-corner-all ' +\n                        'ui-button-icon-only');\n        button.attr('role', 'button');\n        button.attr('aria-disabled', 'false');\n        button.click(method_name, toolbar_event);\n        button.mouseover(tooltip, toolbar_mouse_event);\n\n        var icon_img = $('<span/>');\n        icon_img.addClass('ui-button-icon-primary ui-icon');\n        icon_img.addClass(image);\n        icon_img.addClass('ui-corner-all');\n\n        var tooltip_span = $('<span/>');\n        tooltip_span.addClass('ui-button-text');\n        tooltip_span.html(tooltip);\n\n        button.append(icon_img);\n        button.append(tooltip_span);\n\n        nav_element.append(button);\n    }\n\n    var fmt_picker_span = $('<span/>');\n\n    var fmt_picker = $('<select/>');\n    fmt_picker.addClass('mpl-toolbar-option ui-widget ui-widget-content');\n    fmt_picker_span.append(fmt_picker);\n    nav_element.append(fmt_picker_span);\n    this.format_dropdown = fmt_picker[0];\n\n    for (var ind in mpl.extensions) {\n        var fmt = mpl.extensions[ind];\n        var option = $(\n            '<option/>', {selected: fmt === mpl.default_extension}).html(fmt);\n        fmt_picker.append(option)\n    }\n\n    // Add hover states to the ui-buttons\n    $( \".ui-button\" ).hover(\n        function() { $(this).addClass(\"ui-state-hover\");},\n        function() { $(this).removeClass(\"ui-state-hover\");}\n    );\n\n    var status_bar = $('<span class=\"mpl-message\"/>');\n    nav_element.append(status_bar);\n    this.message = status_bar[0];\n}\n\nmpl.figure.prototype.request_resize = function(x_pixels, y_pixels) {\n    // Request matplotlib to resize the figure. Matplotlib will then trigger a resize in the client,\n    // which will in turn request a refresh of the image.\n    this.send_message('resize', {'width': x_pixels, 'height': y_pixels});\n}\n\nmpl.figure.prototype.send_message = function(type, properties) {\n    properties['type'] = type;\n    properties['figure_id'] = this.id;\n    this.ws.send(JSON.stringify(properties));\n}\n\nmpl.figure.prototype.send_draw_message = function() {\n    if (!this.waiting) {\n        this.waiting = true;\n        this.ws.send(JSON.stringify({type: \"draw\", figure_id: this.id}));\n    }\n}\n\n\nmpl.figure.prototype.handle_save = function(fig, msg) {\n    var format_dropdown = fig.format_dropdown;\n    var format = format_dropdown.options[format_dropdown.selectedIndex].value;\n    fig.ondownload(fig, format);\n}\n\n\nmpl.figure.prototype.handle_resize = function(fig, msg) {\n    var size = msg['size'];\n    if (size[0] != fig.canvas.width || size[1] != fig.canvas.height) {\n        fig._resize_canvas(size[0], size[1]);\n        fig.send_message(\"refresh\", {});\n    };\n}\n\nmpl.figure.prototype.handle_rubberband = function(fig, msg) {\n    var x0 = msg['x0'] / mpl.ratio;\n    var y0 = (fig.canvas.height - msg['y0']) / mpl.ratio;\n    var x1 = msg['x1'] / mpl.ratio;\n    var y1 = (fig.canvas.height - msg['y1']) / mpl.ratio;\n    x0 = Math.floor(x0) + 0.5;\n    y0 = Math.floor(y0) + 0.5;\n    x1 = Math.floor(x1) + 0.5;\n    y1 = Math.floor(y1) + 0.5;\n    var min_x = Math.min(x0, x1);\n    var min_y = Math.min(y0, y1);\n    var width = Math.abs(x1 - x0);\n    var height = Math.abs(y1 - y0);\n\n    fig.rubberband_context.clearRect(\n        0, 0, fig.canvas.width, fig.canvas.height);\n\n    fig.rubberband_context.strokeRect(min_x, min_y, width, height);\n}\n\nmpl.figure.prototype.handle_figure_label = function(fig, msg) {\n    // Updates the figure title.\n    fig.header.textContent = msg['label'];\n}\n\nmpl.figure.prototype.handle_cursor = function(fig, msg) {\n    var cursor = msg['cursor'];\n    switch(cursor)\n    {\n    case 0:\n        cursor = 'pointer';\n        break;\n    case 1:\n        cursor = 'default';\n        break;\n    case 2:\n        cursor = 'crosshair';\n        break;\n    case 3:\n        cursor = 'move';\n        break;\n    }\n    fig.rubberband_canvas.style.cursor = cursor;\n}\n\nmpl.figure.prototype.handle_message = function(fig, msg) {\n    fig.message.textContent = msg['message'];\n}\n\nmpl.figure.prototype.handle_draw = function(fig, msg) {\n    // Request the server to send over a new figure.\n    fig.send_draw_message();\n}\n\nmpl.figure.prototype.handle_image_mode = function(fig, msg) {\n    fig.image_mode = msg['mode'];\n}\n\nmpl.figure.prototype.updated_canvas_event = function() {\n    // Called whenever the canvas gets updated.\n    this.send_message(\"ack\", {});\n}\n\n// A function to construct a web socket function for onmessage handling.\n// Called in the figure constructor.\nmpl.figure.prototype._make_on_message_function = function(fig) {\n    return function socket_on_message(evt) {\n        if (evt.data instanceof Blob) {\n            /* FIXME: We get \"Resource interpreted as Image but\n             * transferred with MIME type text/plain:\" errors on\n             * Chrome.  But how to set the MIME type?  It doesn't seem\n             * to be part of the websocket stream */\n            evt.data.type = \"image/png\";\n\n            /* Free the memory for the previous frames */\n            if (fig.imageObj.src) {\n                (window.URL || window.webkitURL).revokeObjectURL(\n                    fig.imageObj.src);\n            }\n\n            fig.imageObj.src = (window.URL || window.webkitURL).createObjectURL(\n                evt.data);\n            fig.updated_canvas_event();\n            fig.waiting = false;\n            return;\n        }\n        else if (typeof evt.data === 'string' && evt.data.slice(0, 21) == \"data:image/png;base64\") {\n            fig.imageObj.src = evt.data;\n            fig.updated_canvas_event();\n            fig.waiting = false;\n            return;\n        }\n\n        var msg = JSON.parse(evt.data);\n        var msg_type = msg['type'];\n\n        // Call the  \"handle_{type}\" callback, which takes\n        // the figure and JSON message as its only arguments.\n        try {\n            var callback = fig[\"handle_\" + msg_type];\n        } catch (e) {\n            console.log(\"No handler for the '\" + msg_type + \"' message type: \", msg);\n            return;\n        }\n\n        if (callback) {\n            try {\n                // console.log(\"Handling '\" + msg_type + \"' message: \", msg);\n                callback(fig, msg);\n            } catch (e) {\n                console.log(\"Exception inside the 'handler_\" + msg_type + \"' callback:\", e, e.stack, msg);\n            }\n        }\n    };\n}\n\n// from http://stackoverflow.com/questions/1114465/getting-mouse-location-in-canvas\nmpl.findpos = function(e) {\n    //this section is from http://www.quirksmode.org/js/events_properties.html\n    var targ;\n    if (!e)\n        e = window.event;\n    if (e.target)\n        targ = e.target;\n    else if (e.srcElement)\n        targ = e.srcElement;\n    if (targ.nodeType == 3) // defeat Safari bug\n        targ = targ.parentNode;\n\n    // jQuery normalizes the pageX and pageY\n    // pageX,Y are the mouse positions relative to the document\n    // offset() returns the position of the element relative to the document\n    var x = e.pageX - $(targ).offset().left;\n    var y = e.pageY - $(targ).offset().top;\n\n    return {\"x\": x, \"y\": y};\n};\n\n/*\n * return a copy of an object with only non-object keys\n * we need this to avoid circular references\n * http://stackoverflow.com/a/24161582/3208463\n */\nfunction simpleKeys (original) {\n  return Object.keys(original).reduce(function (obj, key) {\n    if (typeof original[key] !== 'object')\n        obj[key] = original[key]\n    return obj;\n  }, {});\n}\n\nmpl.figure.prototype.mouse_event = function(event, name) {\n    var canvas_pos = mpl.findpos(event)\n\n    if (name === 'button_press')\n    {\n        this.canvas.focus();\n        this.canvas_div.focus();\n    }\n\n    var x = canvas_pos.x * mpl.ratio;\n    var y = canvas_pos.y * mpl.ratio;\n\n    this.send_message(name, {x: x, y: y, button: event.button,\n                             step: event.step,\n                             guiEvent: simpleKeys(event)});\n\n    /* This prevents the web browser from automatically changing to\n     * the text insertion cursor when the button is pressed.  We want\n     * to control all of the cursor setting manually through the\n     * 'cursor' event from matplotlib */\n    event.preventDefault();\n    return false;\n}\n\nmpl.figure.prototype._key_event_extra = function(event, name) {\n    // Handle any extra behaviour associated with a key event\n}\n\nmpl.figure.prototype.key_event = function(event, name) {\n\n    // Prevent repeat events\n    if (name == 'key_press')\n    {\n        if (event.which === this._key)\n            return;\n        else\n            this._key = event.which;\n    }\n    if (name == 'key_release')\n        this._key = null;\n\n    var value = '';\n    if (event.ctrlKey && event.which != 17)\n        value += \"ctrl+\";\n    if (event.altKey && event.which != 18)\n        value += \"alt+\";\n    if (event.shiftKey && event.which != 16)\n        value += \"shift+\";\n\n    value += 'k';\n    value += event.which.toString();\n\n    this._key_event_extra(event, name);\n\n    this.send_message(name, {key: value,\n                             guiEvent: simpleKeys(event)});\n    return false;\n}\n\nmpl.figure.prototype.toolbar_button_onclick = function(name) {\n    if (name == 'download') {\n        this.handle_save(this, null);\n    } else {\n        this.send_message(\"toolbar_button\", {name: name});\n    }\n};\n\nmpl.figure.prototype.toolbar_button_onmouseover = function(tooltip) {\n    this.message.textContent = tooltip;\n};\nmpl.toolbar_items = [[\"Home\", \"Reset original view\", \"fa fa-home icon-home\", \"home\"], [\"Back\", \"Back to  previous view\", \"fa fa-arrow-left icon-arrow-left\", \"back\"], [\"Forward\", \"Forward to next view\", \"fa fa-arrow-right icon-arrow-right\", \"forward\"], [\"\", \"\", \"\", \"\"], [\"Pan\", \"Pan axes with left mouse, zoom with right\", \"fa fa-arrows icon-move\", \"pan\"], [\"Zoom\", \"Zoom to rectangle\", \"fa fa-square-o icon-check-empty\", \"zoom\"], [\"\", \"\", \"\", \"\"], [\"Download\", \"Download plot\", \"fa fa-floppy-o icon-save\", \"download\"]];\n\nmpl.extensions = [\"eps\", \"jpeg\", \"pdf\", \"png\", \"ps\", \"raw\", \"svg\", \"tif\"];\n\nmpl.default_extension = \"png\";var comm_websocket_adapter = function(comm) {\n    // Create a \"websocket\"-like object which calls the given IPython comm\n    // object with the appropriate methods. Currently this is a non binary\n    // socket, so there is still some room for performance tuning.\n    var ws = {};\n\n    ws.close = function() {\n        comm.close()\n    };\n    ws.send = function(m) {\n        //console.log('sending', m);\n        comm.send(m);\n    };\n    // Register the callback with on_msg.\n    comm.on_msg(function(msg) {\n        //console.log('receiving', msg['content']['data'], msg);\n        // Pass the mpl event to the overridden (by mpl) onmessage function.\n        ws.onmessage(msg['content']['data'])\n    });\n    return ws;\n}\n\nmpl.mpl_figure_comm = function(comm, msg) {\n    // This is the function which gets called when the mpl process\n    // starts-up an IPython Comm through the \"matplotlib\" channel.\n\n    var id = msg.content.data.id;\n    // Get hold of the div created by the display call when the Comm\n    // socket was opened in Python.\n    var element = $(\"#\" + id);\n    var ws_proxy = comm_websocket_adapter(comm)\n\n    function ondownload(figure, format) {\n        window.open(figure.imageObj.src);\n    }\n\n    var fig = new mpl.figure(id, ws_proxy,\n                           ondownload,\n                           element.get(0));\n\n    // Call onopen now - mpl needs it, as it is assuming we've passed it a real\n    // web socket which is closed, not our websocket->open comm proxy.\n    ws_proxy.onopen();\n\n    fig.parent_element = element.get(0);\n    fig.cell_info = mpl.find_output_cell(\"<div id='\" + id + \"'></div>\");\n    if (!fig.cell_info) {\n        console.error(\"Failed to find cell for figure\", id, fig);\n        return;\n    }\n\n    var output_index = fig.cell_info[2]\n    var cell = fig.cell_info[0];\n\n};\n\nmpl.figure.prototype.handle_close = function(fig, msg) {\n    var width = fig.canvas.width/mpl.ratio\n    fig.root.unbind('remove')\n\n    // Update the output cell to use the data from the current canvas.\n    fig.push_to_output();\n    var dataURL = fig.canvas.toDataURL();\n    // Re-enable the keyboard manager in IPython - without this line, in FF,\n    // the notebook keyboard shortcuts fail.\n    IPython.keyboard_manager.enable()\n    $(fig.parent_element).html('<img src=\"' + dataURL + '\" width=\"' + width + '\">');\n    fig.close_ws(fig, msg);\n}\n\nmpl.figure.prototype.close_ws = function(fig, msg){\n    fig.send_message('closing', msg);\n    // fig.ws.close()\n}\n\nmpl.figure.prototype.push_to_output = function(remove_interactive) {\n    // Turn the data on the canvas into data in the output cell.\n    var width = this.canvas.width/mpl.ratio\n    var dataURL = this.canvas.toDataURL();\n    this.cell_info[1]['text/html'] = '<img src=\"' + dataURL + '\" width=\"' + width + '\">';\n}\n\nmpl.figure.prototype.updated_canvas_event = function() {\n    // Tell IPython that the notebook contents must change.\n    IPython.notebook.set_dirty(true);\n    this.send_message(\"ack\", {});\n    var fig = this;\n    // Wait a second, then push the new image to the DOM so\n    // that it is saved nicely (might be nice to debounce this).\n    setTimeout(function () { fig.push_to_output() }, 1000);\n}\n\nmpl.figure.prototype._init_toolbar = function() {\n    var fig = this;\n\n    var nav_element = $('<div/>')\n    nav_element.attr('style', 'width: 100%');\n    this.root.append(nav_element);\n\n    // Define a callback function for later on.\n    function toolbar_event(event) {\n        return fig.toolbar_button_onclick(event['data']);\n    }\n    function toolbar_mouse_event(event) {\n        return fig.toolbar_button_onmouseover(event['data']);\n    }\n\n    for(var toolbar_ind in mpl.toolbar_items){\n        var name = mpl.toolbar_items[toolbar_ind][0];\n        var tooltip = mpl.toolbar_items[toolbar_ind][1];\n        var image = mpl.toolbar_items[toolbar_ind][2];\n        var method_name = mpl.toolbar_items[toolbar_ind][3];\n\n        if (!name) { continue; };\n\n        var button = $('<button class=\"btn btn-default\" href=\"#\" title=\"' + name + '\"><i class=\"fa ' + image + ' fa-lg\"></i></button>');\n        button.click(method_name, toolbar_event);\n        button.mouseover(tooltip, toolbar_mouse_event);\n        nav_element.append(button);\n    }\n\n    // Add the status bar.\n    var status_bar = $('<span class=\"mpl-message\" style=\"text-align:right; float: right;\"/>');\n    nav_element.append(status_bar);\n    this.message = status_bar[0];\n\n    // Add the close button to the window.\n    var buttongrp = $('<div class=\"btn-group inline pull-right\"></div>');\n    var button = $('<button class=\"btn btn-mini btn-primary\" href=\"#\" title=\"Stop Interaction\"><i class=\"fa fa-power-off icon-remove icon-large\"></i></button>');\n    button.click(function (evt) { fig.handle_close(fig, {}); } );\n    button.mouseover('Stop Interaction', toolbar_mouse_event);\n    buttongrp.append(button);\n    var titlebar = this.root.find($('.ui-dialog-titlebar'));\n    titlebar.prepend(buttongrp);\n}\n\nmpl.figure.prototype._root_extra_style = function(el){\n    var fig = this\n    el.on(\"remove\", function(){\n\tfig.close_ws(fig, {});\n    });\n}\n\nmpl.figure.prototype._canvas_extra_style = function(el){\n    // this is important to make the div 'focusable\n    el.attr('tabindex', 0)\n    // reach out to IPython and tell the keyboard manager to turn it's self\n    // off when our div gets focus\n\n    // location in version 3\n    if (IPython.notebook.keyboard_manager) {\n        IPython.notebook.keyboard_manager.register_events(el);\n    }\n    else {\n        // location in version 2\n        IPython.keyboard_manager.register_events(el);\n    }\n\n}\n\nmpl.figure.prototype._key_event_extra = function(event, name) {\n    var manager = IPython.notebook.keyboard_manager;\n    if (!manager)\n        manager = IPython.keyboard_manager;\n\n    // Check for shift+enter\n    if (event.shiftKey && event.which == 13) {\n        this.canvas_div.blur();\n        event.shiftKey = false;\n        // Send a \"J\" for go to next cell\n        event.which = 74;\n        event.keyCode = 74;\n        manager.command_mode();\n        manager.handle_keydown(event);\n    }\n}\n\nmpl.figure.prototype.handle_save = function(fig, msg) {\n    fig.ondownload(fig, null);\n}\n\n\nmpl.find_output_cell = function(html_output) {\n    // Return the cell and output element which can be found *uniquely* in the notebook.\n    // Note - this is a bit hacky, but it is done because the \"notebook_saving.Notebook\"\n    // IPython event is triggered only after the cells have been serialised, which for\n    // our purposes (turning an active figure into a static one), is too late.\n    var cells = IPython.notebook.get_cells();\n    var ncells = cells.length;\n    for (var i=0; i<ncells; i++) {\n        var cell = cells[i];\n        if (cell.cell_type === 'code'){\n            for (var j=0; j<cell.output_area.outputs.length; j++) {\n                var data = cell.output_area.outputs[j];\n                if (data.data) {\n                    // IPython >= 3 moved mimebundle to data attribute of output\n                    data = data.data;\n                }\n                if (data['text/html'] == html_output) {\n                    return [cell, data, j];\n                }\n            }\n        }\n    }\n}\n\n// Register the function which deals with the matplotlib target/channel.\n// The kernel may be null if the page has been refreshed.\nif (IPython.notebook.kernel != null) {\n    IPython.notebook.kernel.comm_manager.register_target('matplotlib', mpl.mpl_figure_comm);\n}\n",
          "text/plain": "<IPython.core.display.Javascript object>"
         },
         "metadata": {},
         "output_type": "display_data"
        },
        {
         "data": {
          "text/html": "<div id='697bc304-a171-4a1f-8bd2-91fb4d3a6c1b'></div>",
          "text/plain": "<IPython.core.display.HTML object>"
         },
         "metadata": {},
         "output_type": "display_data"
        }
       ]
      }
     },
     "3e08253e77454444b35cec6440f25af9": {
      "model_module": "@jupyter-widgets/controls",
      "model_module_version": "1.4.0",
      "model_name": "DropdownModel",
      "state": {
       "_model_module_version": "1.4.0",
       "_options_labels": [
        "and",
        "or",
        "not"
       ],
       "_view_module_version": "1.4.0",
       "description": "logic",
       "description_tooltip": null,
       "index": 1,
       "layout": "IPY_MODEL_904d757d084d45d791faada50e8c93cd",
       "style": "IPY_MODEL_f7d7d2f31aeb487cb66ff40f47d83111"
      }
     },
     "3f9d385fc45b477a8bcdfc9e283f0a82": {
      "model_module": "@jupyter-widgets/output",
      "model_module_version": "1.0.0",
      "model_name": "OutputModel",
      "state": {
       "layout": "IPY_MODEL_c95c42e011f5458bb67f055edde195b4",
       "outputs": [
        {
         "data": {
          "image/png": "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\n",
          "text/plain": "<Figure size 576x576 with 1 Axes>"
         },
         "metadata": {
          "needs_background": "light"
         },
         "output_type": "display_data"
        }
       ]
      }
     },
     "41fb34841d1849f39042a294f7455afe": {
      "model_module": "@jupyter-widgets/controls",
      "model_module_version": "1.4.0",
      "model_name": "SliderStyleModel",
      "state": {
       "_model_module_version": "1.4.0",
       "_view_module_version": "1.1.0",
       "description_width": ""
      }
     },
     "42667f16c17848f084a22771325dd325": {
      "model_module": "@jupyter-widgets/controls",
      "model_module_version": "1.4.0",
      "model_name": "SliderStyleModel",
      "state": {
       "_model_module_version": "1.4.0",
       "_view_module_version": "1.1.0",
       "description_width": ""
      }
     },
     "42e57eb52df94b188b2556193c295d3f": {
      "model_module": "@jupyter-widgets/controls",
      "model_module_version": "1.4.0",
      "model_name": "SliderStyleModel",
      "state": {
       "_model_module_version": "1.4.0",
       "_view_module_version": "1.1.0",
       "description_width": ""
      }
     },
     "4665458b455b47288ff1a6dc6953713f": {
      "model_module": "@jupyter-widgets/controls",
      "model_module_version": "1.4.0",
      "model_name": "DescriptionStyleModel",
      "state": {
       "_model_module_version": "1.4.0",
       "_view_module_version": "1.1.0",
       "description_width": ""
      }
     },
     "471f2bdd787e449cb5d5ea989258f359": {
      "model_module": "@jupyter-widgets/controls",
      "model_module_version": "1.4.0",
      "model_name": "FloatSliderModel",
      "state": {
       "_model_module_version": "1.4.0",
       "_view_module_version": "1.4.0",
       "description": "w2",
       "description_tooltip": null,
       "layout": "IPY_MODEL_e67984cd965f4578b9b166de904a9684",
       "max": 1,
       "min": -1,
       "step": 0.1,
       "style": "IPY_MODEL_7409f17e58304ca290462ab5c1f514dc",
       "value": 0.5
      }
     },
     "488aab82434d4a88b30371a6eb02aa66": {
      "model_module": "@jupyter-widgets/base",
      "model_module_version": "1.1.0",
      "model_name": "LayoutModel",
      "state": {
       "_model_module_version": "1.1.0",
       "_view_module_version": "1.1.0",
       "grid_area": null,
       "grid_auto_columns": null,
       "grid_auto_flow": null,
       "grid_auto_rows": null,
       "grid_column": null,
       "grid_gap": null,
       "grid_row": null,
       "grid_template_areas": null,
       "grid_template_columns": null,
       "grid_template_rows": null
      }
     },
     "4a886583cbeb4fa29f7abbaf2e180e41": {
      "model_module": "@jupyter-widgets/base",
      "model_module_version": "1.1.0",
      "model_name": "LayoutModel",
      "state": {
       "_model_module_version": "1.1.0",
       "_view_module_version": "1.1.0",
       "grid_area": null,
       "grid_auto_columns": null,
       "grid_auto_flow": null,
       "grid_auto_rows": null,
       "grid_column": null,
       "grid_gap": null,
       "grid_row": null,
       "grid_template_areas": null,
       "grid_template_columns": null,
       "grid_template_rows": null
      }
     },
     "4b1d8f421b8845eaa17ce3176f3d6832": {
      "model_module": "@jupyter-widgets/controls",
      "model_module_version": "1.4.0",
      "model_name": "DropdownModel",
      "state": {
       "_model_module_version": "1.4.0",
       "_options_labels": [
        "and",
        "or",
        "not"
       ],
       "_view_module_version": "1.4.0",
       "description": "logic",
       "description_tooltip": null,
       "index": 1,
       "layout": "IPY_MODEL_bcc06dc86e68494c89d572fb2986db17",
       "style": "IPY_MODEL_532a37b083a743a79766ce9e6098ce85"
      }
     },
     "4c96276efe794ec1b22ad292ab309bfc": {
      "model_module": "@jupyter-widgets/controls",
      "model_module_version": "1.4.0",
      "model_name": "FloatSliderModel",
      "state": {
       "_model_module_version": "1.4.0",
       "_view_module_version": "1.4.0",
       "description": "b",
       "description_tooltip": null,
       "layout": "IPY_MODEL_67319aed639e47789d1afcc941bd2adc",
       "max": 1,
       "min": -1,
       "step": 0.1,
       "style": "IPY_MODEL_c1cfaafddf5a4c1692018d1149434410",
       "value": -0.7
      }
     },
     "4d6da996052441249ef7c136d3b05df2": {
      "model_module": "@jupyter-widgets/base",
      "model_module_version": "1.1.0",
      "model_name": "LayoutModel",
      "state": {
       "_model_module_version": "1.1.0",
       "_view_module_version": "1.1.0",
       "grid_area": null,
       "grid_auto_columns": null,
       "grid_auto_flow": null,
       "grid_auto_rows": null,
       "grid_column": null,
       "grid_gap": null,
       "grid_row": null,
       "grid_template_areas": null,
       "grid_template_columns": null,
       "grid_template_rows": null
      }
     },
     "4eefe66dd8ee43309b1e55ea2410359a": {
      "model_module": "@jupyter-widgets/controls",
      "model_module_version": "1.4.0",
      "model_name": "VBoxModel",
      "state": {
       "_dom_classes": [
        "widget-interact"
       ],
       "_model_module_version": "1.4.0",
       "_view_module_version": "1.4.0",
       "children": [
        "IPY_MODEL_d4566d33b941462ca2a844a9218636d5",
        "IPY_MODEL_b7eef0a30d0249c19c91907665e6962e",
        "IPY_MODEL_cf54d7cccb0b4ba29097b29c4a2809ef",
        "IPY_MODEL_ad104d9c58dd44dc8744a695abb1adba",
        "IPY_MODEL_87247c7b8ff24bbf986e9f126d13ff3f"
       ],
       "layout": "IPY_MODEL_95aa66b2feb7443ca4ac107033eca381"
      }
     },
     "5121db9683044d4db3f65488bb12ee66": {
      "model_module": "@jupyter-widgets/base",
      "model_module_version": "1.1.0",
      "model_name": "LayoutModel",
      "state": {
       "_model_module_version": "1.1.0",
       "_view_module_version": "1.1.0",
       "grid_area": null,
       "grid_auto_columns": null,
       "grid_auto_flow": null,
       "grid_auto_rows": null,
       "grid_column": null,
       "grid_gap": null,
       "grid_row": null,
       "grid_template_areas": null,
       "grid_template_columns": null,
       "grid_template_rows": null
      }
     },
     "5236416857ab48d0b4b8fc45e43b310d": {
      "model_module": "@jupyter-widgets/base",
      "model_module_version": "1.1.0",
      "model_name": "LayoutModel",
      "state": {
       "_model_module_version": "1.1.0",
       "_view_module_version": "1.1.0",
       "grid_area": null,
       "grid_auto_columns": null,
       "grid_auto_flow": null,
       "grid_auto_rows": null,
       "grid_column": null,
       "grid_gap": null,
       "grid_row": null,
       "grid_template_areas": null,
       "grid_template_columns": null,
       "grid_template_rows": null
      }
     },
     "526da3a9c3454179970c5682664d1388": {
      "model_module": "@jupyter-widgets/controls",
      "model_module_version": "1.4.0",
      "model_name": "SliderStyleModel",
      "state": {
       "_model_module_version": "1.4.0",
       "_view_module_version": "1.1.0",
       "description_width": ""
      }
     },
     "527442d6f22949fb8e9050aafffec50f": {
      "model_module": "@jupyter-widgets/base",
      "model_module_version": "1.1.0",
      "model_name": "LayoutModel",
      "state": {
       "_model_module_version": "1.1.0",
       "_view_module_version": "1.1.0",
       "grid_area": null,
       "grid_auto_columns": null,
       "grid_auto_flow": null,
       "grid_auto_rows": null,
       "grid_column": null,
       "grid_gap": null,
       "grid_row": null,
       "grid_template_areas": null,
       "grid_template_columns": null,
       "grid_template_rows": null
      }
     },
     "532a37b083a743a79766ce9e6098ce85": {
      "model_module": "@jupyter-widgets/controls",
      "model_module_version": "1.4.0",
      "model_name": "DescriptionStyleModel",
      "state": {
       "_model_module_version": "1.4.0",
       "_view_module_version": "1.1.0",
       "description_width": ""
      }
     },
     "55b3c94a95154581b60ad915ea021b1e": {
      "model_module": "@jupyter-widgets/base",
      "model_module_version": "1.1.0",
      "model_name": "LayoutModel",
      "state": {
       "_model_module_version": "1.1.0",
       "_view_module_version": "1.1.0",
       "grid_area": null,
       "grid_auto_columns": null,
       "grid_auto_flow": null,
       "grid_auto_rows": null,
       "grid_column": null,
       "grid_gap": null,
       "grid_row": null,
       "grid_template_areas": null,
       "grid_template_columns": null,
       "grid_template_rows": null
      }
     },
     "57192426d1074c48ac7e7c08f9d496f7": {
      "model_module": "@jupyter-widgets/base",
      "model_module_version": "1.1.0",
      "model_name": "LayoutModel",
      "state": {
       "_model_module_version": "1.1.0",
       "_view_module_version": "1.1.0",
       "grid_area": null,
       "grid_auto_columns": null,
       "grid_auto_flow": null,
       "grid_auto_rows": null,
       "grid_column": null,
       "grid_gap": null,
       "grid_row": null,
       "grid_template_areas": null,
       "grid_template_columns": null,
       "grid_template_rows": null
      }
     },
     "581bff7cc889466fa301f86c79f3219b": {
      "model_module": "@jupyter-widgets/base",
      "model_module_version": "1.1.0",
      "model_name": "LayoutModel",
      "state": {
       "_model_module_version": "1.1.0",
       "_view_module_version": "1.1.0",
       "grid_area": null,
       "grid_auto_columns": null,
       "grid_auto_flow": null,
       "grid_auto_rows": null,
       "grid_column": null,
       "grid_gap": null,
       "grid_row": null,
       "grid_template_areas": null,
       "grid_template_columns": null,
       "grid_template_rows": null
      }
     },
     "58f75e7889b940968648b474b64c91a9": {
      "model_module": "@jupyter-widgets/controls",
      "model_module_version": "1.4.0",
      "model_name": "FloatSliderModel",
      "state": {
       "_model_module_version": "1.4.0",
       "_view_module_version": "1.4.0",
       "description": "w2",
       "description_tooltip": null,
       "layout": "IPY_MODEL_a68cb86a4d084299bce7a4686c8d79ac",
       "max": 1,
       "min": -1,
       "step": 0.1,
       "style": "IPY_MODEL_65db2997a17641b7a9f46f6b07577eb4",
       "value": 0.5
      }
     },
     "59dde180974349589ac4c62273f92c22": {
      "model_module": "@jupyter-widgets/base",
      "model_module_version": "1.1.0",
      "model_name": "LayoutModel",
      "state": {
       "_model_module_version": "1.1.0",
       "_view_module_version": "1.1.0",
       "grid_area": null,
       "grid_auto_columns": null,
       "grid_auto_flow": null,
       "grid_auto_rows": null,
       "grid_column": null,
       "grid_gap": null,
       "grid_row": null,
       "grid_template_areas": null,
       "grid_template_columns": null,
       "grid_template_rows": null
      }
     },
     "5eb1c2c5a8494319a453522fa79fd11c": {
      "model_module": "@jupyter-widgets/controls",
      "model_module_version": "1.4.0",
      "model_name": "VBoxModel",
      "state": {
       "_dom_classes": [
        "widget-interact"
       ],
       "_model_module_version": "1.4.0",
       "_view_module_version": "1.4.0",
       "children": [
        "IPY_MODEL_71a9549dfbca4a0caf01a9a0305e087a",
        "IPY_MODEL_dfabb20d72c8435584c2d2b69445c5e8",
        "IPY_MODEL_33b06fca7f804cf0a656f108ff6c15e4",
        "IPY_MODEL_eeb858068ca74bb3afb6d1ff0c746d77",
        "IPY_MODEL_93ce46fd8698436888ff8c5f4ef8c829"
       ],
       "layout": "IPY_MODEL_e8e534667435414291a1a12d635d62c1"
      }
     },
     "5ff5ec9751eb4cc7a19a64cf91aa226a": {
      "model_module": "@jupyter-widgets/base",
      "model_module_version": "1.1.0",
      "model_name": "LayoutModel",
      "state": {
       "_model_module_version": "1.1.0",
       "_view_module_version": "1.1.0",
       "grid_area": null,
       "grid_auto_columns": null,
       "grid_auto_flow": null,
       "grid_auto_rows": null,
       "grid_column": null,
       "grid_gap": null,
       "grid_row": null,
       "grid_template_areas": null,
       "grid_template_columns": null,
       "grid_template_rows": null
      }
     },
     "6036de314cdf4179b95a628b6dddfa72": {
      "model_module": "@jupyter-widgets/controls",
      "model_module_version": "1.4.0",
      "model_name": "FloatSliderModel",
      "state": {
       "_model_module_version": "1.4.0",
       "_view_module_version": "1.4.0",
       "description": "w1",
       "description_tooltip": null,
       "layout": "IPY_MODEL_b5448a425fe349b08c07b51063a208af",
       "max": 1,
       "min": -1,
       "step": 0.1,
       "style": "IPY_MODEL_526da3a9c3454179970c5682664d1388",
       "value": 0.5
      }
     },
     "60bf2d38e38845d0ba7d4d8849e16652": {
      "model_module": "@jupyter-widgets/controls",
      "model_module_version": "1.4.0",
      "model_name": "SliderStyleModel",
      "state": {
       "_model_module_version": "1.4.0",
       "_view_module_version": "1.1.0",
       "description_width": ""
      }
     },
     "615d111a165848259d85b2981f8c3a73": {
      "model_module": "@jupyter-widgets/controls",
      "model_module_version": "1.4.0",
      "model_name": "FloatSliderModel",
      "state": {
       "_model_module_version": "1.4.0",
       "_view_module_version": "1.4.0",
       "description": "w2",
       "description_tooltip": null,
       "layout": "IPY_MODEL_59dde180974349589ac4c62273f92c22",
       "max": 1,
       "min": -1,
       "step": 0.1,
       "style": "IPY_MODEL_106a0af4cce241fdada2e4a3383f8bfd",
       "value": 0.5
      }
     },
     "6256cfd21e864251a766f82fffb12f10": {
      "model_module": "@jupyter-widgets/controls",
      "model_module_version": "1.4.0",
      "model_name": "FloatSliderModel",
      "state": {
       "_model_module_version": "1.4.0",
       "_view_module_version": "1.4.0",
       "description": "w2",
       "description_tooltip": null,
       "layout": "IPY_MODEL_24b68260cc4b47a9b93a3c642cbeb17a",
       "max": 1,
       "min": -1,
       "step": 0.1,
       "style": "IPY_MODEL_fc4e3205c03743d0ad9dfc8849b71320",
       "value": 0.5
      }
     },
     "646ca2c483e3487eb0fa34d430bcc416": {
      "model_module": "@jupyter-widgets/base",
      "model_module_version": "1.1.0",
      "model_name": "LayoutModel",
      "state": {
       "_model_module_version": "1.1.0",
       "_view_module_version": "1.1.0",
       "grid_area": null,
       "grid_auto_columns": null,
       "grid_auto_flow": null,
       "grid_auto_rows": null,
       "grid_column": null,
       "grid_gap": null,
       "grid_row": null,
       "grid_template_areas": null,
       "grid_template_columns": null,
       "grid_template_rows": null
      }
     },
     "64e4a239d5be466c871e3ed92541a174": {
      "model_module": "@jupyter-widgets/controls",
      "model_module_version": "1.4.0",
      "model_name": "DropdownModel",
      "state": {
       "_model_module_version": "1.4.0",
       "_options_labels": [
        "and",
        "or",
        "not"
       ],
       "_view_module_version": "1.4.0",
       "description": "logic",
       "description_tooltip": null,
       "index": 1,
       "layout": "IPY_MODEL_be23e601039e455c952bb25476bbf6b0",
       "style": "IPY_MODEL_2d73ba5725084d0b9b4952db9854936a"
      }
     },
     "65db2997a17641b7a9f46f6b07577eb4": {
      "model_module": "@jupyter-widgets/controls",
      "model_module_version": "1.4.0",
      "model_name": "SliderStyleModel",
      "state": {
       "_model_module_version": "1.4.0",
       "_view_module_version": "1.1.0",
       "description_width": ""
      }
     },
     "67319aed639e47789d1afcc941bd2adc": {
      "model_module": "@jupyter-widgets/base",
      "model_module_version": "1.1.0",
      "model_name": "LayoutModel",
      "state": {
       "_model_module_version": "1.1.0",
       "_view_module_version": "1.1.0",
       "grid_area": null,
       "grid_auto_columns": null,
       "grid_auto_flow": null,
       "grid_auto_rows": null,
       "grid_column": null,
       "grid_gap": null,
       "grid_row": null,
       "grid_template_areas": null,
       "grid_template_columns": null,
       "grid_template_rows": null
      }
     },
     "68b3e0e34c984fa489485726b19c4704": {
      "model_module": "@jupyter-widgets/controls",
      "model_module_version": "1.4.0",
      "model_name": "VBoxModel",
      "state": {
       "_dom_classes": [
        "widget-interact"
       ],
       "_model_module_version": "1.4.0",
       "_view_module_version": "1.4.0",
       "children": [
        "IPY_MODEL_d05e32a82f8d4487a264a1beb8962c0b",
        "IPY_MODEL_0a8e4c62ca6b4cb2999b6b826edadfb5",
        "IPY_MODEL_8d3a08889707433b9ed273990be9f081",
        "IPY_MODEL_f0430cc21ce34ed5a3914603c84afd90",
        "IPY_MODEL_f97ac8794e43454b9688e6579fcdbf5f"
       ],
       "layout": "IPY_MODEL_55b3c94a95154581b60ad915ea021b1e"
      }
     },
     "6a44d035e5534746ab96c69ffcf4db40": {
      "model_module": "@jupyter-widgets/controls",
      "model_module_version": "1.4.0",
      "model_name": "SliderStyleModel",
      "state": {
       "_model_module_version": "1.4.0",
       "_view_module_version": "1.1.0",
       "description_width": ""
      }
     },
     "6a5cd650b376420c98a4588c1c7b92ca": {
      "model_module": "@jupyter-widgets/controls",
      "model_module_version": "1.4.0",
      "model_name": "SliderStyleModel",
      "state": {
       "_model_module_version": "1.4.0",
       "_view_module_version": "1.1.0",
       "description_width": ""
      }
     },
     "6fe95da3ab374ccaa467451a6c128fe4": {
      "model_module": "@jupyter-widgets/controls",
      "model_module_version": "1.4.0",
      "model_name": "SliderStyleModel",
      "state": {
       "_model_module_version": "1.4.0",
       "_view_module_version": "1.1.0",
       "description_width": ""
      }
     },
     "7054502132ed48bebf765c5fb550c549": {
      "model_module": "@jupyter-widgets/controls",
      "model_module_version": "1.4.0",
      "model_name": "FloatSliderModel",
      "state": {
       "_model_module_version": "1.4.0",
       "_view_module_version": "1.4.0",
       "description": "b",
       "description_tooltip": null,
       "layout": "IPY_MODEL_8f3ff69d7d504e58a382e9c193cc36cf",
       "max": 1,
       "min": -1,
       "step": 0.1,
       "style": "IPY_MODEL_6a5cd650b376420c98a4588c1c7b92ca",
       "value": -0.7
      }
     },
     "71a9549dfbca4a0caf01a9a0305e087a": {
      "model_module": "@jupyter-widgets/controls",
      "model_module_version": "1.4.0",
      "model_name": "FloatSliderModel",
      "state": {
       "_model_module_version": "1.4.0",
       "_view_module_version": "1.4.0",
       "description": "w1",
       "description_tooltip": null,
       "layout": "IPY_MODEL_646ca2c483e3487eb0fa34d430bcc416",
       "max": 1,
       "min": -1,
       "step": 0.1,
       "style": "IPY_MODEL_42e57eb52df94b188b2556193c295d3f",
       "value": 0.5
      }
     },
     "71e0c8935ae741a186b5c7edb5e8df42": {
      "model_module": "@jupyter-widgets/base",
      "model_module_version": "1.1.0",
      "model_name": "LayoutModel",
      "state": {
       "_model_module_version": "1.1.0",
       "_view_module_version": "1.1.0",
       "grid_area": null,
       "grid_auto_columns": null,
       "grid_auto_flow": null,
       "grid_auto_rows": null,
       "grid_column": null,
       "grid_gap": null,
       "grid_row": null,
       "grid_template_areas": null,
       "grid_template_columns": null,
       "grid_template_rows": null
      }
     },
     "7346fe17fe3f4d82be92ffe4ea27ed27": {
      "model_module": "@jupyter-widgets/controls",
      "model_module_version": "1.4.0",
      "model_name": "FloatSliderModel",
      "state": {
       "_model_module_version": "1.4.0",
       "_view_module_version": "1.4.0",
       "description": "w1",
       "description_tooltip": null,
       "layout": "IPY_MODEL_9b29e9464c974b0d88163ccba01277c4",
       "max": 1,
       "min": -1,
       "step": 0.1,
       "style": "IPY_MODEL_9a971b03e3e24bc9b7cf380ded0a54be",
       "value": 0.5
      }
     },
     "7409f17e58304ca290462ab5c1f514dc": {
      "model_module": "@jupyter-widgets/controls",
      "model_module_version": "1.4.0",
      "model_name": "SliderStyleModel",
      "state": {
       "_model_module_version": "1.4.0",
       "_view_module_version": "1.1.0",
       "description_width": ""
      }
     },
     "786c0d2af73740be9f6e021b32aa34f4": {
      "model_module": "@jupyter-widgets/base",
      "model_module_version": "1.1.0",
      "model_name": "LayoutModel",
      "state": {
       "_model_module_version": "1.1.0",
       "_view_module_version": "1.1.0",
       "grid_area": null,
       "grid_auto_columns": null,
       "grid_auto_flow": null,
       "grid_auto_rows": null,
       "grid_column": null,
       "grid_gap": null,
       "grid_row": null,
       "grid_template_areas": null,
       "grid_template_columns": null,
       "grid_template_rows": null
      }
     },
     "7a6e2a87c03c49aa841289020ca04d1d": {
      "model_module": "@jupyter-widgets/controls",
      "model_module_version": "1.4.0",
      "model_name": "DropdownModel",
      "state": {
       "_model_module_version": "1.4.0",
       "_options_labels": [
        "and",
        "or",
        "not"
       ],
       "_view_module_version": "1.4.0",
       "description": "logic",
       "description_tooltip": null,
       "index": 1,
       "layout": "IPY_MODEL_96ad2a13122c47b8b5f0945cad3858d5",
       "style": "IPY_MODEL_849ff426e00d43eaa273dfd21253d0ba"
      }
     },
     "7b234639f7654c36869f41f3610e6a43": {
      "model_module": "@jupyter-widgets/base",
      "model_module_version": "1.1.0",
      "model_name": "LayoutModel",
      "state": {
       "_model_module_version": "1.1.0",
       "_view_module_version": "1.1.0",
       "grid_area": null,
       "grid_auto_columns": null,
       "grid_auto_flow": null,
       "grid_auto_rows": null,
       "grid_column": null,
       "grid_gap": null,
       "grid_row": null,
       "grid_template_areas": null,
       "grid_template_columns": null,
       "grid_template_rows": null
      }
     },
     "7bbbaa0e458e44719a38598b86235cf0": {
      "model_module": "@jupyter-widgets/base",
      "model_module_version": "1.1.0",
      "model_name": "LayoutModel",
      "state": {
       "_model_module_version": "1.1.0",
       "_view_module_version": "1.1.0",
       "grid_area": null,
       "grid_auto_columns": null,
       "grid_auto_flow": null,
       "grid_auto_rows": null,
       "grid_column": null,
       "grid_gap": null,
       "grid_row": null,
       "grid_template_areas": null,
       "grid_template_columns": null,
       "grid_template_rows": null
      }
     },
     "8139db89848544afbf0cd9ab48e03221": {
      "model_module": "@jupyter-widgets/base",
      "model_module_version": "1.1.0",
      "model_name": "LayoutModel",
      "state": {
       "_model_module_version": "1.1.0",
       "_view_module_version": "1.1.0",
       "grid_area": null,
       "grid_auto_columns": null,
       "grid_auto_flow": null,
       "grid_auto_rows": null,
       "grid_column": null,
       "grid_gap": null,
       "grid_row": null,
       "grid_template_areas": null,
       "grid_template_columns": null,
       "grid_template_rows": null
      }
     },
     "83f06cad11d84172839ab370f6210746": {
      "model_module": "@jupyter-widgets/controls",
      "model_module_version": "1.4.0",
      "model_name": "FloatSliderModel",
      "state": {
       "_model_module_version": "1.4.0",
       "_view_module_version": "1.4.0",
       "description": "w2",
       "description_tooltip": null,
       "layout": "IPY_MODEL_b651634a47c842c5b139bc7b9ed1afba",
       "max": 1,
       "min": -1,
       "step": 0.1,
       "style": "IPY_MODEL_d7a387d61e564da09e008398c8e99748",
       "value": 0.5
      }
     },
     "844e1c87226f4d49b134ec58c4fd6000": {
      "model_module": "@jupyter-widgets/base",
      "model_module_version": "1.1.0",
      "model_name": "LayoutModel",
      "state": {
       "_model_module_version": "1.1.0",
       "_view_module_version": "1.1.0",
       "grid_area": null,
       "grid_auto_columns": null,
       "grid_auto_flow": null,
       "grid_auto_rows": null,
       "grid_column": null,
       "grid_gap": null,
       "grid_row": null,
       "grid_template_areas": null,
       "grid_template_columns": null,
       "grid_template_rows": null
      }
     },
     "849ff426e00d43eaa273dfd21253d0ba": {
      "model_module": "@jupyter-widgets/controls",
      "model_module_version": "1.4.0",
      "model_name": "DescriptionStyleModel",
      "state": {
       "_model_module_version": "1.4.0",
       "_view_module_version": "1.1.0",
       "description_width": ""
      }
     },
     "863cfec009a54351b4c1c45a50ff9546": {
      "model_module": "@jupyter-widgets/controls",
      "model_module_version": "1.4.0",
      "model_name": "SliderStyleModel",
      "state": {
       "_model_module_version": "1.4.0",
       "_view_module_version": "1.1.0",
       "description_width": ""
      }
     },
     "86f8b99d12fe4a548359a4d2f0895135": {
      "model_module": "@jupyter-widgets/base",
      "model_module_version": "1.1.0",
      "model_name": "LayoutModel",
      "state": {
       "_model_module_version": "1.1.0",
       "_view_module_version": "1.1.0",
       "grid_area": null,
       "grid_auto_columns": null,
       "grid_auto_flow": null,
       "grid_auto_rows": null,
       "grid_column": null,
       "grid_gap": null,
       "grid_row": null,
       "grid_template_areas": null,
       "grid_template_columns": null,
       "grid_template_rows": null
      }
     },
     "87247c7b8ff24bbf986e9f126d13ff3f": {
      "model_module": "@jupyter-widgets/output",
      "model_module_version": "1.0.0",
      "model_name": "OutputModel",
      "state": {
       "layout": "IPY_MODEL_ca3a302602a64bdaa2a0b8052535d803",
       "outputs": [
        {
         "data": {
          "image/png": "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\n",
          "text/plain": "<Figure size 576x576 with 1 Axes>"
         },
         "metadata": {
          "needs_background": "light"
         },
         "output_type": "display_data"
        }
       ]
      }
     },
     "8767034109fa462197866f6b41bcc683": {
      "model_module": "@jupyter-widgets/controls",
      "model_module_version": "1.4.0",
      "model_name": "FloatSliderModel",
      "state": {
       "_model_module_version": "1.4.0",
       "_view_module_version": "1.4.0",
       "description": "b",
       "description_tooltip": null,
       "layout": "IPY_MODEL_4d6da996052441249ef7c136d3b05df2",
       "max": 1,
       "min": -1,
       "step": 0.1,
       "style": "IPY_MODEL_9f3b2d01ed0f4f188e54c8bec070e957",
       "value": -0.7
      }
     },
     "8bc2b61959d74074943c8516998cad16": {
      "model_module": "@jupyter-widgets/controls",
      "model_module_version": "1.4.0",
      "model_name": "DropdownModel",
      "state": {
       "_model_module_version": "1.4.0",
       "_options_labels": [
        "and",
        "or",
        "not"
       ],
       "_view_module_version": "1.4.0",
       "description": "logic",
       "description_tooltip": null,
       "index": 1,
       "layout": "IPY_MODEL_0c0bd17e61de4e00ac7da15ee20df65d",
       "style": "IPY_MODEL_1f9d165d6caa45ae9421108b2afff60c"
      }
     },
     "8c987119fd1940beb069e8c7811beb67": {
      "model_module": "@jupyter-widgets/base",
      "model_module_version": "1.1.0",
      "model_name": "LayoutModel",
      "state": {
       "_model_module_version": "1.1.0",
       "_view_module_version": "1.1.0",
       "grid_area": null,
       "grid_auto_columns": null,
       "grid_auto_flow": null,
       "grid_auto_rows": null,
       "grid_column": null,
       "grid_gap": null,
       "grid_row": null,
       "grid_template_areas": null,
       "grid_template_columns": null,
       "grid_template_rows": null
      }
     },
     "8d2a7774b8b943c59b9e1cab53168b73": {
      "model_module": "@jupyter-widgets/base",
      "model_module_version": "1.1.0",
      "model_name": "LayoutModel",
      "state": {
       "_model_module_version": "1.1.0",
       "_view_module_version": "1.1.0",
       "grid_area": null,
       "grid_auto_columns": null,
       "grid_auto_flow": null,
       "grid_auto_rows": null,
       "grid_column": null,
       "grid_gap": null,
       "grid_row": null,
       "grid_template_areas": null,
       "grid_template_columns": null,
       "grid_template_rows": null
      }
     },
     "8d3a08889707433b9ed273990be9f081": {
      "model_module": "@jupyter-widgets/controls",
      "model_module_version": "1.4.0",
      "model_name": "FloatSliderModel",
      "state": {
       "_model_module_version": "1.4.0",
       "_view_module_version": "1.4.0",
       "description": "b",
       "description_tooltip": null,
       "layout": "IPY_MODEL_c37bfdd0ebef42d88b6381c2957b3f42",
       "max": 1,
       "min": -1,
       "step": 0.1,
       "style": "IPY_MODEL_1446fa4f5d21493d830c1d00e3c75e15",
       "value": -0.7
      }
     },
     "8eea9c23a65748db8390b7faca8cd399": {
      "model_module": "@jupyter-widgets/controls",
      "model_module_version": "1.4.0",
      "model_name": "DescriptionStyleModel",
      "state": {
       "_model_module_version": "1.4.0",
       "_view_module_version": "1.1.0",
       "description_width": ""
      }
     },
     "8f3ff69d7d504e58a382e9c193cc36cf": {
      "model_module": "@jupyter-widgets/base",
      "model_module_version": "1.1.0",
      "model_name": "LayoutModel",
      "state": {
       "_model_module_version": "1.1.0",
       "_view_module_version": "1.1.0",
       "grid_area": null,
       "grid_auto_columns": null,
       "grid_auto_flow": null,
       "grid_auto_rows": null,
       "grid_column": null,
       "grid_gap": null,
       "grid_row": null,
       "grid_template_areas": null,
       "grid_template_columns": null,
       "grid_template_rows": null
      }
     },
     "8fea79e8711d49b8a2a5e0ac2ec6d057": {
      "model_module": "@jupyter-widgets/controls",
      "model_module_version": "1.4.0",
      "model_name": "FloatSliderModel",
      "state": {
       "_model_module_version": "1.4.0",
       "_view_module_version": "1.4.0",
       "description": "w1",
       "description_tooltip": null,
       "layout": "IPY_MODEL_de41cfd6d9684a30ad5b52183c36f3b4",
       "max": 1,
       "min": -1,
       "step": 0.1,
       "style": "IPY_MODEL_0dfe9b870420443199ac0e1e7973be7f",
       "value": 0.5
      }
     },
     "904d757d084d45d791faada50e8c93cd": {
      "model_module": "@jupyter-widgets/base",
      "model_module_version": "1.1.0",
      "model_name": "LayoutModel",
      "state": {
       "_model_module_version": "1.1.0",
       "_view_module_version": "1.1.0",
       "grid_area": null,
       "grid_auto_columns": null,
       "grid_auto_flow": null,
       "grid_auto_rows": null,
       "grid_column": null,
       "grid_gap": null,
       "grid_row": null,
       "grid_template_areas": null,
       "grid_template_columns": null,
       "grid_template_rows": null
      }
     },
     "93ce46fd8698436888ff8c5f4ef8c829": {
      "model_module": "@jupyter-widgets/output",
      "model_module_version": "1.0.0",
      "model_name": "OutputModel",
      "state": {
       "layout": "IPY_MODEL_bbbbca78d9914ab5a51c3ac5111f44d7",
       "outputs": [
        {
         "data": {
          "image/png": "iVBORw0KGgoAAAANSUhEUgAAAecAAAHjCAYAAAAZnNdCAAAABHNCSVQICAgIfAhkiAAAAAlwSFlzAAALEgAACxIB0t1+/AAAADl0RVh0U29mdHdhcmUAbWF0cGxvdGxpYiB2ZXJzaW9uIDIuMi4zLCBodHRwOi8vbWF0cGxvdGxpYi5vcmcvIxREBQAAIABJREFUeJzt3XuwXWV98PHvLzciN6kh3kggqKiNV/AMYr2UCnYgatIWL1gdBS+pok5fdbS+aKdKy3TQt1atiEXlxVqraIe35hUrjoLyDgiSFLECRkIECVpuIhUiBpLf+8faISeHc1nnZO29nr329zOz5uy913P2erLmJN+stdfeJzITSZJUjnltT0CSJO3OOEuSVBjjLElSYYyzJEmFMc6SJBXGOEuSVBjjLLUkIs6NiK81/JxHR0RGxIFNPq+kwTLOUrdcBjwGuLPJJ42IxRHxlxFxXUTcFxG/jIivRcSzJ4w7qfefg53LrRHxfyPiKU3OR+o64yx1SGZuy8z/ygY/XSgiFgHfBN4M/A3wJOAY4Dbg/0XESyd8y1aq/yA8FngxsA9wQe95JNVgnKVCRMReEfHR3tHmfRFxeUQ8b8KYF0fExt76SyLixN4R6ore+oec1o6IoyLiooi4NyLu7t1+7Cym9j+A5wEvzcwvZOZNmXlVZr4e+Drw2YjYe9z47P0H4ReZuR74e+AQqqhLqsE4S+X4EPBK4PXA4cB/At+IiMcARMTBwPnABcAzgI/3vmdKEfEM4GJgE/Bc4CjgPGBBb/1J4+M+hVcD38rM/5hk3YeBpcCLptj+AcCf9u7eP91cJe2yoO0JSIKI2Ad4C/DGzLyg99ibgRcCbwXe31u/OTPf2fu2jRHxROD0aZ76PcAPMnPtuMeuG3f7bmAj04fzicB3plh3be/r+KPifSLiHiCAnUfU6zLzx9NsQ9I4HjlLZXg8sBC4dOcDmbkd+B6wsvfQk4ErJ3zfFTM87+HARVOtzMz/k5lPzsxbZj3jqW0Fngk8C/gz4PreV0k1eeQsla/tXx33E3b9B2GilePG7JSZual3+8e90/JfBP6gT/OTOscjZ6kMNwDbqF4XBiAi5gPPYdep4x8DYxO+78gZnvcqqlPje+JfgGMi4ohJ1r0HuIPqau6p/D1wRET8yR7OQxoZxlkqQGbeC5wFnBERqyLid3v3HwV8sjfsU8DjI+J/RcSTerHbebp4qqPrDwOHR8TZEfGM3ve9sXdxGRHxxxHx44g4aJrpfZTq9Pq6iPjTiDgkIp4ZEecAxwNvyMyt0/zZ/hv4DPDBiPDfHKkG/6JI5fgLqiup/zfwA+DpwHGZ+QuAzLwJOAFYDVwNvAP4YO9775vsCTPzB8CxVK9XX071GvWJ7LoA7OFUF3MtnGpSmfnb3nN8GvgrqlPY36H6j8MLMnNdjT/bx3pzOLHGWGnkRYOfVSBpwCLiz4HTgAOa/OARSe3ygjBpiETEW6mu2L6d6j3Lfwmca5ilbjHO0nB5AnAqsATYQvU69GmtzkhS4zytLUlSYbwgTJKkwhhnSZIK09przgdG5Iq2Ni5NsIFntT0FSZ234Y7MXFpnZGtxXgGsb2vj0kNsIFr/lExJ3RY31R3paW2pJ4m2pyBJgHGWdmOgJZXAOEsTGGhJbTPO0iQMtKQ2GWdpCgZaUluMszQNAy2pDcZZmoGBljRoxlmqwUBLGiTjLNVkoCUNinGWZsFASxqEbv4+50c9Co49Fn7nd+Dee+Gyy2DjxrZnpY5Iwo/6lDpg4UL4wz+E5cshE264AS66CHbsaHtmXYvz054Gp55KnnACsXDh7usuugg+9CG48MJ25qZOMdDS8NpvP3j3u+FNb4JHP3r3dTfeCGedBR/9KGzb1sr0AIjMdv6BGYvIRn/xxapV5Fe+Quy9N9u3J9/4RnDTTfCIR8BLX5rss0/vdOR73gMf/nCTW9YIM9DScHnUo6pjtGc8o7r/ox/BpZfCvHnwwhfC4x9fPf7d78JLXgL33NPk1mNDZo7VGpqZrSzPqs4iNLMccUTu2Lo1MzPPPTdz2bLdV++/f+b735+5ffuOzMzM1762uW27jPxSwBRcXFxqLIsWZV55ZZWB667LfP7zd18fkXn88ZlbtlRjLrig6Tmwvm4jZx4A5wC3AT+aYn0AHwc2AT8Ejhh4nL/2tczM/Mxnph/25jdXOzy3bMlcsKD9nxSXziwFTMHFxWWG5TWvqRKweXPm0qVTj3v84zPvuKMae/TRTc6hfpzrXK19LnDcNOuPBw7rLWuBs2odsjfl0EPJ44/nvvuSv/iL6Yd+6lPw4x8DBx0Eq1cPZHoaDV7FLZXvlFOqr6efDrffPvW4G26Af/iH3b9n0GaMc2ZeAvxymiFrgH/qHZNeDhwQEY9paoIzeulLiXnzOP/84M47Zx5+9tm9G3/0R32dlkaPgZbKtXQpPOc51WvIX/zizOM//enq65o1EC381W7ifc4HATePu7+l99hgLFkCwE9+Um/49df3bjziEf2Zj0aagZbK1EsFt9wCW7fOPP7nP69CvmgR7Ltvf+c2mYF+CElErI2I9RGxfpozCrPzm98AsP/+9Ybvt1/vxn33NTUDaTcGWipPLxW7GjCDhQth8eLqdhu5aCLOtwDLx91f1nvsITLz7Mwcy8yxpQ1sGID11RuyXvay6lL4mbziFbt/n9QPBloqy5YtcOut8NjHwnOfO/P4P/kTWLAArr4a7r+///ObqIk4rwNeG5WjgLsz8xcNPG893/42XH89Bx8Mr3zl9EOf/OTqPc+5bRucc85g5qeRZaClcmzfvut15He/e/qx8+fDO95R3T5rsJc471LjrVRfBH4B3E/1evIbgDcDbx73VqozgRuA/wTGBv5Wqt57pH796x15zDGTD3nCE6rL5zMz87Ofbf+afpeRWQqYgouLC9VnYNxzT5WBv/u76n3NE8csXJj5z/9cjbn11sx9921yDvXfStWdTwg75xw4+WQAvvlN+Mxnqo9hW7IEXv1qePnLk732CrjiiupjYOpcESA1xE8Sk8rwkpfA+edXrynfcEN1ZHzZZdUV2cceC2vXVu+2veceeNGL4PLLm9x6/U8I606cI+C008h3vYt42MMesjp37CDOO6/6MNV7721yy1ItBloqwzHHVAdwK1ZMvv6aa+C1r4X/+I+mtzyKcd7pgAPgda+DF79412+luvTS6g3ON93Ujy1KtRloqQzz5sHxx1e5GP9bqT77WfjOd/q11VGOs1Q4Ay2NqvpxHuj7nCXhVdySZmScpRYYaEnTMc5SSwy0pKkYZ6lFBlrSZIyz1DIDLWki4ywVwEBLGs84S4Uw0JJ2Ms5SQQy0JDDOUnEMtCTjLBXIQEujzThLhTLQ0ugyzlLBDLQ0moyzVDgDLY0e4ywNAQMtjRbjLA0JAy2NDuMsDREDLY0G4ywNGQMtdZ9xloaQgZa6zThLQ8pAS91lnKUhZqClbjLO0pAz0FL3GGepAwy01C3GWeoIAy11h3GWOsRAS91gnKWOMdDS8DPOUgcZaGm4GWepowy0NLyMs9RhBloaTsZZ6jgDLQ0f4yyNAAMtDRfjLI0IAy0ND+MsjRADLQ0H4yyNGAMtlc84SyPIQEtlM87SiDLQUrmMszTCDLRUJuMsjTgDLZXHOEsy0FJhjLMkwEBLJTHOkh5koKUyGGdJuzHQUvuMs6SHMNBSu4yzpEkZaKk9xlnSlAy01A7jLGlaBloaPOMsaUYGWhos4yypFgMtDY5xllSbgZYGwzhLmhUDLfWfcZY0awZa6i/jLGlODLTUP8ZZ0pwZaKk/jLOkPWKgpeYZZ0l7zEBLzTLOkhphoKXmGGdJjTHQUjOMs6RGGWhpzxlnSY0z0NKeMc6S+sJAS3NnnCX1jYGW5sY4S+orAy3NnnGW1HcGWpod4yxpIAy0VJ9xljQwBlqqxzhLGigDLc3MOEsaOAMtTc84S2qFgZamVivOEXFcRGyMiE0R8d5J1h8cERdHxFUR8cOIWNX8VCV1jYGWJjdjnCNiPnAmcDywEnhVRKycMOz9wJcz83DgROCTTU9UUjcZaOmh6hw5HwlsyszNmbkN+BKwZsKYBPbv3X448PPmpiip6wy0tLsFNcYcBNw87v4W4NkTxnwA+GZEvB3YBzi2kdlJGhlJEGTb05CK0NQFYa8Czs3MZcAq4PMR8ZDnjoi1EbE+Itbf3tCGJXWHR9BSpU6cbwGWj7u/rPfYeG8AvgyQmd8DFgMHTnyizDw7M8cyc2zp3OYrqeMMtFQvzlcCh0XEoRGxiOqCr3UTxvwMOAYgIn6XKs4eHEuaEwOtUTdjnDPzAeBtwIXAdVRXZV8TEadFxOresHcBb4qIq4EvAidlpi8eSZozA61RFm01dCwi17eyZUnDxIvE1B2xITPH6oz0E8IkFc0jaI0i4yypeAZao8Y4SxoKBlqjxDhLGhoGWqPCOEsaKgZao8A4Sxo6BlpdZ5wlDSUDrS4zzpKGloFWVxlnSUPNQKuLjLOkoWeg1TXGWVInGGh1iXGW1BkGWl1hnCV1ioFWFxhnSZ1joDXsjLOkTjLQGmbGWVJnGWgNK+MsqdMMtIaRcZbUeQZaw8Y4SxoJBlrDxDhLGhkGWsPCOEsaKQZaw8A4Sxo5BlqlM86SRpKBVsmMs6SRZaBVKuMsaaQZaJXIOEsaeQZapTHOkoSBVlmMsyT1GGiVwjhL0jgGWiUwzpI0gYFW24yzJE3CQKtNxlmSpmCg1RbjLEnTMNBqg3GWpBkYaA2acZakGgy0Bsk4S1JNBlqDYpwlaRYMtAbBOEvSLBlo9ZtxlqQ5MNDqJ+MsSXNkoNUvxlmS9oCBVj8YZ0naQwZaTTPOktQAA60mGWdJaoiBVlOMsyQ1yECrCcZZkhpmoLWnjLMk9YGB1p4wzpLUJwZac2WcJamPDLTmwjhLUp8ZaM2WcZakATDQmg3jLEkDYqBVl3GWpAEy0KrDOEvSgBlozcQ4S1ILDLSmY5wlqSUGWlMxzpLUIgOtyRhnSWqZgdZExlmSCmCgNZ5xlqRCGGjtZJwlqSAGWmCcJak4BlrGWZIKZKBHm3GWpEIZ6NFlnCWpYAZ6NBlnSSqcgR49xlmShoCBHi3GWZKGhIEeHcZZkoaIgR4NxlmShoyB7r5acY6I4yJiY0Rsioj3TjHmFRFxbURcExH/0uw0JUnjGehuWzDTgIiYD5wJvAjYAlwZEesy89pxYw4D/ifw3My8KyIe2a8JS5IqSRBk29NQH9Q5cj4S2JSZmzNzG/AlYM2EMW8CzszMuwAy87ZmpylJmoxH0N1UJ84HATePu7+l99h4TwSeGBGXRsTlEXFcUxOUJE3PQHfPjKe1Z/E8hwFHA8uASyLiaZn5q/GDImItsBbg4IY2LEnyFHfX1DlyvgVYPu7+st5j420B1mXm/Zn5U+AnVLHeTWaenZljmTm2dK4zliRNyiPo7qgT5yuBwyLi0IhYBJwIrJsw5t+ojpqJiAOpTnNvbnCekqQaDHQ3zBjnzHwAeBtwIXAd8OXMvCYiTouI1b1hFwJ3RsS1wMXAuzPzzn5NWpI0NQM9/CKzndcoxiJyfStblqTR4GvQpYkNmTlWZ6SfECZJHeUR9PAyzpLUYQZ6OBlnSeo4Az18jLMkjQADPVyMsySNCAM9PIyzJI0QAz0cjLMkjRgDXT7jLEkjyECXzThL0ogy0OUyzpI0wgx0mYyzJI04A10e4yxJMtCFMc6SJMBAl8Q4S5IeZKDLYJwlSbsx0O0zzpKkhzDQ7TLOkqRJGej2GGdJ0pQMdDuMsyRpWgZ68IyzJGlGBnqwjLMkqRYDPTjGWZJUm4EeDOMsSZoVA91/xlmSNGsGur+MsyRpTgx0/xhnSdKcGej+MM6SpD1ioJtnnCVJe8xAN8s4S5IaYaCbY5wlSY0x0M0wzpKkRhnoPWecJUmNM9B7xjhLkvrCQM+dcZYk9Y2BnhvjLEnqKwM9e8ZZktR3Bnp2jLMkaSAMdH3GWZI0MAa6HuMsSRooAz0z4yxJGjgDPT3jLElqhYGemnGWJLXGQE/OOEuSWmWgH8o4S5JaZ6B3Z5wlSUUw0LsYZ0lSMQx0xThLkopioI2zJKlAox5o4yxJKtIoB9o4S5KKNaqBNs6SpKKNYqCNsySpeKMWaOMsSRoKoxRo4yxJGhqjEmjjLEkaKqMQaOMsSRo6XQ+0cZYkDaUuB9o4S5KGVlcDbZwlSUOti4E2zpKkode1QBtnSVIndCnQxlmS1BldCbRxliR1ShcCbZwlSZ0z7IE2zpKkThrmQBtnSVJnDWugjbMkqdOGMdDGWZLUecMWaOMsSRoJwxRo4yxJGhnDEuhacY6I4yJiY0Rsioj3TjPuhIjIiBhrboqSJDVnGAI9Y5wjYj5wJnA8sBJ4VUSsnGTcfsCfA1c0PUlJkppUeqDrHDkfCWzKzM2ZuQ34ErBmknF/DZwB3Nfg/CRJ6ouSA10nzgcBN4+7v6X32IMi4ghgeWZe0ODcJEnqq1IDvWBPnyAi5gEfAU6qMXYtsBbg4D3dsCRJDUiCINuexm7qHDnfAiwfd39Z77Gd9gOeCnwnIm4EjgLWTXZRWGaenZljmTm2dO5zliSpUaUdQdeJ85XAYRFxaEQsAk4E1u1cmZl3Z+aBmbkiM1cAlwOrM3N9X2YsSVIflBToGeOcmQ8AbwMuBK4DvpyZ10TEaRGxut8TlCRpUEoJdGS2c559LMJDa0lSkfrzGnRsyMxanwPiJ4RJkjRB20fQxlmSpEm0GWjjLEnSFNoKtHGWJGkabQTaOEuSNINBB9o4S5JUwyADbZwlSappUIE2zpIkzcIgAm2cJUmapX4H2jhLkjQH/Qy0cZYkaY76FWjjLEnSHuhHoI2zJEl7qOlAG2dJkhrQZKCNsyRJDWkq0MZZkqQGNRFo4yxJUsP2NNDGWZKkPtiTQBtnSZL6ZK6BNs6SJPXRXAJtnCVJ6rPZBto4S5JUGOMsSVJhjLMkSYUxzpIkFcY4S5JUGOMsSVJhjLMkSYUxzpIkFcY4S5JUGOMsSVJhjLMkSYUxzpIkFcY4S5JUGOMsSVJhjLMkSYUxzpIkFcY4S5JUGOMsSVJhjLMkSYUxzpIkFcY4S5JUGOMsSVJhjLMkSYUxzpIkFcY4S5JUGOMsSVJhjLMkSYUxzpIkFcY4S5JUGOMsSVJhjLMkSYUxzpIkFcY4S5JUGOMsSVJhjLMkSYUxzpIkFcY4S5JUGOMsSVJhjLMkSYUxzpIkFcY4S5JUGOMsSVJhjLMkSYUxzpIkFcY4S5JUGOMsSVJhjLMkSYUxzpIkFcY4S5JUmFpxjojjImJjRGyKiPdOsv6dEXFtRPwwIr4dEYc0P1VJkkbDjHGOiPnAmcDxwErgVRGxcsKwq4CxzHw68K/Ah5qeqCRJo6LOkfORwKbM3JyZ24AvAWvGD8jMizNza+/u5cCyZqcpSdLoqBPng4Cbx93f0ntsKm8A/n1PJiVJ0ihb0OSTRcRrgDHg96dYvxZYC3BwkxuWJKlD6hw53wIsH3d/We+x3UTEscD7gNWZ+dvJnigzz87MscwcWzqX2UqSNALqxPlK4LCIODQiFgEnAuvGD4iIw4F/pArzbc1PU5Kk0TFjnDPzAeBtwIXAdcCXM/OaiDgtIlb3hn0Y2Bf4SkT8ICLWTfF0kiRpBpGZrWx4LCLXt7JlSZIGL2BDZo7VGesnhEmSVBjjLElSYYyzJEmFMc6SJBXGOEuSVBjjLElSYYyzJEmFMc6SJBXGOEuSVBjjLElSYYyzJEmFMc6SJBXGOEuSVBjjLElSYYyzJEmFMc6SJBXGOEuSVBjjLElSYYyzJEmFMc6SJBXGOEuSVBjjLElSYYyzJEmFMc6SJBXGOEuSVBjjLElSYYyzJEmFMc6SJBXGOEuSVBjjLElSYYyzJEmFMc6SJBXGOEuSVBjjLElSYYyzJEmFMc6SJBXGOEuSVBjjLElSYYyzJEmFMc6SJBXGOEuSVBjjLElSYYyzJEmFMc6SJBXGOEuSVBjjLElSYYyzJEmFMc6SJBXGOEuSVBjjLElSYYyzJEmFMc6SJBXGOEuSVBjjLElSYYyzJEmFMc6SJBXGOEuSVBjjLElSYYyzJEmFMc6SJBXGOEuSVBjjLElSYYyzJEmFMc6SJBXGOEuSVBjjLElSYbob54ULYckSWLy47ZlIkkoVAQccAPvv3/ZMdtOtOM+fD2vWwDe+AffdB3fcAb/5DWzYAG98I+y9d9szlCSV4ClPgU98grzrLrjrLrj7brjtNjjjDDj00LZnR2RmKxsei8j1TT7hIx8JX/0qHHVUdX/79mpn77svLFpUPbZlC7zkJXD11U1uWZI0LCLgb/4GTj31wYfuvhvmzYP99qvu5/btxDvfCR//eLObhg2ZOVZnbDeOnPffH771rSrMN98M73gHHHhgdVp7v/3g1a+Gq66CZcvgoovgSU9qe8aSpDb87d/CqafywAPJJz8JT33qrrPaz342fP7zEPPnw8c+Bm9/e3vzzMwZF+A4YCOwCXjvJOv3As7rrb8CWDHTcz4LMptaPvKRzMzMa6/NfOQjJx+zaFHmV79ajbvkkua27eLi4uIyHMuRR2Zm5rZtO3LVqqmHnXxylYod99+fecghjW0fWF+nuVl9x4xhng/cADwOWARcDaycMOYU4FO92ycC5w0sznvvnXnXXdWePPzw6cfuu2/mr35VjX3609v/QXFxcXFxGdzyuc9lZuYZZ8w89AtfqFKRp5/e2PZnE+c6p7WPBDZl5ubM3AZ8CVgzYcwa4HO92/8KHBMRMduj+Dn54z+uzklcdll16no699wDn+tN8+ST+z83SVIZ9tmHfMUr2LEjOeusmYd/4hO9G69/fV+nNZU6cT4IuHnc/S29xyYdk5kPAHcDS5qY4Iwe97jq68UX1xu/c9zO75Mkdd9jHkMsXsxPfxrceOPMw7/3vepNPzz60fCwh/V7dg8x0AvCImJtRKyPiPW3N/ek1dcdO+qN3zluQAf2kqQC9P7Nz6z/LQ+ObaEXdeJ8C7B83P1lvccmHRMRC4CHA3dOfKLMPDszxzJzbOnc5vtQN91UfX3+8+uNf97zqq8/+1lTM5Akle6//ou8/35WrEgOmnjudxJHHNE7YL7zTti6te/Tm6hOnK8EDouIQyNiEdUFX+smjFkHvK53+2XARTmoN1Cff371WvLRR8PKldOPXbx41+sH557b75lJkkrx618T55/PggXBn/3ZzMPf+tbejbZaUfOtVKuAn1Bdtf2+3mOnAat7txcDX6F6K9X3gccN9K1UZ55ZXVW3YUPmwx8++Zj583ddfvf977d/1aCLi4uLy2CX5z8/MzN/85sd+YIXTD3shBMyt2/fkTu2b898whMa2z5NvpWqX0ujcV6yJPP666vwbtyYedJJmYsXV+vmzctctSrzu9+t1v/3f2c+85nt/5C4uLi4uAx+OeusBwN9+umZy5fvWvWkJ2V+7GOZDzywo+rF+97X6LZnE+fufHzn8uXw9a9XH/cC1anu226r3mb1iEdUj91xR/XZ25dd1uSWJUnDYv786mM5TzkFgO3bky1bgnnzqow86AMfgA9+sNFNz+bjO7sTZ4C99oITT4S3vKX6HLadNm+Gs86Cc86BX/6y6a1KkobN7/0enHIK+fKXE73fv5D33kt84QvwyU/25XcwjG6cx1uypDpqvvdeuPXW6qSCJEnj7b139YuTduyoWvHb3/ZtU7OJ84K+zaJtd95ZLZIkTWXrVmp9KsmAdeO3UkmS1CHGWZKkwhhnSZIKY5wlSSqMcZYkqTDGWZKkwhhnSZIKY5wlSSqMcZYkqTDGWZKkwhhnSZIK09ovvoiI24GbBrCpA4E7BrCdLnLfzZ37bu7cd3Pnvpu7Qey7QzJzaZ2BrcV5UCJifd3fAqLdue/mzn03d+67uXPfzV1p+87T2pIkFcY4S5JUmFGI89ltT2CIue/mzn03d+67uXPfzV1R+67zrzlLkjRsRuHIWZKkodKJOEfEcRGxMSI2RcR7J1m/V0Sc11t/RUSsGPwsy1Rj370zIq6NiB9GxLcj4pA25lmimfbduHEnRERGRDFXgratzr6LiFf0fvauiYh/GfQcS1bj7+3BEXFxRFzV+7u7qo15liYizomI2yLiR1Osj4j4eG+//jAijhj0HB+UmUO9APOBG4DHAYuAq4GVE8acAnyqd/tE4Ly2513CUnPf/QGwd+/2W9x39fddb9x+wCXA5cBY2/MuYan5c3cYcBXwO737j2x73qUsNfff2cBberdXAje2Pe8SFuAFwBHAj6ZYvwr4dyCAo4Ar2pprF46cjwQ2ZebmzNwGfAlYM2HMGuBzvdv/ChwTETHAOZZqxn2XmRdn5tbe3cuBZQOeY6nq/NwB/DVwBnDfICdXuDr77k3AmZl5F0Bm3jbgOZaszv5LYP/e7YcDPx/g/IqVmZcAv5xmyBrgn7JyOXBARDxmMLPbXRfifBBw87j7W3qPTTomMx8A7gaWDGR2Zauz78Z7A9X/KlVj3/VOiS3PzAsGObEhUOfn7onAEyPi0oi4PCKOG9jsyldn/30AeE1EbAG+Drx9MFMberP9N7FvFrSxUQ2fiHgNMAb8fttzGQYRMQ/4CHBSy1MZVguoTm0fTXW25pKIeFpm/qrVWQ2PVwHnZubfRcRzgM9HxFMzc0fbE1M9XThyvgVYPu7+st5jk46JiAVUp3nuHMjsylZn3xERxwLvA1Zn5m8HNLfSzbTv9gOeCnwnIm6kev1qnReFAfV+7rYA6zLz/sz8KfATqlir3v57A/BlgMz8HrCY6rOjNb1a/yYOQhfifCVwWEQcGhGLqC74WjdhzDrgdb3bLwMuyt6r/yNuxn0XEYcD/0gVZl/322XafZeZd2fmgZm5IjNXUL1evzoz17cz3aLU+Tv7b1RHzUTEgVSnuTcPcpIFq7P/fgYcAxARv0sV59sHOsvhtA54be+q7aOAuzPzF21MZOhPa2fmAxHxNuBCqqsYz8nMayLiNGB9Zq4DPkt1WmcT1cUAJ7Y343LU3HcfBvYFvtK7hu5nmbm6tUkXoua+0yRq7rsLgT+MiGuB7cC7M9OzXdTef+8CPh0R76C6OOwkD0ggIr5I9Z85gdUWAAAAUklEQVS+A3uvx/8VsBAgMz9F9fr8KmATsBU4uZ2Z+glhkiQVpwuntSVJ6hTjLElSYYyzJEmFMc6SJBXGOEuSVBjjLElSYYyzJEmFMc6SJBXm/wNlJObel7y/CwAAAABJRU5ErkJggg==\n",
          "text/plain": "<Figure size 576x576 with 1 Axes>"
         },
         "metadata": {
          "needs_background": "light"
         },
         "output_type": "display_data"
        }
       ]
      }
     },
     "94c8c04ffea040ea988cdd350ccb26e2": {
      "model_module": "@jupyter-widgets/controls",
      "model_module_version": "1.4.0",
      "model_name": "VBoxModel",
      "state": {
       "_dom_classes": [
        "widget-interact"
       ],
       "_model_module_version": "1.4.0",
       "_view_module_version": "1.4.0",
       "children": [
        "IPY_MODEL_29c7a3bfd98f4cc6bc7b9278577a891c",
        "IPY_MODEL_6256cfd21e864251a766f82fffb12f10",
        "IPY_MODEL_7054502132ed48bebf765c5fb550c549",
        "IPY_MODEL_ba3c1dd760a74e3699f9dc2903cbc99c",
        "IPY_MODEL_9af4a8e962ba43c3b873de26ea05b337"
       ],
       "layout": "IPY_MODEL_009f83869e06411aaade353c57642ca3"
      }
     },
     "95aa66b2feb7443ca4ac107033eca381": {
      "model_module": "@jupyter-widgets/base",
      "model_module_version": "1.1.0",
      "model_name": "LayoutModel",
      "state": {
       "_model_module_version": "1.1.0",
       "_view_module_version": "1.1.0",
       "grid_area": null,
       "grid_auto_columns": null,
       "grid_auto_flow": null,
       "grid_auto_rows": null,
       "grid_column": null,
       "grid_gap": null,
       "grid_row": null,
       "grid_template_areas": null,
       "grid_template_columns": null,
       "grid_template_rows": null
      }
     },
     "96ad2a13122c47b8b5f0945cad3858d5": {
      "model_module": "@jupyter-widgets/base",
      "model_module_version": "1.1.0",
      "model_name": "LayoutModel",
      "state": {
       "_model_module_version": "1.1.0",
       "_view_module_version": "1.1.0",
       "grid_area": null,
       "grid_auto_columns": null,
       "grid_auto_flow": null,
       "grid_auto_rows": null,
       "grid_column": null,
       "grid_gap": null,
       "grid_row": null,
       "grid_template_areas": null,
       "grid_template_columns": null,
       "grid_template_rows": null
      }
     },
     "986cc57cefb1470dadd9f39d625e5ecc": {
      "model_module": "@jupyter-widgets/base",
      "model_module_version": "1.1.0",
      "model_name": "LayoutModel",
      "state": {
       "_model_module_version": "1.1.0",
       "_view_module_version": "1.1.0",
       "grid_area": null,
       "grid_auto_columns": null,
       "grid_auto_flow": null,
       "grid_auto_rows": null,
       "grid_column": null,
       "grid_gap": null,
       "grid_row": null,
       "grid_template_areas": null,
       "grid_template_columns": null,
       "grid_template_rows": null
      }
     },
     "9a971b03e3e24bc9b7cf380ded0a54be": {
      "model_module": "@jupyter-widgets/controls",
      "model_module_version": "1.4.0",
      "model_name": "SliderStyleModel",
      "state": {
       "_model_module_version": "1.4.0",
       "_view_module_version": "1.1.0",
       "description_width": ""
      }
     },
     "9af4a8e962ba43c3b873de26ea05b337": {
      "model_module": "@jupyter-widgets/output",
      "model_module_version": "1.0.0",
      "model_name": "OutputModel",
      "state": {
       "layout": "IPY_MODEL_ddecc346758f46739639e91d2642d268",
       "outputs": [
        {
         "data": {
          "image/png": "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\n",
          "text/plain": "<Figure size 576x576 with 1 Axes>"
         },
         "metadata": {
          "needs_background": "light"
         },
         "output_type": "display_data"
        }
       ]
      }
     },
     "9b29e9464c974b0d88163ccba01277c4": {
      "model_module": "@jupyter-widgets/base",
      "model_module_version": "1.1.0",
      "model_name": "LayoutModel",
      "state": {
       "_model_module_version": "1.1.0",
       "_view_module_version": "1.1.0",
       "grid_area": null,
       "grid_auto_columns": null,
       "grid_auto_flow": null,
       "grid_auto_rows": null,
       "grid_column": null,
       "grid_gap": null,
       "grid_row": null,
       "grid_template_areas": null,
       "grid_template_columns": null,
       "grid_template_rows": null
      }
     },
     "9f3826ac1d304e1b917bf3818409a5dc": {
      "model_module": "@jupyter-widgets/controls",
      "model_module_version": "1.4.0",
      "model_name": "FloatSliderModel",
      "state": {
       "_model_module_version": "1.4.0",
       "_view_module_version": "1.4.0",
       "description": "b",
       "description_tooltip": null,
       "layout": "IPY_MODEL_d7eedc0503bf41f190871564e3711cd6",
       "max": 1,
       "min": -1,
       "step": 0.1,
       "style": "IPY_MODEL_03f660e671944f4cb90bf68b7f56e038",
       "value": -0.7
      }
     },
     "9f3b2d01ed0f4f188e54c8bec070e957": {
      "model_module": "@jupyter-widgets/controls",
      "model_module_version": "1.4.0",
      "model_name": "SliderStyleModel",
      "state": {
       "_model_module_version": "1.4.0",
       "_view_module_version": "1.1.0",
       "description_width": ""
      }
     },
     "a68cb86a4d084299bce7a4686c8d79ac": {
      "model_module": "@jupyter-widgets/base",
      "model_module_version": "1.1.0",
      "model_name": "LayoutModel",
      "state": {
       "_model_module_version": "1.1.0",
       "_view_module_version": "1.1.0",
       "grid_area": null,
       "grid_auto_columns": null,
       "grid_auto_flow": null,
       "grid_auto_rows": null,
       "grid_column": null,
       "grid_gap": null,
       "grid_row": null,
       "grid_template_areas": null,
       "grid_template_columns": null,
       "grid_template_rows": null
      }
     },
     "a6e2ad3ed5c34319ac8e5ac34a623b5a": {
      "model_module": "@jupyter-widgets/base",
      "model_module_version": "1.1.0",
      "model_name": "LayoutModel",
      "state": {
       "_model_module_version": "1.1.0",
       "_view_module_version": "1.1.0",
       "grid_area": null,
       "grid_auto_columns": null,
       "grid_auto_flow": null,
       "grid_auto_rows": null,
       "grid_column": null,
       "grid_gap": null,
       "grid_row": null,
       "grid_template_areas": null,
       "grid_template_columns": null,
       "grid_template_rows": null
      }
     },
     "a861108f666749a2a40e21d74be51f4f": {
      "model_module": "@jupyter-widgets/base",
      "model_module_version": "1.1.0",
      "model_name": "LayoutModel",
      "state": {
       "_model_module_version": "1.1.0",
       "_view_module_version": "1.1.0",
       "grid_area": null,
       "grid_auto_columns": null,
       "grid_auto_flow": null,
       "grid_auto_rows": null,
       "grid_column": null,
       "grid_gap": null,
       "grid_row": null,
       "grid_template_areas": null,
       "grid_template_columns": null,
       "grid_template_rows": null
      }
     },
     "a922507ee8854adcaa3594e92e638dfd": {
      "model_module": "@jupyter-widgets/controls",
      "model_module_version": "1.4.0",
      "model_name": "SliderStyleModel",
      "state": {
       "_model_module_version": "1.4.0",
       "_view_module_version": "1.1.0",
       "description_width": ""
      }
     },
     "a9550905b3164e34b3941cf703a89c1b": {
      "model_module": "@jupyter-widgets/controls",
      "model_module_version": "1.4.0",
      "model_name": "VBoxModel",
      "state": {
       "_dom_classes": [
        "widget-interact"
       ],
       "_model_module_version": "1.4.0",
       "_view_module_version": "1.4.0",
       "children": [
        "IPY_MODEL_f77eb073fd0044699e9f8e1f24e4a6c1",
        "IPY_MODEL_58f75e7889b940968648b474b64c91a9",
        "IPY_MODEL_f58e7e2c6521458b9994812c05c9528b",
        "IPY_MODEL_0f068da17375412089d5c3a7a6e336c6",
        "IPY_MODEL_10bf360d3682403c969e3364c20d6ea0"
       ],
       "layout": "IPY_MODEL_786c0d2af73740be9f6e021b32aa34f4"
      }
     },
     "ab4deca3f7304115a881d41462b9acc3": {
      "model_module": "@jupyter-widgets/base",
      "model_module_version": "1.1.0",
      "model_name": "LayoutModel",
      "state": {
       "_model_module_version": "1.1.0",
       "_view_module_version": "1.1.0",
       "grid_area": null,
       "grid_auto_columns": null,
       "grid_auto_flow": null,
       "grid_auto_rows": null,
       "grid_column": null,
       "grid_gap": null,
       "grid_row": null,
       "grid_template_areas": null,
       "grid_template_columns": null,
       "grid_template_rows": null
      }
     },
     "ad104d9c58dd44dc8744a695abb1adba": {
      "model_module": "@jupyter-widgets/controls",
      "model_module_version": "1.4.0",
      "model_name": "DropdownModel",
      "state": {
       "_model_module_version": "1.4.0",
       "_options_labels": [
        "and",
        "or",
        "not"
       ],
       "_view_module_version": "1.4.0",
       "description": "logic",
       "description_tooltip": null,
       "index": 1,
       "layout": "IPY_MODEL_986cc57cefb1470dadd9f39d625e5ecc",
       "style": "IPY_MODEL_2b8b23aa5fd44ba9b2bef08879092e22"
      }
     },
     "adc6d4b7969a4adc8e50a4e6f8f27ca3": {
      "model_module": "@jupyter-widgets/controls",
      "model_module_version": "1.4.0",
      "model_name": "DescriptionStyleModel",
      "state": {
       "_model_module_version": "1.4.0",
       "_view_module_version": "1.1.0",
       "description_width": ""
      }
     },
     "af1d01a7b0e44c179e28d80dba8d6234": {
      "model_module": "@jupyter-widgets/base",
      "model_module_version": "1.1.0",
      "model_name": "LayoutModel",
      "state": {
       "_model_module_version": "1.1.0",
       "_view_module_version": "1.1.0",
       "grid_area": null,
       "grid_auto_columns": null,
       "grid_auto_flow": null,
       "grid_auto_rows": null,
       "grid_column": null,
       "grid_gap": null,
       "grid_row": null,
       "grid_template_areas": null,
       "grid_template_columns": null,
       "grid_template_rows": null
      }
     },
     "af272701c3024f4a88f8b3d23cee4939": {
      "model_module": "@jupyter-widgets/controls",
      "model_module_version": "1.4.0",
      "model_name": "VBoxModel",
      "state": {
       "_dom_classes": [
        "widget-interact"
       ],
       "_model_module_version": "1.4.0",
       "_view_module_version": "1.4.0",
       "children": [
        "IPY_MODEL_8fea79e8711d49b8a2a5e0ac2ec6d057",
        "IPY_MODEL_20f6a631bb5f471db731f0026c0a6c40",
        "IPY_MODEL_f8090582c4f2422c866be5eb823c004e",
        "IPY_MODEL_7a6e2a87c03c49aa841289020ca04d1d",
        "IPY_MODEL_38dcf43b323748f8979ce470d0fe0955"
       ],
       "layout": "IPY_MODEL_5236416857ab48d0b4b8fc45e43b310d"
      }
     },
     "b1a4a1f700454814ad7c75d19c490742": {
      "model_module": "@jupyter-widgets/base",
      "model_module_version": "1.1.0",
      "model_name": "LayoutModel",
      "state": {
       "_model_module_version": "1.1.0",
       "_view_module_version": "1.1.0",
       "grid_area": null,
       "grid_auto_columns": null,
       "grid_auto_flow": null,
       "grid_auto_rows": null,
       "grid_column": null,
       "grid_gap": null,
       "grid_row": null,
       "grid_template_areas": null,
       "grid_template_columns": null,
       "grid_template_rows": null
      }
     },
     "b5448a425fe349b08c07b51063a208af": {
      "model_module": "@jupyter-widgets/base",
      "model_module_version": "1.1.0",
      "model_name": "LayoutModel",
      "state": {
       "_model_module_version": "1.1.0",
       "_view_module_version": "1.1.0",
       "grid_area": null,
       "grid_auto_columns": null,
       "grid_auto_flow": null,
       "grid_auto_rows": null,
       "grid_column": null,
       "grid_gap": null,
       "grid_row": null,
       "grid_template_areas": null,
       "grid_template_columns": null,
       "grid_template_rows": null
      }
     },
     "b651634a47c842c5b139bc7b9ed1afba": {
      "model_module": "@jupyter-widgets/base",
      "model_module_version": "1.1.0",
      "model_name": "LayoutModel",
      "state": {
       "_model_module_version": "1.1.0",
       "_view_module_version": "1.1.0",
       "grid_area": null,
       "grid_auto_columns": null,
       "grid_auto_flow": null,
       "grid_auto_rows": null,
       "grid_column": null,
       "grid_gap": null,
       "grid_row": null,
       "grid_template_areas": null,
       "grid_template_columns": null,
       "grid_template_rows": null
      }
     },
     "b773120dbaf34bbaa550ab3dff9bcc6e": {
      "model_module": "@jupyter-widgets/controls",
      "model_module_version": "1.4.0",
      "model_name": "SliderStyleModel",
      "state": {
       "_model_module_version": "1.4.0",
       "_view_module_version": "1.1.0",
       "description_width": ""
      }
     },
     "b7eef0a30d0249c19c91907665e6962e": {
      "model_module": "@jupyter-widgets/controls",
      "model_module_version": "1.4.0",
      "model_name": "FloatSliderModel",
      "state": {
       "_model_module_version": "1.4.0",
       "_view_module_version": "1.4.0",
       "description": "w2",
       "description_tooltip": null,
       "layout": "IPY_MODEL_8c987119fd1940beb069e8c7811beb67",
       "max": 1,
       "min": -1,
       "step": 0.1,
       "style": "IPY_MODEL_6a44d035e5534746ab96c69ffcf4db40",
       "value": 0.5
      }
     },
     "b7ffbc3d091342f08d843fe213fb64e1": {
      "model_module": "@jupyter-widgets/base",
      "model_module_version": "1.1.0",
      "model_name": "LayoutModel",
      "state": {
       "_model_module_version": "1.1.0",
       "_view_module_version": "1.1.0",
       "grid_area": null,
       "grid_auto_columns": null,
       "grid_auto_flow": null,
       "grid_auto_rows": null,
       "grid_column": null,
       "grid_gap": null,
       "grid_row": null,
       "grid_template_areas": null,
       "grid_template_columns": null,
       "grid_template_rows": null
      }
     },
     "b81991299fad4e269fca989ac97d76cf": {
      "model_module": "@jupyter-widgets/controls",
      "model_module_version": "1.4.0",
      "model_name": "SliderStyleModel",
      "state": {
       "_model_module_version": "1.4.0",
       "_view_module_version": "1.1.0",
       "description_width": ""
      }
     },
     "ba3c1dd760a74e3699f9dc2903cbc99c": {
      "model_module": "@jupyter-widgets/controls",
      "model_module_version": "1.4.0",
      "model_name": "DropdownModel",
      "state": {
       "_model_module_version": "1.4.0",
       "_options_labels": [
        "and",
        "or",
        "not"
       ],
       "_view_module_version": "1.4.0",
       "description": "logic",
       "description_tooltip": null,
       "index": 1,
       "layout": "IPY_MODEL_5121db9683044d4db3f65488bb12ee66",
       "style": "IPY_MODEL_cc01ba23fb1e4aeda0a7d528d1c794c8"
      }
     },
     "bafd68759fc94f49a67c563a237724d2": {
      "model_module": "@jupyter-widgets/base",
      "model_module_version": "1.1.0",
      "model_name": "LayoutModel",
      "state": {
       "_model_module_version": "1.1.0",
       "_view_module_version": "1.1.0",
       "grid_area": null,
       "grid_auto_columns": null,
       "grid_auto_flow": null,
       "grid_auto_rows": null,
       "grid_column": null,
       "grid_gap": null,
       "grid_row": null,
       "grid_template_areas": null,
       "grid_template_columns": null,
       "grid_template_rows": null
      }
     },
     "bbbbca78d9914ab5a51c3ac5111f44d7": {
      "model_module": "@jupyter-widgets/base",
      "model_module_version": "1.1.0",
      "model_name": "LayoutModel",
      "state": {
       "_model_module_version": "1.1.0",
       "_view_module_version": "1.1.0",
       "grid_area": null,
       "grid_auto_columns": null,
       "grid_auto_flow": null,
       "grid_auto_rows": null,
       "grid_column": null,
       "grid_gap": null,
       "grid_row": null,
       "grid_template_areas": null,
       "grid_template_columns": null,
       "grid_template_rows": null
      }
     },
     "bc596c10868144a0ab8a6f3035290933": {
      "model_module": "@jupyter-widgets/controls",
      "model_module_version": "1.4.0",
      "model_name": "VBoxModel",
      "state": {
       "_dom_classes": [
        "widget-interact"
       ],
       "_model_module_version": "1.4.0",
       "_view_module_version": "1.4.0",
       "children": [
        "IPY_MODEL_6036de314cdf4179b95a628b6dddfa72",
        "IPY_MODEL_83f06cad11d84172839ab370f6210746",
        "IPY_MODEL_df851d41c42346e6968878e7749b4276",
        "IPY_MODEL_64e4a239d5be466c871e3ed92541a174",
        "IPY_MODEL_2367b03e92d04011bfbc442240a4157e"
       ],
       "layout": "IPY_MODEL_844e1c87226f4d49b134ec58c4fd6000"
      }
     },
     "bcc06dc86e68494c89d572fb2986db17": {
      "model_module": "@jupyter-widgets/base",
      "model_module_version": "1.1.0",
      "model_name": "LayoutModel",
      "state": {
       "_model_module_version": "1.1.0",
       "_view_module_version": "1.1.0",
       "grid_area": null,
       "grid_auto_columns": null,
       "grid_auto_flow": null,
       "grid_auto_rows": null,
       "grid_column": null,
       "grid_gap": null,
       "grid_row": null,
       "grid_template_areas": null,
       "grid_template_columns": null,
       "grid_template_rows": null
      }
     },
     "be23e601039e455c952bb25476bbf6b0": {
      "model_module": "@jupyter-widgets/base",
      "model_module_version": "1.1.0",
      "model_name": "LayoutModel",
      "state": {
       "_model_module_version": "1.1.0",
       "_view_module_version": "1.1.0",
       "grid_area": null,
       "grid_auto_columns": null,
       "grid_auto_flow": null,
       "grid_auto_rows": null,
       "grid_column": null,
       "grid_gap": null,
       "grid_row": null,
       "grid_template_areas": null,
       "grid_template_columns": null,
       "grid_template_rows": null
      }
     },
     "c1cfaafddf5a4c1692018d1149434410": {
      "model_module": "@jupyter-widgets/controls",
      "model_module_version": "1.4.0",
      "model_name": "SliderStyleModel",
      "state": {
       "_model_module_version": "1.4.0",
       "_view_module_version": "1.1.0",
       "description_width": ""
      }
     },
     "c37bfdd0ebef42d88b6381c2957b3f42": {
      "model_module": "@jupyter-widgets/base",
      "model_module_version": "1.1.0",
      "model_name": "LayoutModel",
      "state": {
       "_model_module_version": "1.1.0",
       "_view_module_version": "1.1.0",
       "grid_area": null,
       "grid_auto_columns": null,
       "grid_auto_flow": null,
       "grid_auto_rows": null,
       "grid_column": null,
       "grid_gap": null,
       "grid_row": null,
       "grid_template_areas": null,
       "grid_template_columns": null,
       "grid_template_rows": null
      }
     },
     "c4edca251cd241839c32160e8e4fdd76": {
      "model_module": "@jupyter-widgets/controls",
      "model_module_version": "1.4.0",
      "model_name": "SliderStyleModel",
      "state": {
       "_model_module_version": "1.4.0",
       "_view_module_version": "1.1.0",
       "description_width": ""
      }
     },
     "c5e1a1deead04202bae09a28006a9da1": {
      "model_module": "@jupyter-widgets/base",
      "model_module_version": "1.1.0",
      "model_name": "LayoutModel",
      "state": {
       "_model_module_version": "1.1.0",
       "_view_module_version": "1.1.0",
       "grid_area": null,
       "grid_auto_columns": null,
       "grid_auto_flow": null,
       "grid_auto_rows": null,
       "grid_column": null,
       "grid_gap": null,
       "grid_row": null,
       "grid_template_areas": null,
       "grid_template_columns": null,
       "grid_template_rows": null
      }
     },
     "c7136f8b584546f28fdbf4208edb9806": {
      "model_module": "@jupyter-widgets/controls",
      "model_module_version": "1.4.0",
      "model_name": "SliderStyleModel",
      "state": {
       "_model_module_version": "1.4.0",
       "_view_module_version": "1.1.0",
       "description_width": ""
      }
     },
     "c771e84559854a769ea1bcf361815438": {
      "model_module": "@jupyter-widgets/controls",
      "model_module_version": "1.4.0",
      "model_name": "FloatSliderModel",
      "state": {
       "_model_module_version": "1.4.0",
       "_view_module_version": "1.4.0",
       "description": "w2",
       "description_tooltip": null,
       "layout": "IPY_MODEL_a6e2ad3ed5c34319ac8e5ac34a623b5a",
       "max": 1,
       "min": -1,
       "step": 0.1,
       "style": "IPY_MODEL_d34e9c64d6ca44428a34567f27bd3c08",
       "value": 0.5
      }
     },
     "c80db128a6304bcd80b9499ecaa6a26d": {
      "model_module": "@jupyter-widgets/base",
      "model_module_version": "1.1.0",
      "model_name": "LayoutModel",
      "state": {
       "_model_module_version": "1.1.0",
       "_view_module_version": "1.1.0",
       "grid_area": null,
       "grid_auto_columns": null,
       "grid_auto_flow": null,
       "grid_auto_rows": null,
       "grid_column": null,
       "grid_gap": null,
       "grid_row": null,
       "grid_template_areas": null,
       "grid_template_columns": null,
       "grid_template_rows": null
      }
     },
     "c95c42e011f5458bb67f055edde195b4": {
      "model_module": "@jupyter-widgets/base",
      "model_module_version": "1.1.0",
      "model_name": "LayoutModel",
      "state": {
       "_model_module_version": "1.1.0",
       "_view_module_version": "1.1.0",
       "grid_area": null,
       "grid_auto_columns": null,
       "grid_auto_flow": null,
       "grid_auto_rows": null,
       "grid_column": null,
       "grid_gap": null,
       "grid_row": null,
       "grid_template_areas": null,
       "grid_template_columns": null,
       "grid_template_rows": null
      }
     },
     "ca3a302602a64bdaa2a0b8052535d803": {
      "model_module": "@jupyter-widgets/base",
      "model_module_version": "1.1.0",
      "model_name": "LayoutModel",
      "state": {
       "_model_module_version": "1.1.0",
       "_view_module_version": "1.1.0",
       "grid_area": null,
       "grid_auto_columns": null,
       "grid_auto_flow": null,
       "grid_auto_rows": null,
       "grid_column": null,
       "grid_gap": null,
       "grid_row": null,
       "grid_template_areas": null,
       "grid_template_columns": null,
       "grid_template_rows": null
      }
     },
     "cc01ba23fb1e4aeda0a7d528d1c794c8": {
      "model_module": "@jupyter-widgets/controls",
      "model_module_version": "1.4.0",
      "model_name": "DescriptionStyleModel",
      "state": {
       "_model_module_version": "1.4.0",
       "_view_module_version": "1.1.0",
       "description_width": ""
      }
     },
     "cf54d7cccb0b4ba29097b29c4a2809ef": {
      "model_module": "@jupyter-widgets/controls",
      "model_module_version": "1.4.0",
      "model_name": "FloatSliderModel",
      "state": {
       "_model_module_version": "1.4.0",
       "_view_module_version": "1.4.0",
       "description": "b",
       "description_tooltip": null,
       "layout": "IPY_MODEL_bafd68759fc94f49a67c563a237724d2",
       "max": 1,
       "min": -1,
       "step": 0.1,
       "style": "IPY_MODEL_c4edca251cd241839c32160e8e4fdd76",
       "value": -0.7
      }
     },
     "cf85c18f5dde472896f580ad3b035b80": {
      "model_module": "@jupyter-widgets/base",
      "model_module_version": "1.1.0",
      "model_name": "LayoutModel",
      "state": {
       "_model_module_version": "1.1.0",
       "_view_module_version": "1.1.0",
       "grid_area": null,
       "grid_auto_columns": null,
       "grid_auto_flow": null,
       "grid_auto_rows": null,
       "grid_column": null,
       "grid_gap": null,
       "grid_row": null,
       "grid_template_areas": null,
       "grid_template_columns": null,
       "grid_template_rows": null
      }
     },
     "cfce34df96a04e9bb4d65bc37e63a045": {
      "model_module": "@jupyter-widgets/base",
      "model_module_version": "1.1.0",
      "model_name": "LayoutModel",
      "state": {
       "_model_module_version": "1.1.0",
       "_view_module_version": "1.1.0",
       "grid_area": null,
       "grid_auto_columns": null,
       "grid_auto_flow": null,
       "grid_auto_rows": null,
       "grid_column": null,
       "grid_gap": null,
       "grid_row": null,
       "grid_template_areas": null,
       "grid_template_columns": null,
       "grid_template_rows": null
      }
     },
     "d05e32a82f8d4487a264a1beb8962c0b": {
      "model_module": "@jupyter-widgets/controls",
      "model_module_version": "1.4.0",
      "model_name": "FloatSliderModel",
      "state": {
       "_model_module_version": "1.4.0",
       "_view_module_version": "1.4.0",
       "description": "w1",
       "description_tooltip": null,
       "layout": "IPY_MODEL_ab4deca3f7304115a881d41462b9acc3",
       "max": 1,
       "min": -1,
       "step": 0.1,
       "style": "IPY_MODEL_b773120dbaf34bbaa550ab3dff9bcc6e",
       "value": 0.5
      }
     },
     "d34e9c64d6ca44428a34567f27bd3c08": {
      "model_module": "@jupyter-widgets/controls",
      "model_module_version": "1.4.0",
      "model_name": "SliderStyleModel",
      "state": {
       "_model_module_version": "1.4.0",
       "_view_module_version": "1.1.0",
       "description_width": ""
      }
     },
     "d4566d33b941462ca2a844a9218636d5": {
      "model_module": "@jupyter-widgets/controls",
      "model_module_version": "1.4.0",
      "model_name": "FloatSliderModel",
      "state": {
       "_model_module_version": "1.4.0",
       "_view_module_version": "1.4.0",
       "description": "w1",
       "description_tooltip": null,
       "layout": "IPY_MODEL_edfeada188ad4f6c9c99187a0ae1cced",
       "max": 1,
       "min": -1,
       "step": 0.1,
       "style": "IPY_MODEL_863cfec009a54351b4c1c45a50ff9546",
       "value": 0.5
      }
     },
     "d4ec3b3ff8ab41c2bde747b90b0abd0f": {
      "model_module": "@jupyter-widgets/base",
      "model_module_version": "1.1.0",
      "model_name": "LayoutModel",
      "state": {
       "_model_module_version": "1.1.0",
       "_view_module_version": "1.1.0",
       "grid_area": null,
       "grid_auto_columns": null,
       "grid_auto_flow": null,
       "grid_auto_rows": null,
       "grid_column": null,
       "grid_gap": null,
       "grid_row": null,
       "grid_template_areas": null,
       "grid_template_columns": null,
       "grid_template_rows": null
      }
     },
     "d7a387d61e564da09e008398c8e99748": {
      "model_module": "@jupyter-widgets/controls",
      "model_module_version": "1.4.0",
      "model_name": "SliderStyleModel",
      "state": {
       "_model_module_version": "1.4.0",
       "_view_module_version": "1.1.0",
       "description_width": ""
      }
     },
     "d7eedc0503bf41f190871564e3711cd6": {
      "model_module": "@jupyter-widgets/base",
      "model_module_version": "1.1.0",
      "model_name": "LayoutModel",
      "state": {
       "_model_module_version": "1.1.0",
       "_view_module_version": "1.1.0",
       "grid_area": null,
       "grid_auto_columns": null,
       "grid_auto_flow": null,
       "grid_auto_rows": null,
       "grid_column": null,
       "grid_gap": null,
       "grid_row": null,
       "grid_template_areas": null,
       "grid_template_columns": null,
       "grid_template_rows": null
      }
     },
     "d9175e8cdae4433a8b2a7412474bf385": {
      "model_module": "@jupyter-widgets/controls",
      "model_module_version": "1.4.0",
      "model_name": "FloatSliderModel",
      "state": {
       "_model_module_version": "1.4.0",
       "_view_module_version": "1.4.0",
       "description": "w1",
       "description_tooltip": null,
       "layout": "IPY_MODEL_57192426d1074c48ac7e7c08f9d496f7",
       "max": 1,
       "min": -1,
       "step": 0.1,
       "style": "IPY_MODEL_0b2b548181764b2aa3f2e2218a026d39",
       "value": 0.5
      }
     },
     "dc09df5b40f146c5ac516a8e1ff443a8": {
      "model_module": "@jupyter-widgets/controls",
      "model_module_version": "1.4.0",
      "model_name": "FloatSliderModel",
      "state": {
       "_model_module_version": "1.4.0",
       "_view_module_version": "1.4.0",
       "description": "b",
       "description_tooltip": null,
       "layout": "IPY_MODEL_c80db128a6304bcd80b9499ecaa6a26d",
       "max": 1,
       "min": -1,
       "step": 0.1,
       "style": "IPY_MODEL_c7136f8b584546f28fdbf4208edb9806",
       "value": -0.7
      }
     },
     "ddecc346758f46739639e91d2642d268": {
      "model_module": "@jupyter-widgets/base",
      "model_module_version": "1.1.0",
      "model_name": "LayoutModel",
      "state": {
       "_model_module_version": "1.1.0",
       "_view_module_version": "1.1.0",
       "grid_area": null,
       "grid_auto_columns": null,
       "grid_auto_flow": null,
       "grid_auto_rows": null,
       "grid_column": null,
       "grid_gap": null,
       "grid_row": null,
       "grid_template_areas": null,
       "grid_template_columns": null,
       "grid_template_rows": null
      }
     },
     "de41cfd6d9684a30ad5b52183c36f3b4": {
      "model_module": "@jupyter-widgets/base",
      "model_module_version": "1.1.0",
      "model_name": "LayoutModel",
      "state": {
       "_model_module_version": "1.1.0",
       "_view_module_version": "1.1.0",
       "grid_area": null,
       "grid_auto_columns": null,
       "grid_auto_flow": null,
       "grid_auto_rows": null,
       "grid_column": null,
       "grid_gap": null,
       "grid_row": null,
       "grid_template_areas": null,
       "grid_template_columns": null,
       "grid_template_rows": null
      }
     },
     "df851d41c42346e6968878e7749b4276": {
      "model_module": "@jupyter-widgets/controls",
      "model_module_version": "1.4.0",
      "model_name": "FloatSliderModel",
      "state": {
       "_model_module_version": "1.4.0",
       "_view_module_version": "1.4.0",
       "description": "b",
       "description_tooltip": null,
       "layout": "IPY_MODEL_71e0c8935ae741a186b5c7edb5e8df42",
       "max": 1,
       "min": -1,
       "step": 0.1,
       "style": "IPY_MODEL_3753ea3b1c944bad9917e21d9b42c262",
       "value": -0.7
      }
     },
     "df96fcaf60384eafa6fd4887b8e77d9f": {
      "model_module": "@jupyter-widgets/base",
      "model_module_version": "1.1.0",
      "model_name": "LayoutModel",
      "state": {
       "_model_module_version": "1.1.0",
       "_view_module_version": "1.1.0",
       "grid_area": null,
       "grid_auto_columns": null,
       "grid_auto_flow": null,
       "grid_auto_rows": null,
       "grid_column": null,
       "grid_gap": null,
       "grid_row": null,
       "grid_template_areas": null,
       "grid_template_columns": null,
       "grid_template_rows": null
      }
     },
     "dfabb20d72c8435584c2d2b69445c5e8": {
      "model_module": "@jupyter-widgets/controls",
      "model_module_version": "1.4.0",
      "model_name": "FloatSliderModel",
      "state": {
       "_model_module_version": "1.4.0",
       "_view_module_version": "1.4.0",
       "description": "w2",
       "description_tooltip": null,
       "layout": "IPY_MODEL_2448f143d2b543b7abca4f7dd5c814ad",
       "max": 1,
       "min": -1,
       "step": 0.1,
       "style": "IPY_MODEL_a922507ee8854adcaa3594e92e638dfd",
       "value": 0.5
      }
     },
     "e36db95ee2944dbdb78da7f35c0ba469": {
      "model_module": "@jupyter-widgets/base",
      "model_module_version": "1.1.0",
      "model_name": "LayoutModel",
      "state": {
       "_model_module_version": "1.1.0",
       "_view_module_version": "1.1.0",
       "grid_area": null,
       "grid_auto_columns": null,
       "grid_auto_flow": null,
       "grid_auto_rows": null,
       "grid_column": null,
       "grid_gap": null,
       "grid_row": null,
       "grid_template_areas": null,
       "grid_template_columns": null,
       "grid_template_rows": null
      }
     },
     "e67984cd965f4578b9b166de904a9684": {
      "model_module": "@jupyter-widgets/base",
      "model_module_version": "1.1.0",
      "model_name": "LayoutModel",
      "state": {
       "_model_module_version": "1.1.0",
       "_view_module_version": "1.1.0",
       "grid_area": null,
       "grid_auto_columns": null,
       "grid_auto_flow": null,
       "grid_auto_rows": null,
       "grid_column": null,
       "grid_gap": null,
       "grid_row": null,
       "grid_template_areas": null,
       "grid_template_columns": null,
       "grid_template_rows": null
      }
     },
     "e8e534667435414291a1a12d635d62c1": {
      "model_module": "@jupyter-widgets/base",
      "model_module_version": "1.1.0",
      "model_name": "LayoutModel",
      "state": {
       "_model_module_version": "1.1.0",
       "_view_module_version": "1.1.0",
       "grid_area": null,
       "grid_auto_columns": null,
       "grid_auto_flow": null,
       "grid_auto_rows": null,
       "grid_column": null,
       "grid_gap": null,
       "grid_row": null,
       "grid_template_areas": null,
       "grid_template_columns": null,
       "grid_template_rows": null
      }
     },
     "edfeada188ad4f6c9c99187a0ae1cced": {
      "model_module": "@jupyter-widgets/base",
      "model_module_version": "1.1.0",
      "model_name": "LayoutModel",
      "state": {
       "_model_module_version": "1.1.0",
       "_view_module_version": "1.1.0",
       "grid_area": null,
       "grid_auto_columns": null,
       "grid_auto_flow": null,
       "grid_auto_rows": null,
       "grid_column": null,
       "grid_gap": null,
       "grid_row": null,
       "grid_template_areas": null,
       "grid_template_columns": null,
       "grid_template_rows": null
      }
     },
     "eeb858068ca74bb3afb6d1ff0c746d77": {
      "model_module": "@jupyter-widgets/controls",
      "model_module_version": "1.4.0",
      "model_name": "DropdownModel",
      "state": {
       "_model_module_version": "1.4.0",
       "_options_labels": [
        "and",
        "or",
        "not"
       ],
       "_view_module_version": "1.4.0",
       "description": "logic",
       "description_tooltip": null,
       "index": 1,
       "layout": "IPY_MODEL_8139db89848544afbf0cd9ab48e03221",
       "style": "IPY_MODEL_f11690ff90154940ad13384ffa0d8d25"
      }
     },
     "f0430cc21ce34ed5a3914603c84afd90": {
      "model_module": "@jupyter-widgets/controls",
      "model_module_version": "1.4.0",
      "model_name": "DropdownModel",
      "state": {
       "_model_module_version": "1.4.0",
       "_options_labels": [
        "and",
        "or",
        "not"
       ],
       "_view_module_version": "1.4.0",
       "description": "logic",
       "description_tooltip": null,
       "index": 1,
       "layout": "IPY_MODEL_af1d01a7b0e44c179e28d80dba8d6234",
       "style": "IPY_MODEL_8eea9c23a65748db8390b7faca8cd399"
      }
     },
     "f11690ff90154940ad13384ffa0d8d25": {
      "model_module": "@jupyter-widgets/controls",
      "model_module_version": "1.4.0",
      "model_name": "DescriptionStyleModel",
      "state": {
       "_model_module_version": "1.4.0",
       "_view_module_version": "1.1.0",
       "description_width": ""
      }
     },
     "f17edfc1aafb477c926fde60a254f14b": {
      "model_module": "@jupyter-widgets/controls",
      "model_module_version": "1.4.0",
      "model_name": "SliderStyleModel",
      "state": {
       "_model_module_version": "1.4.0",
       "_view_module_version": "1.1.0",
       "description_width": ""
      }
     },
     "f24b1db6bef045509809b373700491d0": {
      "model_module": "@jupyter-widgets/controls",
      "model_module_version": "1.4.0",
      "model_name": "SliderStyleModel",
      "state": {
       "_model_module_version": "1.4.0",
       "_view_module_version": "1.1.0",
       "description_width": ""
      }
     },
     "f52eb11e06e94e2d9e1e8cd2ca4a3fbc": {
      "model_module": "@jupyter-widgets/controls",
      "model_module_version": "1.4.0",
      "model_name": "SliderStyleModel",
      "state": {
       "_model_module_version": "1.4.0",
       "_view_module_version": "1.1.0",
       "description_width": ""
      }
     },
     "f58e7e2c6521458b9994812c05c9528b": {
      "model_module": "@jupyter-widgets/controls",
      "model_module_version": "1.4.0",
      "model_name": "FloatSliderModel",
      "state": {
       "_model_module_version": "1.4.0",
       "_view_module_version": "1.4.0",
       "description": "b",
       "description_tooltip": null,
       "layout": "IPY_MODEL_05a6881611ba40b0856fc873e678dbbb",
       "max": 1,
       "min": -1,
       "step": 0.1,
       "style": "IPY_MODEL_41fb34841d1849f39042a294f7455afe",
       "value": -0.7
      }
     },
     "f77eb073fd0044699e9f8e1f24e4a6c1": {
      "model_module": "@jupyter-widgets/controls",
      "model_module_version": "1.4.0",
      "model_name": "FloatSliderModel",
      "state": {
       "_model_module_version": "1.4.0",
       "_view_module_version": "1.4.0",
       "description": "w1",
       "description_tooltip": null,
       "layout": "IPY_MODEL_527442d6f22949fb8e9050aafffec50f",
       "max": 1,
       "min": -1,
       "step": 0.1,
       "style": "IPY_MODEL_42667f16c17848f084a22771325dd325",
       "value": 0.5
      }
     },
     "f7d7d2f31aeb487cb66ff40f47d83111": {
      "model_module": "@jupyter-widgets/controls",
      "model_module_version": "1.4.0",
      "model_name": "DescriptionStyleModel",
      "state": {
       "_model_module_version": "1.4.0",
       "_view_module_version": "1.1.0",
       "description_width": ""
      }
     },
     "f8090582c4f2422c866be5eb823c004e": {
      "model_module": "@jupyter-widgets/controls",
      "model_module_version": "1.4.0",
      "model_name": "FloatSliderModel",
      "state": {
       "_model_module_version": "1.4.0",
       "_view_module_version": "1.4.0",
       "description": "b",
       "description_tooltip": null,
       "layout": "IPY_MODEL_488aab82434d4a88b30371a6eb02aa66",
       "max": 1,
       "min": -1,
       "step": 0.1,
       "style": "IPY_MODEL_b81991299fad4e269fca989ac97d76cf",
       "value": -0.7
      }
     },
     "f97ac8794e43454b9688e6579fcdbf5f": {
      "model_module": "@jupyter-widgets/output",
      "model_module_version": "1.0.0",
      "model_name": "OutputModel",
      "state": {
       "layout": "IPY_MODEL_b7ffbc3d091342f08d843fe213fb64e1",
       "outputs": [
        {
         "data": {
          "image/png": "iVBORw0KGgoAAAANSUhEUgAAAecAAAHjCAYAAAAZnNdCAAAABHNCSVQICAgIfAhkiAAAAAlwSFlzAAALEgAACxIB0t1+/AAAADl0RVh0U29mdHdhcmUAbWF0cGxvdGxpYiB2ZXJzaW9uIDIuMi4zLCBodHRwOi8vbWF0cGxvdGxpYi5vcmcvIxREBQAAIABJREFUeJzt3XuwXWV98PHvLzciN6kh3kggqKiNV/AMYr2UCnYgatIWL1gdBS+pok5fdbS+aKdKy3TQt1atiEXlxVqraIe35hUrjoLyDgiSFLECRkIECVpuIhUiBpLf+8faISeHc1nnZO29nr329zOz5uy913P2erLmJN+stdfeJzITSZJUjnltT0CSJO3OOEuSVBjjLElSYYyzJEmFMc6SJBXGOEuSVBjjLLUkIs6NiK81/JxHR0RGxIFNPq+kwTLOUrdcBjwGuLPJJ42IxRHxlxFxXUTcFxG/jIivRcSzJ4w7qfefg53LrRHxfyPiKU3OR+o64yx1SGZuy8z/ygY/XSgiFgHfBN4M/A3wJOAY4Dbg/0XESyd8y1aq/yA8FngxsA9wQe95JNVgnKVCRMReEfHR3tHmfRFxeUQ8b8KYF0fExt76SyLixN4R6ore+oec1o6IoyLiooi4NyLu7t1+7Cym9j+A5wEvzcwvZOZNmXlVZr4e+Drw2YjYe9z47P0H4ReZuR74e+AQqqhLqsE4S+X4EPBK4PXA4cB/At+IiMcARMTBwPnABcAzgI/3vmdKEfEM4GJgE/Bc4CjgPGBBb/1J4+M+hVcD38rM/5hk3YeBpcCLptj+AcCf9u7eP91cJe2yoO0JSIKI2Ad4C/DGzLyg99ibgRcCbwXe31u/OTPf2fu2jRHxROD0aZ76PcAPMnPtuMeuG3f7bmAj04fzicB3plh3be/r+KPifSLiHiCAnUfU6zLzx9NsQ9I4HjlLZXg8sBC4dOcDmbkd+B6wsvfQk4ErJ3zfFTM87+HARVOtzMz/k5lPzsxbZj3jqW0Fngk8C/gz4PreV0k1eeQsla/tXx33E3b9B2GilePG7JSZual3+8e90/JfBP6gT/OTOscjZ6kMNwDbqF4XBiAi5gPPYdep4x8DYxO+78gZnvcqqlPje+JfgGMi4ohJ1r0HuIPqau6p/D1wRET8yR7OQxoZxlkqQGbeC5wFnBERqyLid3v3HwV8sjfsU8DjI+J/RcSTerHbebp4qqPrDwOHR8TZEfGM3ve9sXdxGRHxxxHx44g4aJrpfZTq9Pq6iPjTiDgkIp4ZEecAxwNvyMyt0/zZ/hv4DPDBiPDfHKkG/6JI5fgLqiup/zfwA+DpwHGZ+QuAzLwJOAFYDVwNvAP4YO9775vsCTPzB8CxVK9XX071GvWJ7LoA7OFUF3MtnGpSmfnb3nN8GvgrqlPY36H6j8MLMnNdjT/bx3pzOLHGWGnkRYOfVSBpwCLiz4HTgAOa/OARSe3ygjBpiETEW6mu2L6d6j3Lfwmca5ilbjHO0nB5AnAqsATYQvU69GmtzkhS4zytLUlSYbwgTJKkwhhnSZIK09przgdG5Iq2Ni5NsIFntT0FSZ234Y7MXFpnZGtxXgGsb2vj0kNsIFr/lExJ3RY31R3paW2pJ4m2pyBJgHGWdmOgJZXAOEsTGGhJbTPO0iQMtKQ2GWdpCgZaUluMszQNAy2pDcZZmoGBljRoxlmqwUBLGiTjLNVkoCUNinGWZsFASxqEbv4+50c9Co49Fn7nd+Dee+Gyy2DjxrZnpY5Iwo/6lDpg4UL4wz+E5cshE264AS66CHbsaHtmXYvz054Gp55KnnACsXDh7usuugg+9CG48MJ25qZOMdDS8NpvP3j3u+FNb4JHP3r3dTfeCGedBR/9KGzb1sr0AIjMdv6BGYvIRn/xxapV5Fe+Quy9N9u3J9/4RnDTTfCIR8BLX5rss0/vdOR73gMf/nCTW9YIM9DScHnUo6pjtGc8o7r/ox/BpZfCvHnwwhfC4x9fPf7d78JLXgL33NPk1mNDZo7VGpqZrSzPqs4iNLMccUTu2Lo1MzPPPTdz2bLdV++/f+b735+5ffuOzMzM1762uW27jPxSwBRcXFxqLIsWZV55ZZWB667LfP7zd18fkXn88ZlbtlRjLrig6Tmwvm4jZx4A5wC3AT+aYn0AHwc2AT8Ejhh4nL/2tczM/Mxnph/25jdXOzy3bMlcsKD9nxSXziwFTMHFxWWG5TWvqRKweXPm0qVTj3v84zPvuKMae/TRTc6hfpzrXK19LnDcNOuPBw7rLWuBs2odsjfl0EPJ44/nvvuSv/iL6Yd+6lPw4x8DBx0Eq1cPZHoaDV7FLZXvlFOqr6efDrffPvW4G26Af/iH3b9n0GaMc2ZeAvxymiFrgH/qHZNeDhwQEY9paoIzeulLiXnzOP/84M47Zx5+9tm9G3/0R32dlkaPgZbKtXQpPOc51WvIX/zizOM//enq65o1EC381W7ifc4HATePu7+l99hgLFkCwE9+Um/49df3bjziEf2Zj0aagZbK1EsFt9wCW7fOPP7nP69CvmgR7Ltvf+c2mYF+CElErI2I9RGxfpozCrPzm98AsP/+9Ybvt1/vxn33NTUDaTcGWipPLxW7GjCDhQth8eLqdhu5aCLOtwDLx91f1nvsITLz7Mwcy8yxpQ1sGID11RuyXvay6lL4mbziFbt/n9QPBloqy5YtcOut8NjHwnOfO/P4P/kTWLAArr4a7r+///ObqIk4rwNeG5WjgLsz8xcNPG893/42XH89Bx8Mr3zl9EOf/OTqPc+5bRucc85g5qeRZaClcmzfvut15He/e/qx8+fDO95R3T5rsJc471LjrVRfBH4B3E/1evIbgDcDbx73VqozgRuA/wTGBv5Wqt57pH796x15zDGTD3nCE6rL5zMz87Ofbf+afpeRWQqYgouLC9VnYNxzT5WBv/u76n3NE8csXJj5z/9cjbn11sx9921yDvXfStWdTwg75xw4+WQAvvlN+Mxnqo9hW7IEXv1qePnLk732CrjiiupjYOpcESA1xE8Sk8rwkpfA+edXrynfcEN1ZHzZZdUV2cceC2vXVu+2veceeNGL4PLLm9x6/U8I606cI+C008h3vYt42MMesjp37CDOO6/6MNV7721yy1ItBloqwzHHVAdwK1ZMvv6aa+C1r4X/+I+mtzyKcd7pgAPgda+DF79412+luvTS6g3ON93Ujy1KtRloqQzz5sHxx1e5GP9bqT77WfjOd/q11VGOs1Q4Ay2NqvpxHuj7nCXhVdySZmScpRYYaEnTMc5SSwy0pKkYZ6lFBlrSZIyz1DIDLWki4ywVwEBLGs84S4Uw0JJ2Ms5SQQy0JDDOUnEMtCTjLBXIQEujzThLhTLQ0ugyzlLBDLQ0moyzVDgDLY0e4ywNAQMtjRbjLA0JAy2NDuMsDREDLY0G4ywNGQMtdZ9xloaQgZa6zThLQ8pAS91lnKUhZqClbjLO0pAz0FL3GGepAwy01C3GWeoIAy11h3GWOsRAS91gnKWOMdDS8DPOUgcZaGm4GWepowy0NLyMs9RhBloaTsZZ6jgDLQ0f4yyNAAMtDRfjLI0IAy0ND+MsjRADLQ0H4yyNGAMtlc84SyPIQEtlM87SiDLQUrmMszTCDLRUJuMsjTgDLZXHOEsy0FJhjLMkwEBLJTHOkh5koKUyGGdJuzHQUvuMs6SHMNBSu4yzpEkZaKk9xlnSlAy01A7jLGlaBloaPOMsaUYGWhos4yypFgMtDY5xllSbgZYGwzhLmhUDLfWfcZY0awZa6i/jLGlODLTUP8ZZ0pwZaKk/jLOkPWKgpeYZZ0l7zEBLzTLOkhphoKXmGGdJjTHQUjOMs6RGGWhpzxlnSY0z0NKeMc6S+sJAS3NnnCX1jYGW5sY4S+orAy3NnnGW1HcGWpod4yxpIAy0VJ9xljQwBlqqxzhLGigDLc3MOEsaOAMtTc84S2qFgZamVivOEXFcRGyMiE0R8d5J1h8cERdHxFUR8cOIWNX8VCV1jYGWJjdjnCNiPnAmcDywEnhVRKycMOz9wJcz83DgROCTTU9UUjcZaOmh6hw5HwlsyszNmbkN+BKwZsKYBPbv3X448PPmpiip6wy0tLsFNcYcBNw87v4W4NkTxnwA+GZEvB3YBzi2kdlJGhlJEGTb05CK0NQFYa8Czs3MZcAq4PMR8ZDnjoi1EbE+Itbf3tCGJXWHR9BSpU6cbwGWj7u/rPfYeG8AvgyQmd8DFgMHTnyizDw7M8cyc2zp3OYrqeMMtFQvzlcCh0XEoRGxiOqCr3UTxvwMOAYgIn6XKs4eHEuaEwOtUTdjnDPzAeBtwIXAdVRXZV8TEadFxOresHcBb4qIq4EvAidlpi8eSZozA61RFm01dCwi17eyZUnDxIvE1B2xITPH6oz0E8IkFc0jaI0i4yypeAZao8Y4SxoKBlqjxDhLGhoGWqPCOEsaKgZao8A4Sxo6BlpdZ5wlDSUDrS4zzpKGloFWVxlnSUPNQKuLjLOkoWeg1TXGWVInGGh1iXGW1BkGWl1hnCV1ioFWFxhnSZ1joDXsjLOkTjLQGmbGWVJnGWgNK+MsqdMMtIaRcZbUeQZaw8Y4SxoJBlrDxDhLGhkGWsPCOEsaKQZaw8A4Sxo5BlqlM86SRpKBVsmMs6SRZaBVKuMsaaQZaJXIOEsaeQZapTHOkoSBVlmMsyT1GGiVwjhL0jgGWiUwzpI0gYFW24yzJE3CQKtNxlmSpmCg1RbjLEnTMNBqg3GWpBkYaA2acZakGgy0Bsk4S1JNBlqDYpwlaRYMtAbBOEvSLBlo9ZtxlqQ5MNDqJ+MsSXNkoNUvxlmS9oCBVj8YZ0naQwZaTTPOktQAA60mGWdJaoiBVlOMsyQ1yECrCcZZkhpmoLWnjLMk9YGB1p4wzpLUJwZac2WcJamPDLTmwjhLUp8ZaM2WcZakATDQmg3jLEkDYqBVl3GWpAEy0KrDOEvSgBlozcQ4S1ILDLSmY5wlqSUGWlMxzpLUIgOtyRhnSWqZgdZExlmSCmCgNZ5xlqRCGGjtZJwlqSAGWmCcJak4BlrGWZIKZKBHm3GWpEIZ6NFlnCWpYAZ6NBlnSSqcgR49xlmShoCBHi3GWZKGhIEeHcZZkoaIgR4NxlmShoyB7r5acY6I4yJiY0Rsioj3TjHmFRFxbURcExH/0uw0JUnjGehuWzDTgIiYD5wJvAjYAlwZEesy89pxYw4D/ifw3My8KyIe2a8JS5IqSRBk29NQH9Q5cj4S2JSZmzNzG/AlYM2EMW8CzszMuwAy87ZmpylJmoxH0N1UJ84HATePu7+l99h4TwSeGBGXRsTlEXFcUxOUJE3PQHfPjKe1Z/E8hwFHA8uASyLiaZn5q/GDImItsBbg4IY2LEnyFHfX1DlyvgVYPu7+st5j420B1mXm/Zn5U+AnVLHeTWaenZljmTm2dK4zliRNyiPo7qgT5yuBwyLi0IhYBJwIrJsw5t+ojpqJiAOpTnNvbnCekqQaDHQ3zBjnzHwAeBtwIXAd8OXMvCYiTouI1b1hFwJ3RsS1wMXAuzPzzn5NWpI0NQM9/CKzndcoxiJyfStblqTR4GvQpYkNmTlWZ6SfECZJHeUR9PAyzpLUYQZ6OBlnSeo4Az18jLMkjQADPVyMsySNCAM9PIyzJI0QAz0cjLMkjRgDXT7jLEkjyECXzThL0ogy0OUyzpI0wgx0mYyzJI04A10e4yxJMtCFMc6SJMBAl8Q4S5IeZKDLYJwlSbsx0O0zzpKkhzDQ7TLOkqRJGej2GGdJ0pQMdDuMsyRpWgZ68IyzJGlGBnqwjLMkqRYDPTjGWZJUm4EeDOMsSZoVA91/xlmSNGsGur+MsyRpTgx0/xhnSdKcGej+MM6SpD1ioJtnnCVJe8xAN8s4S5IaYaCbY5wlSY0x0M0wzpKkRhnoPWecJUmNM9B7xjhLkvrCQM+dcZYk9Y2BnhvjLEnqKwM9e8ZZktR3Bnp2jLMkaSAMdH3GWZI0MAa6HuMsSRooAz0z4yxJGjgDPT3jLElqhYGemnGWJLXGQE/OOEuSWmWgH8o4S5JaZ6B3Z5wlSUUw0LsYZ0lSMQx0xThLkopioI2zJKlAox5o4yxJKtIoB9o4S5KKNaqBNs6SpKKNYqCNsySpeKMWaOMsSRoKoxRo4yxJGhqjEmjjLEkaKqMQaOMsSRo6XQ+0cZYkDaUuB9o4S5KGVlcDbZwlSUOti4E2zpKkode1QBtnSVIndCnQxlmS1BldCbRxliR1ShcCbZwlSZ0z7IE2zpKkThrmQBtnSVJnDWugjbMkqdOGMdDGWZLUecMWaOMsSRoJwxRo4yxJGhnDEuhacY6I4yJiY0Rsioj3TjPuhIjIiBhrboqSJDVnGAI9Y5wjYj5wJnA8sBJ4VUSsnGTcfsCfA1c0PUlJkppUeqDrHDkfCWzKzM2ZuQ34ErBmknF/DZwB3Nfg/CRJ6ouSA10nzgcBN4+7v6X32IMi4ghgeWZe0ODcJEnqq1IDvWBPnyAi5gEfAU6qMXYtsBbg4D3dsCRJDUiCINuexm7qHDnfAiwfd39Z77Gd9gOeCnwnIm4EjgLWTXZRWGaenZljmTm2dO5zliSpUaUdQdeJ85XAYRFxaEQsAk4E1u1cmZl3Z+aBmbkiM1cAlwOrM3N9X2YsSVIflBToGeOcmQ8AbwMuBK4DvpyZ10TEaRGxut8TlCRpUEoJdGS2c559LMJDa0lSkfrzGnRsyMxanwPiJ4RJkjRB20fQxlmSpEm0GWjjLEnSFNoKtHGWJGkabQTaOEuSNINBB9o4S5JUwyADbZwlSappUIE2zpIkzcIgAm2cJUmapX4H2jhLkjQH/Qy0cZYkaY76FWjjLEnSHuhHoI2zJEl7qOlAG2dJkhrQZKCNsyRJDWkq0MZZkqQGNRFo4yxJUsP2NNDGWZKkPtiTQBtnSZL6ZK6BNs6SJPXRXAJtnCVJ6rPZBto4S5JUGOMsSVJhjLMkSYUxzpIkFcY4S5JUGOMsSVJhjLMkSYUxzpIkFcY4S5JUGOMsSVJhjLMkSYUxzpIkFcY4S5JUGOMsSVJhjLMkSYUxzpIkFcY4S5JUGOMsSVJhjLMkSYUxzpIkFcY4S5JUGOMsSVJhjLMkSYUxzpIkFcY4S5JUGOMsSVJhjLMkSYUxzpIkFcY4S5JUGOMsSVJhjLMkSYUxzpIkFcY4S5JUGOMsSVJhjLMkSYUxzpIkFcY4S5JUGOMsSVJhjLMkSYUxzpIkFcY4S5JUGOMsSVJhjLMkSYUxzpIkFcY4S5JUGOMsSVJhjLMkSYUxzpIkFcY4S5JUmFpxjojjImJjRGyKiPdOsv6dEXFtRPwwIr4dEYc0P1VJkkbDjHGOiPnAmcDxwErgVRGxcsKwq4CxzHw68K/Ah5qeqCRJo6LOkfORwKbM3JyZ24AvAWvGD8jMizNza+/u5cCyZqcpSdLoqBPng4Cbx93f0ntsKm8A/n1PJiVJ0ihb0OSTRcRrgDHg96dYvxZYC3BwkxuWJKlD6hw53wIsH3d/We+x3UTEscD7gNWZ+dvJnigzz87MscwcWzqX2UqSNALqxPlK4LCIODQiFgEnAuvGD4iIw4F/pArzbc1PU5Kk0TFjnDPzAeBtwIXAdcCXM/OaiDgtIlb3hn0Y2Bf4SkT8ICLWTfF0kiRpBpGZrWx4LCLXt7JlSZIGL2BDZo7VGesnhEmSVBjjLElSYYyzJEmFMc6SJBXGOEuSVBjjLElSYYyzJEmFMc6SJBXGOEuSVBjjLElSYYyzJEmFMc6SJBXGOEuSVBjjLElSYYyzJEmFMc6SJBXGOEuSVBjjLElSYYyzJEmFMc6SJBXGOEuSVBjjLElSYYyzJEmFMc6SJBXGOEuSVBjjLElSYYyzJEmFMc6SJBXGOEuSVBjjLElSYYyzJEmFMc6SJBXGOEuSVBjjLElSYYyzJEmFMc6SJBXGOEuSVBjjLElSYYyzJEmFMc6SJBXGOEuSVBjjLElSYYyzJEmFMc6SJBXGOEuSVBjjLElSYYyzJEmFMc6SJBXGOEuSVBjjLElSYYyzJEmFMc6SJBXGOEuSVBjjLElSYYyzJEmFMc6SJBXGOEuSVBjjLElSYYyzJEmFMc6SJBXGOEuSVBjjLElSYYyzJEmFMc6SJBXGOEuSVBjjLElSYbob54ULYckSWLy47ZlIkkoVAQccAPvv3/ZMdtOtOM+fD2vWwDe+AffdB3fcAb/5DWzYAG98I+y9d9szlCSV4ClPgU98grzrLrjrLrj7brjtNjjjDDj00LZnR2RmKxsei8j1TT7hIx8JX/0qHHVUdX/79mpn77svLFpUPbZlC7zkJXD11U1uWZI0LCLgb/4GTj31wYfuvhvmzYP99qvu5/btxDvfCR//eLObhg2ZOVZnbDeOnPffH771rSrMN98M73gHHHhgdVp7v/3g1a+Gq66CZcvgoovgSU9qe8aSpDb87d/CqafywAPJJz8JT33qrrPaz342fP7zEPPnw8c+Bm9/e3vzzMwZF+A4YCOwCXjvJOv3As7rrb8CWDHTcz4LMptaPvKRzMzMa6/NfOQjJx+zaFHmV79ajbvkkua27eLi4uIyHMuRR2Zm5rZtO3LVqqmHnXxylYod99+fecghjW0fWF+nuVl9x4xhng/cADwOWARcDaycMOYU4FO92ycC5w0sznvvnXnXXdWePPzw6cfuu2/mr35VjX3609v/QXFxcXFxGdzyuc9lZuYZZ8w89AtfqFKRp5/e2PZnE+c6p7WPBDZl5ubM3AZ8CVgzYcwa4HO92/8KHBMRMduj+Dn54z+uzklcdll16no699wDn+tN8+ST+z83SVIZ9tmHfMUr2LEjOeusmYd/4hO9G69/fV+nNZU6cT4IuHnc/S29xyYdk5kPAHcDS5qY4Iwe97jq68UX1xu/c9zO75Mkdd9jHkMsXsxPfxrceOPMw7/3vepNPzz60fCwh/V7dg8x0AvCImJtRKyPiPW3N/ek1dcdO+qN3zluQAf2kqQC9P7Nz6z/LQ+ObaEXdeJ8C7B83P1lvccmHRMRC4CHA3dOfKLMPDszxzJzbOnc5vtQN91UfX3+8+uNf97zqq8/+1lTM5Akle6//ou8/35WrEgOmnjudxJHHNE7YL7zTti6te/Tm6hOnK8EDouIQyNiEdUFX+smjFkHvK53+2XARTmoN1Cff371WvLRR8PKldOPXbx41+sH557b75lJkkrx618T55/PggXBn/3ZzMPf+tbejbZaUfOtVKuAn1Bdtf2+3mOnAat7txcDX6F6K9X3gccN9K1UZ55ZXVW3YUPmwx8++Zj583ddfvf977d/1aCLi4uLy2CX5z8/MzN/85sd+YIXTD3shBMyt2/fkTu2b898whMa2z5NvpWqX0ujcV6yJPP666vwbtyYedJJmYsXV+vmzctctSrzu9+t1v/3f2c+85nt/5C4uLi4uAx+OeusBwN9+umZy5fvWvWkJ2V+7GOZDzywo+rF+97X6LZnE+fufHzn8uXw9a9XH/cC1anu226r3mb1iEdUj91xR/XZ25dd1uSWJUnDYv786mM5TzkFgO3bky1bgnnzqow86AMfgA9+sNFNz+bjO7sTZ4C99oITT4S3vKX6HLadNm+Gs86Cc86BX/6y6a1KkobN7/0enHIK+fKXE73fv5D33kt84QvwyU/25XcwjG6cx1uypDpqvvdeuPXW6qSCJEnj7b139YuTduyoWvHb3/ZtU7OJ84K+zaJtd95ZLZIkTWXrVmp9KsmAdeO3UkmS1CHGWZKkwhhnSZIKY5wlSSqMcZYkqTDGWZKkwhhnSZIKY5wlSSqMcZYkqTDGWZKkwhhnSZIK09ovvoiI24GbBrCpA4E7BrCdLnLfzZ37bu7cd3Pnvpu7Qey7QzJzaZ2BrcV5UCJifd3fAqLdue/mzn03d+67uXPfzV1p+87T2pIkFcY4S5JUmFGI89ltT2CIue/mzn03d+67uXPfzV1R+67zrzlLkjRsRuHIWZKkodKJOEfEcRGxMSI2RcR7J1m/V0Sc11t/RUSsGPwsy1Rj370zIq6NiB9GxLcj4pA25lmimfbduHEnRERGRDFXgratzr6LiFf0fvauiYh/GfQcS1bj7+3BEXFxRFzV+7u7qo15liYizomI2yLiR1Osj4j4eG+//jAijhj0HB+UmUO9APOBG4DHAYuAq4GVE8acAnyqd/tE4Ly2513CUnPf/QGwd+/2W9x39fddb9x+wCXA5cBY2/MuYan5c3cYcBXwO737j2x73qUsNfff2cBberdXAje2Pe8SFuAFwBHAj6ZYvwr4dyCAo4Ar2pprF46cjwQ2ZebmzNwGfAlYM2HMGuBzvdv/ChwTETHAOZZqxn2XmRdn5tbe3cuBZQOeY6nq/NwB/DVwBnDfICdXuDr77k3AmZl5F0Bm3jbgOZaszv5LYP/e7YcDPx/g/IqVmZcAv5xmyBrgn7JyOXBARDxmMLPbXRfifBBw87j7W3qPTTomMx8A7gaWDGR2Zauz78Z7A9X/KlVj3/VOiS3PzAsGObEhUOfn7onAEyPi0oi4PCKOG9jsyldn/30AeE1EbAG+Drx9MFMberP9N7FvFrSxUQ2fiHgNMAb8fttzGQYRMQ/4CHBSy1MZVguoTm0fTXW25pKIeFpm/qrVWQ2PVwHnZubfRcRzgM9HxFMzc0fbE1M9XThyvgVYPu7+st5jk46JiAVUp3nuHMjsylZn3xERxwLvA1Zn5m8HNLfSzbTv9gOeCnwnIm6kev1qnReFAfV+7rYA6zLz/sz8KfATqlir3v57A/BlgMz8HrCY6rOjNb1a/yYOQhfifCVwWEQcGhGLqC74WjdhzDrgdb3bLwMuyt6r/yNuxn0XEYcD/0gVZl/322XafZeZd2fmgZm5IjNXUL1evzoz17cz3aLU+Tv7b1RHzUTEgVSnuTcPcpIFq7P/fgYcAxARv0sV59sHOsvhtA54be+q7aOAuzPzF21MZOhPa2fmAxHxNuBCqqsYz8nMayLiNGB9Zq4DPkt1WmcT1cUAJ7Y343LU3HcfBvYFvtK7hu5nmbm6tUkXoua+0yRq7rsLgT+MiGuB7cC7M9OzXdTef+8CPh0R76C6OOwkD0ggIr5I9Z85gdUWAAAAUklEQVS+A3uvx/8VsBAgMz9F9fr8KmATsBU4uZ2Z+glhkiQVpwuntSVJ6hTjLElSYYyzJEmFMc6SJBXGOEuSVBjjLElSYYyzJEmFMc6SJBXm/wNlJObel7y/CwAAAABJRU5ErkJggg==\n",
          "text/plain": "<Figure size 576x576 with 1 Axes>"
         },
         "metadata": {
          "needs_background": "light"
         },
         "output_type": "display_data"
        }
       ]
      }
     },
     "fc4e3205c03743d0ad9dfc8849b71320": {
      "model_module": "@jupyter-widgets/controls",
      "model_module_version": "1.4.0",
      "model_name": "SliderStyleModel",
      "state": {
       "_model_module_version": "1.4.0",
       "_view_module_version": "1.1.0",
       "description_width": ""
      }
     },
     "ff0a412a799e4f688356404b2a624f82": {
      "model_module": "@jupyter-widgets/controls",
      "model_module_version": "1.4.0",
      "model_name": "FloatSliderModel",
      "state": {
       "_model_module_version": "1.4.0",
       "_view_module_version": "1.4.0",
       "description": "w2",
       "description_tooltip": null,
       "layout": "IPY_MODEL_581bff7cc889466fa301f86c79f3219b",
       "max": 1,
       "min": -1,
       "step": 0.1,
       "style": "IPY_MODEL_f24b1db6bef045509809b373700491d0",
       "value": 0.5
      }
     },
     "ff2b1f28d35541f0b9177fbfcece76a3": {
      "model_module": "@jupyter-widgets/output",
      "model_module_version": "1.0.0",
      "model_name": "OutputModel",
      "state": {
       "layout": "IPY_MODEL_b1a4a1f700454814ad7c75d19c490742",
       "outputs": [
        {
         "data": {
          "image/png": "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\n",
          "text/plain": "<Figure size 576x576 with 1 Axes>"
         },
         "metadata": {
          "needs_background": "light"
         },
         "output_type": "display_data"
        }
       ]
      }
     }
    },
    "version_major": 2,
    "version_minor": 0
   }
  }
 },
 "nbformat": 4,
 "nbformat_minor": 2
}
